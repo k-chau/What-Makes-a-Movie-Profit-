{
 "cells": [
  {
   "cell_type": "markdown",
   "metadata": {},
   "source": [
    "# Introduction and Background"
   ]
  },
  {
   "cell_type": "markdown",
   "metadata": {},
   "source": [
    "## Research Question\n",
    "Are there specific months for movie release dates that generate more revenue in the box office? Is there a correlation between movie budgets and their success in the box office?\n",
    "\n",
    "## Background\n",
    "This is a question of interest because the film industry may be able to find some different strategies to maximize their revenue, such as the best time to release their new movies or determine how much their budget will correlate to potential revenue. With so many movies always coming out, we wondered if there was a correlation between box office success and release dates in conjunction with how big a movie’s budgets is. In some of our background research we found that the number of user votes on IMDB for a movie corresponds with how well-known the film is, and that critics’ reviews don’t have that much of an influence on the success of a movie. \n",
    "\n",
    "We always hear about big budget movies because they’re the ones that usually have the ability to advertise the film to the point where everyone sees it. But sometimes movies with relatively small budgets rise to the top of the the box offices. Content has something to do with it, but we want to see how much of an impact the time at which you release a movie has on the success of the film. There have been some blog posts about which genre generally gets released for each month, and there was some indication that the winter months would be when the best movies (Oscar nominated ones) come out. \n",
    "\n",
    "Our question is important because it presents a visualization for the correlation between box office success and release dates in conjuction with movie budgets. We want to know if there is a strong correlation and if there is a pattern to movie release dates. It is unclear if there are popular months for movie releases or box office success. \n",
    "\n",
    "References (include links):\n",
    "- Movie Budget and Financial Performance Records (https://www.the-numbers.com/movie/budgets/) \n",
    "-- Tables that show top 20 movies that compare the movie's budget and revenue (greatest lost and earnings).\n",
    "- Analysis of factor affecting the success of the movie (http://rstudio-pubs-static.s3.amazonaws.com/233939_bbeb292c0c20440f97d31b616662c06f.html)\n",
    "-- Analysis between different website user voting data and the success of the movie in the box office in conjuction with the movie's budget. \n",
    "- Movie Release Calendar Strategy (https://riotstudios.com/blog/movie-release-calendar-strategy/) \n",
    "-- Months associated with genre/movie style released.\n",
    "\n",
    "## Hypothesis\n",
    "We predict that if a movie is released during July or August, then it will generate more revenue in the box office. We also predict that if a movie has a big budget, then it will generate more revenue in the box office. "
   ]
  },
  {
   "cell_type": "markdown",
   "metadata": {},
   "source": [
    "# Data Description"
   ]
  },
  {
   "cell_type": "markdown",
   "metadata": {},
   "source": [
    "This is a list of ~5000 movies from The Movie Database website. This dataset contains rows of movies with columns that dictate details of the movie. For example, the list contains keyword, revenue, budget, production company, imdb id, language, runtime, release date, and ratings concerning each movie.\n",
    "\n",
    "- Dataset Name: TMDb 5000 Movie Dataset\n",
    "- Link to the dataset: https://www.kaggle.com/tmdb/tmdb-movie-metadata/data\n",
    "- Number of observations: 4803\n",
    "\n",
    "This is a list of ~45000 movies from The Movie Database. This list contains budget, genre, original language, popularity, revenue, imdb id, adulterated, production company, homepage, collection, poster, overview, video, tagline, title, vote count, id, runtime, release date, and vote average (0-10) for each movie. \n",
    "\n",
    "- Dataset Name: Movies Metadata\n",
    "- Link to the dataset: https://www.kaggle.com/rounakbanik/the-movies-dataset/data\n",
    "- Number of observations: 45466\n",
    "\n",
    "We may be merging the datasets and compare if there are any duplicates, if so, we will compare the ‘revenue’, ‘budget’, and ‘release date’ and remove the duplicates. If there are any conflicting comparisons, we will manually change the data to the correct values. "
   ]
  },
  {
   "cell_type": "markdown",
   "metadata": {},
   "source": [
    "## Data Cleaning/Pre-processing"
   ]
  },
  {
   "cell_type": "code",
   "execution_count": 30,
   "metadata": {},
   "outputs": [],
   "source": [
    "%matplotlib inline\n",
    "\n",
    "import numpy as np\n",
    "import pandas as pd\n",
    "import matplotlib.pyplot as plt\n",
    "\n",
    "import patsy\n",
    "import statsmodels.api as sm\n",
    "import scipy.stats as stats\n",
    "from scipy.stats import ttest_ind, chisquare, normaltest"
   ]
  },
  {
   "cell_type": "code",
   "execution_count": 35,
   "metadata": {},
   "outputs": [],
   "source": [
    "# Import datafile  tmdb_5000_movies.csv to df1\n",
    "\n",
    "df1 = pd.read_csv('tmdb_5000_movies.csv')\n"
   ]
  },
  {
   "cell_type": "code",
   "execution_count": 36,
   "metadata": {},
   "outputs": [],
   "source": [
    "#Import datafile movies_metadata.csv to df1\n",
    "df2 = pd.read_csv('movies_metadata.csv', low_memory=False)"
   ]
  },
  {
   "cell_type": "code",
   "execution_count": 37,
   "metadata": {},
   "outputs": [],
   "source": [
    "df1.drop(['homepage', 'keywords', 'overview', 'runtime', 'tagline'], axis=1, inplace=True)\n",
    "df2.drop(['adult', 'belongs_to_collection', 'homepage', 'imdb_id', 'overview', 'poster_path', 'runtime', 'video', 'tagline'], axis=1, inplace=True)"
   ]
  },
  {
   "cell_type": "code",
   "execution_count": 55,
   "metadata": {},
   "outputs": [],
   "source": [
    "pd.to_numeric(df1['revenue'], errors='coerce')\n",
    "pd.to_numeric(df1['budget'], errors='coerce')\n",
    "pd.to_numeric(df2['revenue'], errors='coerce')\n",
    "pd.to_numeric(df2['budget'], errors='coerce')             \n",
    "df1.dropna(subset = [\"revenue\",\"budget\"],inplace=True)\n",
    "df2.dropna(subset = [\"revenue\",\"budget\"],inplace=True)"
   ]
  },
  {
   "cell_type": "code",
   "execution_count": 56,
   "metadata": {
    "collapsed": true
   },
   "outputs": [],
   "source": [
    "df1 = df1[df1.revenue != 0]\n",
    "df2 = df2[df2.revenue != 0]\n",
    "df1 = df1[df1.budget != 0]\n",
    "df2 = df2[df2.budget != 0]"
   ]
  },
  {
   "cell_type": "code",
   "execution_count": 59,
   "metadata": {},
   "outputs": [
    {
     "data": {
      "text/plain": [
       "12000000.0     20\n",
       "10000000.0     19\n",
       "11000000.0     19\n",
       "2000000.0      18\n",
       "6000000.0      17\n",
       "5000000.0      14\n",
       "500000.0       13\n",
       "8000000.0      13\n",
       "1.0            12\n",
       "14000000.0     12\n",
       "7000000.0      11\n",
       "1000000.0      10\n",
       "20000000.0     10\n",
       "3000000.0      10\n",
       "1500000.0       9\n",
       "3.0             9\n",
       "4000000.0       9\n",
       "30000000.0      8\n",
       "2500000.0       8\n",
       "16000000.0      8\n",
       "15000000.0      8\n",
       "25000000.0      8\n",
       "4100000.0       8\n",
       "4300000.0       7\n",
       "13000000.0      7\n",
       "18000000.0      7\n",
       "1400000.0       6\n",
       "9000000.0       6\n",
       "1300000.0       6\n",
       "100000000.0     6\n",
       "               ..\n",
       "77156.0         1\n",
       "95608995.0      1\n",
       "17654912.0      1\n",
       "195745823.0     1\n",
       "41596251.0      1\n",
       "1234254.0       1\n",
       "441809770.0     1\n",
       "46836394.0      1\n",
       "20796847.0      1\n",
       "2020700.0       1\n",
       "408247917.0     1\n",
       "7820688.0       1\n",
       "15379253.0      1\n",
       "36351350.0      1\n",
       "99965753.0      1\n",
       "3713768.0       1\n",
       "8345056.0       1\n",
       "3123963.0       1\n",
       "40547440.0      1\n",
       "288383523.0     1\n",
       "406881.0        1\n",
       "1614266.0       1\n",
       "1440000.0       1\n",
       "933959197.0     1\n",
       "267045765.0     1\n",
       "106260000.0     1\n",
       "1030938.0       1\n",
       "8826094.0       1\n",
       "441818803.0     1\n",
       "32.0            1\n",
       "Name: revenue, Length: 6862, dtype: int64"
      ]
     },
     "execution_count": 59,
     "metadata": {},
     "output_type": "execute_result"
    }
   ],
   "source": [
    "df2['revenue'].value_counts()"
   ]
  },
  {
   "cell_type": "code",
   "execution_count": null,
   "metadata": {
    "collapsed": true
   },
   "outputs": [],
   "source": [
    "df = pd.concat([df1, df2], ignore_index=True)\n",
    "df"
   ]
  },
  {
   "cell_type": "code",
   "execution_count": null,
   "metadata": {
    "collapsed": true
   },
   "outputs": [],
   "source": [
    "df.drop_duplicates('id', inplace=True)\n",
    "df"
   ]
  },
  {
   "cell_type": "code",
   "execution_count": null,
   "metadata": {
    "collapsed": true
   },
   "outputs": [],
   "source": []
  }
 ],
 "metadata": {
  "kernelspec": {
   "display_name": "Python 3",
   "language": "python",
   "name": "python3"
  },
  "language_info": {
   "codemirror_mode": {
    "name": "ipython",
    "version": 3
   },
   "file_extension": ".py",
   "mimetype": "text/x-python",
   "name": "python",
   "nbconvert_exporter": "python",
   "pygments_lexer": "ipython3",
   "version": "3.6.3"
  }
 },
 "nbformat": 4,
 "nbformat_minor": 2
}
