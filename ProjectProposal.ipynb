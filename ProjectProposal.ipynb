{
 "cells": [
  {
   "cell_type": "markdown",
   "metadata": {},
   "source": [
    "# COGS 108 - Project Proposal"
   ]
  },
  {
   "cell_type": "markdown",
   "metadata": {},
   "source": [
    "## Important\n",
    "\n",
    "- Make sure all group members (3-5 people) are listed in the group members section.\n",
    "- ONE, and only one, member of your group should upload this notebook to TritonED. \n",
    "- Each member of the group will receive the same grade on this assignment. \n",
    "- Keep the file name the same: submit the file 'ProjectProposal.ipynb'"
   ]
  },
  {
   "cell_type": "markdown",
   "metadata": {},
   "source": [
    "## Overview"
   ]
  },
  {
   "cell_type": "markdown",
   "metadata": {},
   "source": [
    "Read the project description and detailed instructions for this assignment in the 'ProjectOutline' document."
   ]
  },
  {
   "cell_type": "markdown",
   "metadata": {},
   "source": [
    "## Group Members: Fill in the Student IDs of each group member here\n",
    "\n",
    "Replace the lines below to list each persons full student ID. Add lines as needed for your group size, and make sure each ID is listed on a separate line. \n",
    "\n",
    "- A11697191\n",
    "- A13115965\n",
    "- A13691309\n",
    "- A12182676\n",
    "- A13235133"
   ]
  },
  {
   "cell_type": "markdown",
   "metadata": {},
   "source": [
    "### Research Question\n",
    "\n",
    "What is your research question? (1-2 sentences)"
   ]
  },
  {
   "cell_type": "markdown",
   "metadata": {},
   "source": [
    "Are there specific months for movie release dates that generate more revenue in the box office? Is there a correlation between movie budgets and their success in the box office?"
   ]
  },
  {
   "cell_type": "markdown",
   "metadata": {},
   "source": [
    "### Hypothesis\n",
    "\n",
    "What is your main hypothesis and predictions? (2-3 sentences)"
   ]
  },
  {
   "cell_type": "markdown",
   "metadata": {},
   "source": [
    "We predict that if a movie is released during July or August, then it will generate more revenue in the box office. We also predict that if a movie has a big budget, then it will generate more revenue in the box office. "
   ]
  },
  {
   "cell_type": "markdown",
   "metadata": {},
   "source": [
    "### Dataset(s)\n",
    "\n",
    "What data will you use to answer your question? Describe the dataset(s) in terms of number of observations, what kind of features it contains, etc. You must use at least one dataset containing at least approximately 1000 observations (if your data are smaller but you feel they are sufficient, email Prof. Voytek). You are welcome (and in fact recommended) to find multiple datasets! If you do so, describe each one, and briefly explain how you will combine them together. "
   ]
  },
  {
   "cell_type": "markdown",
   "metadata": {},
   "source": [
    "This is a list of ~5000 movies from The Movie Database website. This dataset contains rows of movies with columns that dictate details of the movie. For example, the list contains keyword, revenue, budget, production company, imdb id, language, runtime, release date, and ratings concerning each movie.\n",
    "\n",
    "- Dataset Name: TMDb 5000 Movie Dataset\n",
    "- Link to the dataset: https://www.kaggle.com/tmdb/tmdb-movie-metadata/data\n",
    "- Number of observations: 4803\n",
    "\n",
    "This is a list of ~45000 movies from The Movie Database. This list contains budget, genre, original language, popularity, revenue, imdb id, adulterated, production company, homepage, collection, poster, overview, video, tagline, title, vote count, id, runtime, release date, and vote average (0-10) for each movie. \n",
    "\n",
    "- Dataset Name: Movies Metadata\n",
    "- Link to the dataset: https://www.kaggle.com/rounakbanik/the-movies-dataset/data\n",
    "- Number of observations: 45466\n",
    "\n",
    "We may be merging the datasets and compare if there are any duplicates, if so, we will compare the ‘revenue’, ‘budget’, and ‘release date’ and remove the duplicates. If there are any conflicting comparisons, we will manually change the data to the correct values. "
   ]
  },
  {
   "cell_type": "markdown",
   "metadata": {},
   "source": [
    "### Background and Prior Work\n",
    "\n",
    "Why is this question of interest, what background information led you to your hypothesis, and why is this important?\n",
    "\n",
    "Find some relevant prior work, and reference those sources. Even if you think you have a totally novel question, find the most similar prior work that you can and discuss how it relates to your project. \n",
    "\n",
    "References can be research publications, but they need not be. Blogs, github repositories, company websites, etc., are all viable references if they are relevant to your project.\n",
    "\n",
    "(2-3 paragraphs, including at least 2 references)"
   ]
  },
  {
   "cell_type": "markdown",
   "metadata": {},
   "source": [
    "*Fill in your background and prior work here*\n",
    "\n",
    "This is a question of interest because the film industry may be able to find some different strategies to maximize their revenue, such as the best time to release their new movies or determine how much their budget will correlate to potential revenue. With so many movies always coming out, we wondered if there was a correlation between box office success and release dates in conjunction with how big a movie’s budgets is. In some of our background research we found that the number of user votes on IMDB for a movie corresponds with how well-known the film is, and that critics’ reviews don’t have that much of an influence on the success of a movie. \n",
    "\n",
    "We always hear about big budget movies because they’re the ones that usually have the ability to advertise the film to the point where everyone sees it. But sometimes movies with relatively small budgets rise to the top of the the box offices. Content has something to do with it, but we want to see how much of an impact the time at which you release a movie has on the success of the film. There have been some blog posts about which genre generally gets released for each month, and there was some indication that the winter months would be when the best movies (Oscar nominated ones) come out. \n",
    "\n",
    "Our question is important because it presents a visualization for the correlation between box office success and release dates in conjuction with movie budgets. We want to know if there is a strong correlation and if there is a pattern to movie release dates. It is unclear if there are popular months for movie releases or box office success. \n",
    "\n",
    "References (include links):\n",
    "- Movie Budget and Financial Performance Records (https://www.the-numbers.com/movie/budgets/) \n",
    "-- Tables that show top 20 movies that compare the movie's budget and revenue (greatest lost and earnings).\n",
    "- Analysis of factor affecting the success of the movie (http://rstudio-pubs-static.s3.amazonaws.com/233939_bbeb292c0c20440f97d31b616662c06f.html)\n",
    "-- Analysis between different website user voting data and the success of the movie in the box office in conjuction with the movie's budget. \n",
    "- Movie Release Calendar Strategy (https://riotstudios.com/blog/movie-release-calendar-strategy/) \n",
    "-- Months associated with genre/movie style released."
   ]
  },
  {
   "cell_type": "markdown",
   "metadata": {},
   "source": [
    "### Proposed Methods\n",
    "\n",
    "What methods will you use to analyze your data?\n",
    "\n",
    "- How 'clean' is the data? To the extent that it requires cleaning, how will you do so?\n",
    "- How will you analyze the data? Be as specific as you can. Briefly mention any pre-processing steps that are required for your methods (for example, checking data distributions and performing any transformations that may be required). Include a brief outline of how you will apply your chosen method(s). \n",
    "- What do you plan to report? Briefly mention any key visualizations you plan to create, and/or the kind of results you will be able to report that address your question (this could be, for example, the outcome of some statistical test(s), prediction error on a model, a model fit parameter, etc.).\n",
    "- Include a list of packages you expect to use for you project. If you plan to use packages we have not used in class, add a very brief description about them (a few words is sufficient). "
   ]
  },
  {
   "cell_type": "markdown",
   "metadata": {},
   "source": [
    "*Fill in your proposed methods information here:*\n",
    "\n",
    "*Data Cleaning (2-3 sentences)*\n",
    "\n",
    "The data contains some missing values. To ‘clean’ the data, we would remove the row containing missing/empty values. For example, some values are marked as zero in the ‘revenue’ and ‘budget’ columns. Also, our project is mainly interested in movies’ gross revenue and their correlation to release date so we would drop the data columns that we are uninterested in i.e. ‘homepage’, ‘runtime’, ‘tagline’, etc.. We will use the drop function to remove the columns and rewrite the dataframe to remove the zero values in ‘budget’ and ‘revenue’. However, we will keep ‘production_countries’ column because our data may more or less so be correlated to the United States’ seasons. \n",
    "\n",
    "*Data Analysis (1-2 paragraphs)*\n",
    "\n",
    "Some pre-processing steps that may be required for our methods are: (1) remove older movies -- trimming the movies that are older than two decades or (2) adjust for inflation (3) creating dataframes that contain movies that share the same release month (4) making a new column that contains the gross revenue of each movie (revenue - budget). \n",
    "\n",
    "The method we will be implementing in our project (after completing the pre-processing) is plotting and finding correlations. First, we want to see the number of movies produced in the United States. We will sum the number of rows that hold the value of ‘United States of America’ in their ‘production_countries’ column  we will be plotting the count of the number of movies released in each month. This means we will grab the number of rows in each dataframe sorted by month and plot it on a bar graph for a visual. These values will help calculate the average revenue generated in that month. We will also generate a scatter plot to determine a correlation between ‘budget’ and ‘revenue’ for the purpose of seeing a general trend. This will be done using matplotlib and setting ‘budget’ as the x-axis and ‘revenue’ as the y-axis, or vice versa. The average revenue garnered within a month would be measured by the sum of the gross revenue generated by each movie in that month divided by the number of movies released in that month. Having that gross revenue column, we can sum the whole column and divide by the number of rows to calculate the average for each month since each dataframe will be representative of a month. Each month’s movie revenue will be plotted on a line graph, using matplotlib, to see if there is a shared correlation. This will show if movie release dates are dependent on a specific month to generate more profit.\n",
    "\n",
    "\n",
    "*What to report (2-3 sentences)*\n",
    "\n",
    "We plan to report the correlation between the revenue the movie generated and the release month. There will be a scatter plot that displays the trend shared between budget and revenue. This can present any extreme outliers and a possible trend. A histogram that shows the number of movies released in each month. A line graph to illustrate the average movies generated within that specified month.\n",
    "\n",
    "Packages we plan to use:\n",
    "- a numpy\n",
    "- b matplotlib\n",
    "- c pandas"
   ]
  },
  {
   "cell_type": "markdown",
   "metadata": {},
   "source": [
    "### Ethics and Privacy\n",
    "\n",
    "Briefly acknowledge and address any potential issues of ethics and privacy for the proposed project. In particular:\n",
    "- Do you have permission to use this data, for this purpose?\n",
    "- Are there privacy concerns regarding your datasets that you need to deal with, and/or terms of use that you need to comply with?\n",
    "- Are there potential biases in your dataset(s), in terms of who it composes, and how it was collected, that may be problematic in terms of it allowing for equitable analysis? (For example, does your data exclude particular populations, or is it likely to reflect particular human biases in a way that could be a problem?) \n",
    "- Are there any other issues related to your topic area, data, and/or analyses that are potentially problematic in terms of data privacy and equitable impact?\n",
    "- How will you handle any issues you identify?\n",
    "\n",
    "\n",
    "We do have permission to use this data, for this purpose. These are open, public datasets released on Kaggle. There are no privacy concerns regarding our datasets that we need to deal with and there are no terms of use that we need to comply with. However, there are potential biases in our dataset. Due to inflation, the value of money may be different in each year. To address this, we may use inflation rate data to find the actual value for ‘budget’ and ‘revenue’ or trim the list to movies made in the past decade or so. There does not seem to be any other issues related to our topic area, data, and/or analyses that are potentially problematic in terms of data privacy and equitable impact. However, if it happens otherwise, we will handle these issues by omitting that value or removing the data completely."
   ]
  },
  {
   "cell_type": "markdown",
   "metadata": {},
   "source": [
    "### Discussion\n",
    "\n",
    "Discuss your project, looking forward to what your results might mean, how they fit it in with what is already known, and what problems you may encounter. \n",
    "\n",
    "In particular:\n",
    "- If your analyses and hypotheses are correct, what will be the contribution of this project to the topic domain? \n",
    "- Alternatively, what will you do if you methods don't work and/or your hypotheses are wrong? \n",
    "- What are the potential pitfalls and potential confounds of your data and/or methods that may cause problems, and/or influence your interpretations?\n",
    "\n",
    "(2-3 paragraphs)"
   ]
  },
  {
   "cell_type": "markdown",
   "metadata": {},
   "source": [
    "If our analyses and hypotheses are correct, the contribution of this project to the topic domain is that big budget, mid-summer movie releases generate greater revenue. This project will contribute that movies released in the United States will sell more tickets if sold during the summer due to breaks and holidays. The expected correlation with big budget and mid-summer released movies will illustrate the targeted and expected audience. It provides more information for potential factors that can make movies sell more over the summer.\n",
    "\n",
    "If our methods do not work, we will change the way we are organizing and visualizing our data. The data will be further categorized into specific genres, as well as released months. This classification may imply a more detailed trend following months and genres. Whereas if our hypotheses are wrong, we will report our project’s conclusions and analyze our results. If it is a different trend than what we hypothesized, we will analyze what may be special about those months and what kind of movies are generating large revenue without the large budget. However if it shows little to no trend, we will further delve into potential factors that can sell a movie i.e. movie genre.\n",
    "\n",
    "The potential pitfalls of our data is if there is not enough data to calculate the gross revenue to illustrate its correlation to movie release date. This will be a potential confound because it will interfere with discovering our result. This can also influence our interpretations because it can give an inaccurate trend of generated movie revenue. An even greater potential pitfall is if there is not enough data to decipher a trend. The methods pose potential pitfalls if there is not enough data because they will present possibly skewed results."
   ]
  }
 ],
 "metadata": {
  "kernelspec": {
   "display_name": "Python 3",
   "language": "python",
   "name": "python3"
  },
  "language_info": {
   "codemirror_mode": {
    "name": "ipython",
    "version": 3
   },
   "file_extension": ".py",
   "mimetype": "text/x-python",
   "name": "python",
   "nbconvert_exporter": "python",
   "pygments_lexer": "ipython3",
   "version": "3.6.3"
  }
 },
 "nbformat": 4,
 "nbformat_minor": 2
}
