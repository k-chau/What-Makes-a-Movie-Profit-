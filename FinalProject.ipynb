{
 "cells": [
  {
   "cell_type": "markdown",
   "metadata": {},
   "source": [
    "# Introduction and Background"
   ]
  },
  {
   "cell_type": "markdown",
   "metadata": {},
   "source": [
    "## Research Question\n",
    "Are there specific months for movie release dates that generate more revenue in the box office? Is there a correlation between movie budgets and their success in the box office?\n",
    "\n",
    "## Background\n",
    "This is a question of interest because the film industry may be able to find some different strategies to maximize their revenue, such as the best time to release their new movies or determine how much their budget will correlate to potential revenue. With so many movies always coming out, we wondered if there was a correlation between box office success and release dates in conjunction with how big a movie’s budgets is. In some of our background research we found that the number of user votes on IMDB for a movie corresponds with how well-known the film is, and that critics’ reviews don’t have that much of an influence on the success of a movie. \n",
    "\n",
    "We always hear about big budget movies because they’re the ones that usually have the ability to advertise the film to the point where everyone sees it. But sometimes movies with relatively small budgets rise to the top of the the box offices. Content has something to do with it, but we want to see how much of an impact the time at which you release a movie has on the success of the film. There have been some blog posts about which genre generally gets released for each month, and there was some indication that the winter months would be when the best movies (Oscar nominated ones) come out. \n",
    "\n",
    "Our question is important because it presents a visualization for the correlation between box office success and release dates in conjuction with movie budgets. We want to know if there is a strong correlation and if there is a pattern to movie release dates. It is unclear if there are popular months for movie releases or box office success. \n",
    "\n",
    "References (include links):\n",
    "- Movie Budget and Financial Performance Records (https://www.the-numbers.com/movie/budgets/) \n",
    "-- Tables that show top 20 movies that compare the movie's budget and revenue (greatest lost and earnings).\n",
    "- Analysis of factor affecting the success of the movie (http://rstudio-pubs-static.s3.amazonaws.com/233939_bbeb292c0c20440f97d31b616662c06f.html)\n",
    "-- Analysis between different website user voting data and the success of the movie in the box office in conjuction with the movie's budget. \n",
    "- Movie Release Calendar Strategy (https://riotstudios.com/blog/movie-release-calendar-strategy/) \n",
    "-- Months associated with genre/movie style released.\n",
    "\n",
    "## Hypothesis\n",
    "We predict that if a movie is released during July or August, then it will generate more revenue in the box office. We also predict that if a movie has a big budget, then it will generate more revenue in the box office. "
   ]
  },
  {
   "cell_type": "markdown",
   "metadata": {},
   "source": [
    "# Data Description"
   ]
  },
  {
   "cell_type": "markdown",
   "metadata": {},
   "source": [
    "This is a list of ~5000 movies from The Movie Database website. This dataset contains rows of movies with columns that dictate details of the movie. For example, the list contains keyword, revenue, budget, production company, imdb id, language, runtime, release date, and ratings concerning each movie.\n",
    "\n",
    "- Dataset Name: TMDb 5000 Movie Dataset\n",
    "- Link to the dataset: https://www.kaggle.com/tmdb/tmdb-movie-metadata/data\n",
    "- Number of observations: 4803\n",
    "\n",
    "This is a list of ~45000 movies from The Movie Database. This list contains budget, genre, original language, popularity, revenue, imdb id, adulterated, production company, homepage, collection, poster, overview, video, tagline, title, vote count, id, runtime, release date, and vote average (0-10) for each movie. \n",
    "\n",
    "- Dataset Name: Movies Metadata\n",
    "- Link to the dataset: https://www.kaggle.com/rounakbanik/the-movies-dataset/data\n",
    "- Number of observations: 45466\n",
    "\n",
    "We may be merging the datasets and compare if there are any duplicates, if so, we will compare the ‘revenue’, ‘budget’, and ‘release date’ and remove the duplicates. If there are any conflicting comparisons, we will manually change the data to the correct values. "
   ]
  },
  {
   "cell_type": "markdown",
   "metadata": {},
   "source": [
    "## Data Cleaning/Pre-processing\n"
   ]
  },
  {
   "cell_type": "code",
   "execution_count": 1,
   "metadata": {},
   "outputs": [
    {
     "name": "stderr",
     "output_type": "stream",
     "text": [
      "C:\\Users\\amilkcarton\\Anaconda3\\lib\\site-packages\\statsmodels\\compat\\pandas.py:56: FutureWarning: The pandas.core.datetools module is deprecated and will be removed in a future version. Please use the pandas.tseries module instead.\n",
      "  from pandas.core import datetools\n"
     ]
    },
    {
     "name": "stdout",
     "output_type": "stream",
     "text": [
      "Requirement already satisfied: easymoney in c:\\users\\amilkcarton\\anaconda3\\lib\\site-packages\n",
      "Requirement already satisfied: numpy in c:\\users\\amilkcarton\\anaconda3\\lib\\site-packages (from easymoney)\n",
      "Requirement already satisfied: pandas in c:\\users\\amilkcarton\\anaconda3\\lib\\site-packages (from easymoney)\n",
      "Requirement already satisfied: wbdata in c:\\users\\amilkcarton\\anaconda3\\lib\\site-packages (from easymoney)\n",
      "Requirement already satisfied: pycountry in c:\\users\\amilkcarton\\anaconda3\\lib\\site-packages (from easymoney)\n",
      "Requirement already satisfied: requests in c:\\users\\amilkcarton\\anaconda3\\lib\\site-packages (from easymoney)\n",
      "Requirement already satisfied: python-dateutil>=2 in c:\\users\\amilkcarton\\anaconda3\\lib\\site-packages (from pandas->easymoney)\n",
      "Requirement already satisfied: pytz>=2011k in c:\\users\\amilkcarton\\anaconda3\\lib\\site-packages (from pandas->easymoney)\n",
      "Requirement already satisfied: decorator in c:\\users\\amilkcarton\\anaconda3\\lib\\site-packages (from wbdata->easymoney)\n",
      "Requirement already satisfied: chardet<3.1.0,>=3.0.2 in c:\\users\\amilkcarton\\anaconda3\\lib\\site-packages (from requests->easymoney)\n",
      "Requirement already satisfied: idna<2.7,>=2.5 in c:\\users\\amilkcarton\\anaconda3\\lib\\site-packages (from requests->easymoney)\n",
      "Requirement already satisfied: urllib3<1.23,>=1.21.1 in c:\\users\\amilkcarton\\anaconda3\\lib\\site-packages (from requests->easymoney)\n",
      "Requirement already satisfied: certifi>=2017.4.17 in c:\\users\\amilkcarton\\anaconda3\\lib\\site-packages (from requests->easymoney)\n",
      "Requirement already satisfied: six>=1.5 in c:\\users\\amilkcarton\\anaconda3\\lib\\site-packages (from python-dateutil>=2->pandas->easymoney)\n"
     ]
    },
    {
     "name": "stderr",
     "output_type": "stream",
     "text": [
      "You are using pip version 9.0.1, however version 9.0.2 is available.\n",
      "You should consider upgrading via the 'python -m pip install --upgrade pip' command.\n"
     ]
    }
   ],
   "source": [
    "%matplotlib inline\n",
    "\n",
    "import numpy as np\n",
    "import pandas as pd\n",
    "import matplotlib.pyplot as plt\n",
    "\n",
    "import patsy\n",
    "import statsmodels.api as sm\n",
    "import scipy.stats as stats\n",
    "from scipy.stats import ttest_ind, chisquare, normaltest\n",
    "\n",
    "!pip install easymoney\n",
    "from easymoney.money import EasyPeasy"
   ]
  },
  {
   "cell_type": "code",
   "execution_count": 2,
   "metadata": {
    "collapsed": true
   },
   "outputs": [],
   "source": [
    "# Import datafile tmdb_5000_movies.csv to df1\n",
    "\n",
    "df1 = pd.read_csv('tmdb_5000_movies.csv')"
   ]
  },
  {
   "cell_type": "code",
   "execution_count": 3,
   "metadata": {
    "collapsed": true
   },
   "outputs": [],
   "source": [
    "# Import datafile movies_metadata.csv to df2\n",
    "df2 = pd.read_csv('movies_metadata.csv', low_memory=False)"
   ]
  },
  {
   "cell_type": "code",
   "execution_count": 4,
   "metadata": {
    "collapsed": true
   },
   "outputs": [],
   "source": [
    "# Drop unrelated columns\n",
    "df1.drop(['homepage', 'keywords', 'overview', 'runtime', 'tagline'], axis=1, inplace=True)\n",
    "df2.drop(['adult', 'belongs_to_collection', 'homepage', 'imdb_id', 'overview', 'poster_path', 'runtime', 'video', 'tagline'], axis=1, inplace=True)"
   ]
  },
  {
   "cell_type": "code",
   "execution_count": 5,
   "metadata": {
    "collapsed": true
   },
   "outputs": [],
   "source": [
    "# Change str to int and drop all unnemerical elements\n",
    "pd.to_numeric(df1['revenue'], errors='coerce')\n",
    "pd.to_numeric(df1['budget'], errors='coerce')\n",
    "pd.to_numeric(df2['revenue'], errors='coerce')\n",
    "pd.to_numeric(df2['budget'], errors='coerce') \n",
    "\n",
    "df1.dropna(subset = [\"revenue\",\"budget\"],inplace=True)\n",
    "df2.dropna(subset = [\"revenue\",\"budget\"],inplace=True)\n",
    "df2.budget = df2.budget.astype(np.int64)"
   ]
  },
  {
   "cell_type": "code",
   "execution_count": 6,
   "metadata": {
    "collapsed": true
   },
   "outputs": [],
   "source": [
    "# Drop unrepresentable/abnormal value for revenue and budget \n",
    "df1 = df1[df1.revenue >= 1000]\n",
    "df2 = df2[df2.revenue >= 1000]\n",
    "df1 = df1[df1.budget >= 1000]\n",
    "df2 = df2[df2.budget >= 1000]"
   ]
  },
  {
   "cell_type": "code",
   "execution_count": 7,
   "metadata": {
    "collapsed": true
   },
   "outputs": [],
   "source": [
    "# Concat two dataset into one called df\n",
    "df = pd.concat([df1, df2], ignore_index=True)"
   ]
  },
  {
   "cell_type": "code",
   "execution_count": 8,
   "metadata": {
    "collapsed": true
   },
   "outputs": [],
   "source": [
    "# Drop repeated infomation.\n",
    "df.drop_duplicates('id', inplace=True)"
   ]
  },
  {
   "cell_type": "code",
   "execution_count": 9,
   "metadata": {
    "collapsed": true
   },
   "outputs": [],
   "source": [
    "# Split the release date to year month and date \n",
    "df['year'] = pd.DatetimeIndex(df['release_date']).year\n",
    "df['month'] = pd.DatetimeIndex(df['release_date']).month\n",
    "df['date'] = pd.DatetimeIndex(df['release_date']).day"
   ]
  },
  {
   "cell_type": "code",
   "execution_count": 10,
   "metadata": {
    "collapsed": true
   },
   "outputs": [],
   "source": [
    "# Remove the movies that may be too old\n",
    "df = df[df.year >= 1990]\n",
    "#df['gender'].value_counts()"
   ]
  },
  {
   "cell_type": "code",
   "execution_count": 11,
   "metadata": {
    "collapsed": true
   },
   "outputs": [],
   "source": [
    "# Adjust inflation rate \n",
    "ep = EasyPeasy()"
   ]
  },
  {
   "cell_type": "code",
   "execution_count": 12,
   "metadata": {},
   "outputs": [
    {
     "name": "stderr",
     "output_type": "stream",
     "text": [
      "C:\\Users\\amilkcarton\\Anaconda3\\lib\\site-packages\\easymoney\\money.py:213: UserWarning: \n",
      "Inflation (CPI) data for 2017 in 'United States' could not be obtained from the\n",
      "International Monetary Fund database currently cached.\n",
      "Falling back to 2016.\n",
      "  warn(warn_msg % (year, natural_region_name, str(fall_back_year)))\n"
     ]
    }
   ],
   "source": [
    "# Adjust the inflation of budget, make a new column called adjusted_budget\n",
    "adjusted_budget = []\n",
    "for index, row in df.iterrows():\n",
    "    adjusted_budget.append(ep.normalize(amount=row['budget'], region=\"US\", from_year=row['year'], to_year='latest',base_currency=\"USD\", pretty_print=False))\n",
    "df['adjusted_budget'] = adjusted_budget"
   ]
  },
  {
   "cell_type": "code",
   "execution_count": 13,
   "metadata": {},
   "outputs": [
    {
     "name": "stderr",
     "output_type": "stream",
     "text": [
      "C:\\Users\\amilkcarton\\Anaconda3\\lib\\site-packages\\easymoney\\money.py:213: UserWarning: \n",
      "Inflation (CPI) data for 2017 in 'United States' could not be obtained from the\n",
      "International Monetary Fund database currently cached.\n",
      "Falling back to 2016.\n",
      "  warn(warn_msg % (year, natural_region_name, str(fall_back_year)))\n"
     ]
    }
   ],
   "source": [
    "# Adjust the inflation of revenue, make a new column called adjusted_revenue\n",
    "adjusted_revenue = []\n",
    "for index, row in df.iterrows():\n",
    "    adjusted_revenue.append(ep.normalize(amount=row['revenue'], region=\"US\", from_year=row['year'], to_year='latest',base_currency=\"USD\", pretty_print=False))\n",
    "df['adjusted_revenue'] = adjusted_revenue"
   ]
  },
  {
   "cell_type": "code",
   "execution_count": 14,
   "metadata": {
    "collapsed": true
   },
   "outputs": [],
   "source": [
    "# Add column return_rate and profit\n",
    "df['return_rate'] = df['adjusted_revenue']/df['adjusted_budget']\n",
    "df['profit'] = df['adjusted_revenue']- df['adjusted_budget']\n",
    "\n",
    "#df['return_rate'].value_counts()\n",
    "#extrem = df['return_rate']>40\n",
    "#df[extrem]"
   ]
  },
  {
   "cell_type": "code",
   "execution_count": 15,
   "metadata": {
    "collapsed": true
   },
   "outputs": [],
   "source": [
    "# In this step, we are going to deal with outlier values by removing all rows in which the data for the steps column exceeds +/- 3 standard deviations above or below the mean.\n",
    "std3 = 3 * df['profit'].std()\n",
    "std_max = df['profit'].mean() + std3\n",
    "std_min = df['profit'].mean() - std3"
   ]
  },
  {
   "cell_type": "code",
   "execution_count": 16,
   "metadata": {},
   "outputs": [],
   "source": [
    "# Now use these values to remove any rows with steps data above or below these thresholds\n",
    "df = df[df['profit'] > std_min]\n",
    "df = df[df['profit'] < std_max]"
   ]
  },
  {
   "cell_type": "code",
   "execution_count": 17,
   "metadata": {},
   "outputs": [],
   "source": [
    "# Use the method below to extract the main genres. \n",
    "def extract_main_genre(genres):\n",
    "    s = genres\n",
    "    # Find the first : after id\n",
    "    start = s.find(':') + 1\n",
    "    s = s[start:]\n",
    "    start = s.find(':') + 3\n",
    "    end = s.find('}') - 1\n",
    "    return s[start:end]\n",
    "df['main_genre'] = df[\"genres\"].apply(extract_main_genre)"
   ]
  },
  {
   "cell_type": "code",
   "execution_count": 18,
   "metadata": {
    "collapsed": true
   },
   "outputs": [],
   "source": [
    "# Use the method below to extract the main production company\n",
    "def extract_main_production(companies):\n",
    "    return companies[companies.find(':') + 3: companies.find(\",\") - 1]\n",
    "df['main_production_company'] = df['production_companies'].apply(extract_main_production)"
   ]
  },
  {
   "cell_type": "code",
   "execution_count": 20,
   "metadata": {},
   "outputs": [
    {
     "data": {
      "text/plain": [
       "9"
      ]
     },
     "execution_count": 20,
     "metadata": {},
     "output_type": "execute_result"
    }
   ],
   "source": [
    "# Check if any rows have empty genre\n",
    "sum(df.main_genre == '')"
   ]
  },
  {
   "cell_type": "markdown",
   "metadata": {},
   "source": [
    "There seems to be nine rows that do not contain a genre. We will drop these rows."
   ]
  },
  {
   "cell_type": "code",
   "execution_count": 21,
   "metadata": {},
   "outputs": [],
   "source": [
    "# Loop through df to drop rows that do not contain genres\n",
    "for index, row in df.iterrows():\n",
    "    if (row['main_genre'] == ''):\n",
    "        df.drop(index, inplace=True)"
   ]
  },
  {
   "cell_type": "code",
   "execution_count": 22,
   "metadata": {},
   "outputs": [
    {
     "data": {
      "text/html": [
       "<div>\n",
       "<style>\n",
       "    .dataframe thead tr:only-child th {\n",
       "        text-align: right;\n",
       "    }\n",
       "\n",
       "    .dataframe thead th {\n",
       "        text-align: left;\n",
       "    }\n",
       "\n",
       "    .dataframe tbody tr th {\n",
       "        vertical-align: top;\n",
       "    }\n",
       "</style>\n",
       "<table border=\"1\" class=\"dataframe\">\n",
       "  <thead>\n",
       "    <tr style=\"text-align: right;\">\n",
       "      <th></th>\n",
       "      <th>budget</th>\n",
       "      <th>genres</th>\n",
       "      <th>id</th>\n",
       "      <th>original_language</th>\n",
       "      <th>original_title</th>\n",
       "      <th>popularity</th>\n",
       "      <th>production_companies</th>\n",
       "      <th>production_countries</th>\n",
       "      <th>release_date</th>\n",
       "      <th>revenue</th>\n",
       "      <th>...</th>\n",
       "      <th>vote_count</th>\n",
       "      <th>year</th>\n",
       "      <th>month</th>\n",
       "      <th>date</th>\n",
       "      <th>adjusted_budget</th>\n",
       "      <th>adjusted_revenue</th>\n",
       "      <th>return_rate</th>\n",
       "      <th>profit</th>\n",
       "      <th>main_genre</th>\n",
       "      <th>main_production_company</th>\n",
       "    </tr>\n",
       "  </thead>\n",
       "  <tbody>\n",
       "    <tr>\n",
       "      <th>2</th>\n",
       "      <td>245000000</td>\n",
       "      <td>[{\"id\": 28, \"name\": \"Action\"}, {\"id\": 12, \"nam...</td>\n",
       "      <td>206647</td>\n",
       "      <td>en</td>\n",
       "      <td>Spectre</td>\n",
       "      <td>107.377</td>\n",
       "      <td>[{\"name\": \"Columbia Pictures\", \"id\": 5}, {\"nam...</td>\n",
       "      <td>[{\"iso_3166_1\": \"GB\", \"name\": \"United Kingdom\"...</td>\n",
       "      <td>2015-10-26</td>\n",
       "      <td>880674609.0</td>\n",
       "      <td>...</td>\n",
       "      <td>4466.0</td>\n",
       "      <td>2015</td>\n",
       "      <td>10</td>\n",
       "      <td>26</td>\n",
       "      <td>2.480909e+08</td>\n",
       "      <td>8.917851e+08</td>\n",
       "      <td>3.594590</td>\n",
       "      <td>6.436942e+08</td>\n",
       "      <td>Action</td>\n",
       "      <td>Columbia Pictures</td>\n",
       "    </tr>\n",
       "    <tr>\n",
       "      <th>4</th>\n",
       "      <td>260000000</td>\n",
       "      <td>[{\"id\": 28, \"name\": \"Action\"}, {\"id\": 12, \"nam...</td>\n",
       "      <td>49529</td>\n",
       "      <td>en</td>\n",
       "      <td>John Carter</td>\n",
       "      <td>43.927</td>\n",
       "      <td>[{\"name\": \"Walt Disney Pictures\", \"id\": 2}]</td>\n",
       "      <td>[{\"iso_3166_1\": \"US\", \"name\": \"United States o...</td>\n",
       "      <td>2012-03-07</td>\n",
       "      <td>284139100.0</td>\n",
       "      <td>...</td>\n",
       "      <td>2124.0</td>\n",
       "      <td>2012</td>\n",
       "      <td>3</td>\n",
       "      <td>7</td>\n",
       "      <td>2.717923e+08</td>\n",
       "      <td>2.970263e+08</td>\n",
       "      <td>1.092843</td>\n",
       "      <td>2.523393e+07</td>\n",
       "      <td>Action</td>\n",
       "      <td>Walt Disney Pictures</td>\n",
       "    </tr>\n",
       "    <tr>\n",
       "      <th>6</th>\n",
       "      <td>260000000</td>\n",
       "      <td>[{\"id\": 16, \"name\": \"Animation\"}, {\"id\": 10751...</td>\n",
       "      <td>38757</td>\n",
       "      <td>en</td>\n",
       "      <td>Tangled</td>\n",
       "      <td>48.682</td>\n",
       "      <td>[{\"name\": \"Walt Disney Pictures\", \"id\": 2}, {\"...</td>\n",
       "      <td>[{\"iso_3166_1\": \"US\", \"name\": \"United States o...</td>\n",
       "      <td>2010-11-24</td>\n",
       "      <td>591794936.0</td>\n",
       "      <td>...</td>\n",
       "      <td>3330.0</td>\n",
       "      <td>2010</td>\n",
       "      <td>11</td>\n",
       "      <td>24</td>\n",
       "      <td>2.861742e+08</td>\n",
       "      <td>6.513710e+08</td>\n",
       "      <td>2.276134</td>\n",
       "      <td>3.651968e+08</td>\n",
       "      <td>Animation</td>\n",
       "      <td>Walt Disney Pictures</td>\n",
       "    </tr>\n",
       "    <tr>\n",
       "      <th>9</th>\n",
       "      <td>250000000</td>\n",
       "      <td>[{\"id\": 28, \"name\": \"Action\"}, {\"id\": 12, \"nam...</td>\n",
       "      <td>209112</td>\n",
       "      <td>en</td>\n",
       "      <td>Batman v Superman: Dawn of Justice</td>\n",
       "      <td>155.79</td>\n",
       "      <td>[{\"name\": \"DC Comics\", \"id\": 429}, {\"name\": \"A...</td>\n",
       "      <td>[{\"iso_3166_1\": \"US\", \"name\": \"United States o...</td>\n",
       "      <td>2016-03-23</td>\n",
       "      <td>873260194.0</td>\n",
       "      <td>...</td>\n",
       "      <td>7004.0</td>\n",
       "      <td>2016</td>\n",
       "      <td>3</td>\n",
       "      <td>23</td>\n",
       "      <td>2.500000e+08</td>\n",
       "      <td>8.732602e+08</td>\n",
       "      <td>3.493041</td>\n",
       "      <td>6.232602e+08</td>\n",
       "      <td>Action</td>\n",
       "      <td>DC Comics</td>\n",
       "    </tr>\n",
       "    <tr>\n",
       "      <th>10</th>\n",
       "      <td>270000000</td>\n",
       "      <td>[{\"id\": 12, \"name\": \"Adventure\"}, {\"id\": 14, \"...</td>\n",
       "      <td>1452</td>\n",
       "      <td>en</td>\n",
       "      <td>Superman Returns</td>\n",
       "      <td>57.9256</td>\n",
       "      <td>[{\"name\": \"DC Comics\", \"id\": 429}, {\"name\": \"L...</td>\n",
       "      <td>[{\"iso_3166_1\": \"US\", \"name\": \"United States o...</td>\n",
       "      <td>2006-06-28</td>\n",
       "      <td>391081192.0</td>\n",
       "      <td>...</td>\n",
       "      <td>1400.0</td>\n",
       "      <td>2006</td>\n",
       "      <td>6</td>\n",
       "      <td>28</td>\n",
       "      <td>3.214515e+08</td>\n",
       "      <td>4.656060e+08</td>\n",
       "      <td>1.448449</td>\n",
       "      <td>1.441545e+08</td>\n",
       "      <td>Adventure</td>\n",
       "      <td>DC Comics</td>\n",
       "    </tr>\n",
       "  </tbody>\n",
       "</table>\n",
       "<p>5 rows × 24 columns</p>\n",
       "</div>"
      ],
      "text/plain": [
       "       budget                                             genres      id  \\\n",
       "2   245000000  [{\"id\": 28, \"name\": \"Action\"}, {\"id\": 12, \"nam...  206647   \n",
       "4   260000000  [{\"id\": 28, \"name\": \"Action\"}, {\"id\": 12, \"nam...   49529   \n",
       "6   260000000  [{\"id\": 16, \"name\": \"Animation\"}, {\"id\": 10751...   38757   \n",
       "9   250000000  [{\"id\": 28, \"name\": \"Action\"}, {\"id\": 12, \"nam...  209112   \n",
       "10  270000000  [{\"id\": 12, \"name\": \"Adventure\"}, {\"id\": 14, \"...    1452   \n",
       "\n",
       "   original_language                      original_title popularity  \\\n",
       "2                 en                             Spectre    107.377   \n",
       "4                 en                         John Carter     43.927   \n",
       "6                 en                             Tangled     48.682   \n",
       "9                 en  Batman v Superman: Dawn of Justice     155.79   \n",
       "10                en                    Superman Returns    57.9256   \n",
       "\n",
       "                                 production_companies  \\\n",
       "2   [{\"name\": \"Columbia Pictures\", \"id\": 5}, {\"nam...   \n",
       "4         [{\"name\": \"Walt Disney Pictures\", \"id\": 2}]   \n",
       "6   [{\"name\": \"Walt Disney Pictures\", \"id\": 2}, {\"...   \n",
       "9   [{\"name\": \"DC Comics\", \"id\": 429}, {\"name\": \"A...   \n",
       "10  [{\"name\": \"DC Comics\", \"id\": 429}, {\"name\": \"L...   \n",
       "\n",
       "                                 production_countries release_date  \\\n",
       "2   [{\"iso_3166_1\": \"GB\", \"name\": \"United Kingdom\"...   2015-10-26   \n",
       "4   [{\"iso_3166_1\": \"US\", \"name\": \"United States o...   2012-03-07   \n",
       "6   [{\"iso_3166_1\": \"US\", \"name\": \"United States o...   2010-11-24   \n",
       "9   [{\"iso_3166_1\": \"US\", \"name\": \"United States o...   2016-03-23   \n",
       "10  [{\"iso_3166_1\": \"US\", \"name\": \"United States o...   2006-06-28   \n",
       "\n",
       "        revenue           ...            vote_count  year month  date  \\\n",
       "2   880674609.0           ...                4466.0  2015    10    26   \n",
       "4   284139100.0           ...                2124.0  2012     3     7   \n",
       "6   591794936.0           ...                3330.0  2010    11    24   \n",
       "9   873260194.0           ...                7004.0  2016     3    23   \n",
       "10  391081192.0           ...                1400.0  2006     6    28   \n",
       "\n",
       "    adjusted_budget  adjusted_revenue  return_rate        profit  main_genre  \\\n",
       "2      2.480909e+08      8.917851e+08     3.594590  6.436942e+08      Action   \n",
       "4      2.717923e+08      2.970263e+08     1.092843  2.523393e+07      Action   \n",
       "6      2.861742e+08      6.513710e+08     2.276134  3.651968e+08   Animation   \n",
       "9      2.500000e+08      8.732602e+08     3.493041  6.232602e+08      Action   \n",
       "10     3.214515e+08      4.656060e+08     1.448449  1.441545e+08   Adventure   \n",
       "\n",
       "    main_production_company  \n",
       "2         Columbia Pictures  \n",
       "4      Walt Disney Pictures  \n",
       "6      Walt Disney Pictures  \n",
       "9                 DC Comics  \n",
       "10                DC Comics  \n",
       "\n",
       "[5 rows x 24 columns]"
      ]
     },
     "execution_count": 22,
     "metadata": {},
     "output_type": "execute_result"
    }
   ],
   "source": [
    "# Check what the df looks like as of now\n",
    "df.head()"
   ]
  },
  {
   "cell_type": "markdown",
   "metadata": {},
   "source": [
    "# Data Visualization\n",
    "First, we need to do some exploratory data visualization, to get a feel for the data. \n"
   ]
  },
  {
   "cell_type": "code",
   "execution_count": 23,
   "metadata": {},
   "outputs": [
    {
     "data": {
      "image/png": "[encoded data removed]",
      "text/plain": [
       "<matplotlib.figure.Figure at 0x1d601269470>"
      ]
     },
     "metadata": {},
     "output_type": "display_data"
    }
   ],
   "source": [
    "# Plot the data, using scatter_matrix, from Pandas. Assign it to a variable called 'fig'.\n",
    "fig = pd.plotting.scatter_matrix(df[['profit','month','vote_average']], alpha=0.2, diagonal='kde')"
   ]
  },
  {
   "cell_type": "code",
   "execution_count": 24,
   "metadata": {},
   "outputs": [
    {
     "data": {
      "image/png": "[encoded data removed]",
      "text/plain": [
       "<matplotlib.figure.Figure at 0x1d6016e2b00>"
      ]
     },
     "metadata": {},
     "output_type": "display_data"
    }
   ],
   "source": [
    "fig = pd.plotting.scatter_matrix(df[['month','vote_average','return_rate']], alpha=0.2, diagonal='kde')"
   ]
  },
  {
   "cell_type": "markdown",
   "metadata": {},
   "source": [
    "We can see that most of the movies' return rates are close to each other and under 100, but there are some movies with extremely high return rate."
   ]
  },
  {
   "cell_type": "code",
   "execution_count": 25,
   "metadata": {
    "scrolled": true
   },
   "outputs": [
    {
     "data": {
      "image/png": "[encoded data removed]",
      "text/plain": [
       "<matplotlib.figure.Figure at 0x1d601c1b0f0>"
      ]
     },
     "metadata": {},
     "output_type": "display_data"
    }
   ],
   "source": [
    "# Plot a bar chart showing the number of movies in each genre. \n",
    "MajorStatus = df['main_genre'].value_counts()\n",
    "MajorStatus.plot.bar()\n",
    "f1 = plt.gcf()"
   ]
  },
  {
   "cell_type": "code",
   "execution_count": null,
   "metadata": {},
   "outputs": [],
   "source": [
    "toPlot_Animation= df[df[\"main_genres\"]==\"Animation\"]['profit']\n",
    "n, bins, patches = plt.hist(toPlot_Animation, 25)\n",
    "f_Animation = plt.gcf()"
   ]
  },
  {
   "cell_type": "markdown",
   "metadata": {},
   "source": [
    "interesting! different from all different type"
   ]
  },
  {
   "cell_type": "code",
   "execution_count": null,
   "metadata": {},
   "outputs": [],
   "source": [
    "toPlot_Thriller= df[df[\"main_genres\"]==\"Thriller\"]['profit']\n",
    "n, bins, patches = plt.hist(toPlot_Thriller, 25)\n",
    "f_Thriller = plt.gcf()"
   ]
  },
  {
   "cell_type": "code",
   "execution_count": null,
   "metadata": {},
   "outputs": [],
   "source": [
    "toPlot_Crime= df[df[\"main_genres\"]==\"Crime\"]['profit']\n",
    "n, bins, patches = plt.hist(toPlot_Crime, 25)\n",
    "f_Crime = plt.gcf()"
   ]
  },
  {
   "cell_type": "code",
   "execution_count": null,
   "metadata": {},
   "outputs": [],
   "source": [
    "toPlot_Horror= df[df[\"main_genres\"]==\"Horror\"]['profit']\n",
    "n, bins, patches = plt.hist(toPlot_Horror, 25)\n",
    "f_Horror = plt.gcf()"
   ]
  },
  {
   "cell_type": "code",
   "execution_count": null,
   "metadata": {},
   "outputs": [],
   "source": [
    "toPlot_Adventure= df[df[\"main_genres\"]==\"Adventure\"]['profit']\n",
    "n, bins, patches = plt.hist(toPlot_Adventure, 25)\n",
    "f_Adv = plt.gcf()"
   ]
  },
  {
   "cell_type": "code",
   "execution_count": null,
   "metadata": {},
   "outputs": [],
   "source": [
    "toPlot_Action= df[df[\"main_genres\"]==\"Action\"]['profit']\n",
    "n, bins, patches = plt.hist(toPlot_Action, 25)\n",
    "f_Act = plt.gcf()"
   ]
  },
  {
   "cell_type": "code",
   "execution_count": null,
   "metadata": {},
   "outputs": [],
   "source": [
    "toPlot_Comedy= df[df[\"main_genres\"]==\"Comedy\"]['profit']\n",
    "n, bins, patches = plt.hist(toPlot_Comedy, 25)\n",
    "f_C = plt.gcf()"
   ]
  },
  {
   "cell_type": "code",
   "execution_count": null,
   "metadata": {},
   "outputs": [],
   "source": [
    "toPlot_Drama= df[df[\"main_genres\"]==\"Drama\"]['profit']\n",
    "n, bins, patches = plt.hist(toPlot_Drama, 25)\n",
    "f_D = plt.gcf()"
   ]
  },
  {
   "cell_type": "code",
   "execution_count": null,
   "metadata": {
    "collapsed": true
   },
   "outputs": [],
   "source": []
  },
  {
   "cell_type": "code",
   "execution_count": null,
   "metadata": {},
   "outputs": [],
   "source": [
    "toPlot_Jan = df[df[\"month\"]==1]['profit']\n",
    "n, bins, patches = plt.hist(toPlot_Jan, 25)\n",
    "f1 = plt.gcf()"
   ]
  },
  {
   "cell_type": "code",
   "execution_count": null,
   "metadata": {},
   "outputs": [],
   "source": [
    "toPlot_Feb = df[df[\"month\"]==2]['profit']\n",
    "n, bins, patches = plt.hist(toPlot_Feb, 25)\n",
    "f2 = plt.gcf()"
   ]
  },
  {
   "cell_type": "code",
   "execution_count": null,
   "metadata": {},
   "outputs": [],
   "source": [
    "toPlot_Mar= df[df[\"month\"]==3]['profit']\n",
    "n, bins, patches = plt.hist(toPlot_Mar, 25)\n",
    "f3 = plt.gcf()"
   ]
  },
  {
   "cell_type": "code",
   "execution_count": null,
   "metadata": {},
   "outputs": [],
   "source": [
    "toPlot_Apr= df[df[\"month\"]==4]['profit']\n",
    "n, bins, patches = plt.hist(toPlot_Apr, 25)\n",
    "f4 = plt.gcf()"
   ]
  },
  {
   "cell_type": "code",
   "execution_count": null,
   "metadata": {},
   "outputs": [],
   "source": [
    "toPlot_May= df[df[\"month\"]==5]['profit']\n",
    "n, bins, patches = plt.hist(toPlot_May, 25)\n",
    "f5 = plt.gcf()"
   ]
  },
  {
   "cell_type": "code",
   "execution_count": null,
   "metadata": {},
   "outputs": [],
   "source": [
    "toPlot_Jun = df[df[\"month\"]==6]['profit']\n",
    "n, bins, patches = plt.hist(toPlot_Jun, 25)\n",
    "f6 = plt.gcf()"
   ]
  },
  {
   "cell_type": "code",
   "execution_count": null,
   "metadata": {},
   "outputs": [],
   "source": [
    "toPlot_Jul = df[df[\"month\"]==7]['profit']\n",
    "n, bins, patches = plt.hist(toPlot_Jul, 25)\n",
    "f7 = plt.gcf()"
   ]
  },
  {
   "cell_type": "code",
   "execution_count": null,
   "metadata": {},
   "outputs": [],
   "source": [
    "toPlot_Aug = df[df[\"month\"]==8]['profit']\n",
    "n, bins, patches = plt.hist(toPlot_Aug, 25)\n",
    "f8 = plt.gcf()"
   ]
  },
  {
   "cell_type": "code",
   "execution_count": null,
   "metadata": {},
   "outputs": [],
   "source": [
    "toPlot_Sep = df[df[\"month\"]==9]['profit']\n",
    "n, bins, patches = plt.hist(toPlot_Sep, 25)\n",
    "f9 = plt.gcf()"
   ]
  },
  {
   "cell_type": "code",
   "execution_count": null,
   "metadata": {},
   "outputs": [],
   "source": [
    "toPlot_Oct = df[df[\"month\"]==10]['profit']\n",
    "n, bins, patches = plt.hist(toPlot_Oct, 25)\n",
    "f10 = plt.gcf()"
   ]
  },
  {
   "cell_type": "code",
   "execution_count": null,
   "metadata": {},
   "outputs": [],
   "source": [
    "toPlot_Nov = df[df[\"month\"]==11]['profit']\n",
    "n, bins, patches = plt.hist(toPlot_Nov, 25)\n",
    "f11 = plt.gcf()"
   ]
  },
  {
   "cell_type": "code",
   "execution_count": null,
   "metadata": {},
   "outputs": [],
   "source": [
    "toPlot_Dec = df[df[\"month\"]==12]['profit']\n",
    "n, bins, patches = plt.hist(toPlot_Dec, 25)\n",
    "f12 = plt.gcf()"
   ]
  },
  {
   "cell_type": "markdown",
   "metadata": {
    "collapsed": true
   },
   "source": [
    "# Data Analysis and Results¶\n"
   ]
  },
  {
   "cell_type": "code",
   "execution_count": null,
   "metadata": {
    "collapsed": true
   },
   "outputs": [],
   "source": [
    "# Use the 'describe' pandas method to check a descriptive summary of the data\n",
    "desc = df.describe()"
   ]
  },
  {
   "cell_type": "code",
   "execution_count": null,
   "metadata": {
    "collapsed": true
   },
   "outputs": [],
   "source": [
    "# Test the distribution for \n",
    "pro_jan = df[df['month'] == 1]['profit'].values\n",
    "pro_feb = df[df['month'] == 2]['profit'].values\n",
    "pro_mar = df[df['month'] == 3]['profit'].values\n",
    "pro_apr = df[df['month'] == 4]['profit'].values\n",
    "pro_may = df[df['month'] == 5]['profit'].values\n",
    "pro_jun = df[df['month'] == 6]['profit'].values\n",
    "pro_jul = df[df['month'] == 7]['profit'].values\n",
    "pro_aug = df[df['month'] == 8]['profit'].values\n",
    "pro_sep = df[df['month'] == 9]['profit'].values\n",
    "pro_oct = df[df['month'] == 10]['profit'].values\n",
    "pro_nov = df[df['month'] == 11]['profit'].values\n",
    "pro_dec = df[df['month'] == 12]['profit'].values\n",
    "\n",
    "\n",
    "\n",
    "#should we test the distribution?    \n",
    "#st_jan,p_jan = stats.normaltest(pro_jan)\n",
    "\n",
    "#alpha = 0.000001\n",
    "#if p_jan > alpha: \n",
    "#    is_n_jan = True\n",
    "#else:\n",
    "#    is_n_jan = False\n",
    "   \n"
   ]
  },
  {
   "cell_type": "code",
   "execution_count": null,
   "metadata": {
    "collapsed": true
   },
   "outputs": [],
   "source": [
    "#xs = np.arange(pro_jan.min(), pro_jan.max(), 0.1)\n",
    "#fit = stats.norm.pdf(xs, np.mean(pro_jan), np.std(pro_jan))\n",
    "#plt.plot(xs, fit, label='Normal Dist.', lw=4)\n",
    "#plt.hist(pro_jan, normed=True, label='Actual Data');\n",
    "#plt.title('January - profit')\n",
    "#plt.legend();"
   ]
  },
  {
   "cell_type": "code",
   "execution_count": null,
   "metadata": {},
   "outputs": [],
   "source": [
    "avg_pro_jan = pro_jan.mean()\n",
    "avg_pro_feb = pro_feb.mean()\n",
    "avg_pro_mar = pro_mar.mean()\n",
    "avg_pro_apr = pro_apr.mean()\n",
    "avg_pro_may = pro_may.mean()\n",
    "avg_pro_jun = pro_jun.mean()\n",
    "avg_pro_jul = pro_jul.mean()\n",
    "avg_pro_aug = pro_aug.mean()\n",
    "avg_pro_sep = pro_sep.mean()\n",
    "avg_pro_oct = pro_oct.mean()\n",
    "avg_pro_nov = pro_nov.mean()\n",
    "avg_pro_dec = pro_dec.mean()\n",
    "print('Average profit of movie in January is \\t {:2.2f} dollar'.format(avg_pro_jan))\n",
    "print('Average profit of movie in Febuaray is \\t {:2.2f} dollar'.format(avg_pro_feb))\n",
    "print('Average profit of movie in March is \\t {:2.2f} dollar'.format(avg_pro_mar))\n",
    "print('Average profit of movie in April is \\t {:2.2f} dollar'.format(avg_pro_apr))\n",
    "print('Average profit of movie in May is \\t {:2.2f} dollar'.format(avg_pro_may))\n",
    "print('Average profit of movie in June is \\t {:2.2f} dollar'.format(avg_pro_jun))\n",
    "print('Average profit of movie in July is \\t {:2.2f} dollar'.format(avg_pro_jul))\n",
    "print('Average profit of movie in August is \\t {:2.2f} dollar'.format(avg_pro_aug))\n",
    "print('Average profit of movie in September is \\t {:2.2f} dollar'.format(avg_pro_sep))\n",
    "print('Average profit of movie in October is \\t {:2.2f} dollar'.format(avg_pro_oct))\n",
    "print('Average profit of movie in November is \\t {:2.2f} dollar'.format(avg_pro_nov))\n",
    "print('Average profit of movie in December is \\t {:2.2f} dollar'.format(avg_pro_dec))\n",
    "\n",
    "\n",
    "\n"
   ]
  },
  {
   "cell_type": "code",
   "execution_count": null,
   "metadata": {},
   "outputs": [],
   "source": [
    "list = [avg_pro_jan,avg_pro_feb,avg_pro_mar,avg_pro_apr,avg_pro_may,avg_pro_jun,avg_pro_jul,avg_pro_aug,avg_pro_sep,\n",
    "        avg_pro_oct,avg_pro_nov,avg_pro_dec]\n",
    "list.sort(key=int)\n",
    "print(list)"
   ]
  },
  {
   "cell_type": "markdown",
   "metadata": {},
   "source": [
    "In June, May,November , december and July, the profit is a lot higher than the movies in the rest of the months.\n",
    "\n",
    "Now, let's find the average profit of movies in different genres"
   ]
  },
  {
   "cell_type": "code",
   "execution_count": null,
   "metadata": {
    "collapsed": true
   },
   "outputs": [],
   "source": [
    "pro_Drama = df[df['main_genres'] == \"Drama\"]['profit'].values\n",
    "pro_Comedy = df[df['main_genres'] == \"Comedy\"]['profit'].values\n",
    "pro_Action = df[df['main_genres'] == \"Action\"]['profit'].values\n",
    "pro_Adventure = df[df['main_genres'] == \"Adventure\"]['profit'].values\n",
    "pro_Crime = df[df['main_genres'] == \"Crime\"]['profit'].values\n",
    "pro_Horror = df[df['main_genres'] == \"Horror\"]['profit'].values\n",
    "pro_Animation = df[df['main_genres'] == \"Animation\"]['profit'].values\n",
    "pro_Fantasy = df[df['main_genres'] == \"Fantasy\"]['profit'].values\n",
    "pro_Thriller = df[df['main_genres'] == \"Thriller\"]['profit'].values\n",
    "pro_Romance = df[df['main_genres'] == \"Romance\"]['profit'].values\n",
    "pro_ScienceFiction = df[df['main_genres'] == \"Science Fiction\"]['profit'].values\n"
   ]
  },
  {
   "cell_type": "code",
   "execution_count": null,
   "metadata": {
    "collapsed": true
   },
   "outputs": [],
   "source": [
    "avg_pro_Drama = pro_Drama.mean()\n",
    "avg_pro_Comedy = pro_Comedy.mean()\n",
    "avg_pro_Action = pro_Action.mean()\n",
    "avg_pro_Adventure = pro_Adventure.mean()\n",
    "avg_pro_Crime = pro_Crime.mean()\n",
    "avg_pro_Animation = pro_Animation.mean()\n",
    "avg_pro_Horror = pro_Horror.mean()\n",
    "avg_pro_Thriller = pro_Thriller.mean()\n",
    "avg_pro_Fantasy = pro_Fantasy.mean()\n",
    "avg_pro_Romance = pro_Romance.mean()\n",
    "avg_pro_ScienceFiction = pro_ScienceFiction.mean()"
   ]
  },
  {
   "cell_type": "code",
   "execution_count": null,
   "metadata": {},
   "outputs": [],
   "source": [
    "print('Average profit of Drama movie is \\t {:2.2f} dollar'.format(avg_pro_Drama))\n",
    "print('Average profit of Comedy movie is \\t {:2.2f} dollar'.format(avg_pro_Comedy))\n",
    "print('Average profit of Action movie is \\t {:2.2f} dollar'.format(avg_pro_Action))\n",
    "print('Average profit of Adventure movie is \\t {:2.2f} dollar'.format(avg_pro_Adventure))\n",
    "print('Average profit of Horror movie is \\t {:2.2f} dollar'.format(avg_pro_Horror))\n",
    "print('Average profit of Crime movie is \\t {:2.2f} dollar'.format(avg_pro_Crime))\n",
    "print('Average profit of Animation movie is \\t {:2.2f} dollar'.format(avg_pro_Animation))\n",
    "print('Average profit of Thriller movie is \\t {:2.2f} dollar'.format(avg_pro_Thriller))\n",
    "print('Average profit of Fantasy movie is \\t {:2.2f} dollar'.format(avg_pro_Fantasy))\n",
    "print('Average profit of Romance movie is \\t {:2.2f} dollar'.format(avg_pro_Romance))\n",
    "print('Average profit of Science Fiction movie is \\t {:2.2f} dollar'.format(avg_pro_ScienceFiction))\n"
   ]
  },
  {
   "cell_type": "markdown",
   "metadata": {},
   "source": [
    "# Privacy/Ethics Considerations\n"
   ]
  },
  {
   "cell_type": "markdown",
   "metadata": {},
   "source": [
    "# Conclusions and Discussions¶\n"
   ]
  }
 ],
 "metadata": {
  "kernelspec": {
   "display_name": "Python 3",
   "language": "python",
   "name": "python3"
  },
  "language_info": {
   "codemirror_mode": {
    "name": "ipython",
    "version": 3
   },
   "file_extension": ".py",
   "mimetype": "text/x-python",
   "name": "python",
   "nbconvert_exporter": "python",
   "pygments_lexer": "ipython3",
   "version": "3.6.3"
  }
 },
 "nbformat": 4,
 "nbformat_minor": 2
}
