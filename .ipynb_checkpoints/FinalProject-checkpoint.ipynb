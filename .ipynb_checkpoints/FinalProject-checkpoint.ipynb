{
 "cells": [
  {
   "cell_type": "markdown",
   "metadata": {},
   "source": [
    "# Introduction and Background"
   ]
  },
  {
   "cell_type": "markdown",
   "metadata": {},
   "source": [
    "## Research Question\n",
    "Are there specific months for movie release dates that generate more revenue in the box office? Is there a correlation between movie budgets and their success in the box office?\n",
    "\n",
    "## Background\n",
    "This is a question of interest because the film industry may be able to find some different strategies to maximize their revenue, such as the best time to release their new movies or determine how much their budget will correlate to potential revenue. With so many movies always coming out, we wondered if there was a correlation between box office success and release dates in conjunction with how big a movie’s budgets is. In some of our background research we found that the number of user votes on IMDB for a movie corresponds with how well-known the film is, and that critics’ reviews don’t have that much of an influence on the success of a movie. \n",
    "\n",
    "We always hear about big budget movies because they’re the ones that usually have the ability to advertise the film to the point where everyone sees it. But sometimes movies with relatively small budgets rise to the top of the the box offices. Content has something to do with it, but we want to see how much of an impact the time at which you release a movie has on the success of the film. There have been some blog posts about which genre generally gets released for each month, and there was some indication that the winter months would be when the best movies (Oscar nominated ones) come out. \n",
    "\n",
    "Our question is important because it presents a visualization for the correlation between box office success and release dates in conjuction with movie budgets. We want to know if there is a strong correlation and if there is a pattern to movie release dates. It is unclear if there are popular months for movie releases or box office success. \n",
    "\n",
    "References (include links):\n",
    "- Movie Budget and Financial Performance Records (https://www.the-numbers.com/movie/budgets/) \n",
    "-- Tables that show top 20 movies that compare the movie's budget and revenue (greatest lost and earnings).\n",
    "- Analysis of factor affecting the success of the movie (http://rstudio-pubs-static.s3.amazonaws.com/233939_bbeb292c0c20440f97d31b616662c06f.html)\n",
    "-- Analysis between different website user voting data and the success of the movie in the box office in conjuction with the movie's budget. \n",
    "- Movie Release Calendar Strategy (https://riotstudios.com/blog/movie-release-calendar-strategy/) \n",
    "-- Months associated with genre/movie style released.\n",
    "\n",
    "## Hypothesis\n",
    "We predict that if a movie is released during July or August, then it will generate more revenue in the box office. We also predict that if a movie has a big budget, then it will generate more revenue in the box office. "
   ]
  },
  {
   "cell_type": "markdown",
   "metadata": {},
   "source": [
    "# Data Description"
   ]
  },
  {
   "cell_type": "markdown",
   "metadata": {},
   "source": [
    "This is a list of ~5000 movies from The Movie Database website. This dataset contains rows of movies with columns that dictate details of the movie. For example, the list contains keyword, revenue, budget, production company, imdb id, language, runtime, release date, and ratings concerning each movie.\n",
    "\n",
    "- Dataset Name: TMDb 5000 Movie Dataset\n",
    "- Link to the dataset: https://www.kaggle.com/tmdb/tmdb-movie-metadata/data\n",
    "- Number of observations: 4803\n",
    "\n",
    "This is a list of ~45000 movies from The Movie Database. This list contains budget, genre, original language, popularity, revenue, imdb id, adulterated, production company, homepage, collection, poster, overview, video, tagline, title, vote count, id, runtime, release date, and vote average (0-10) for each movie. \n",
    "\n",
    "- Dataset Name: Movies Metadata\n",
    "- Link to the dataset: https://www.kaggle.com/rounakbanik/the-movies-dataset/data\n",
    "- Number of observations: 45466\n",
    "\n",
    "We may be merging the datasets and compare if there are any duplicates, if so, we will compare the ‘revenue’, ‘budget’, and ‘release date’ and remove the duplicates. If there are any conflicting comparisons, we will manually change the data to the correct values. "
   ]
  },
  {
   "cell_type": "markdown",
   "metadata": {},
   "source": [
    "## Data Cleaning/Pre-processing\n"
   ]
  },
  {
   "cell_type": "code",
   "execution_count": 2,
   "metadata": {},
   "outputs": [
    {
     "name": "stderr",
     "output_type": "stream",
     "text": [
      "/Users/sarah/anaconda3/lib/python3.6/site-packages/statsmodels/compat/pandas.py:56: FutureWarning: The pandas.core.datetools module is deprecated and will be removed in a future version. Please use the pandas.tseries module instead.\n",
      "  from pandas.core import datetools\n"
     ]
    },
    {
     "name": "stdout",
     "output_type": "stream",
     "text": [
      "Collecting easymoney\n",
      "  Downloading easymoney-1.5.0.tar.gz\n",
      "Requirement already satisfied: numpy in /Users/sarah/anaconda3/lib/python3.6/site-packages (from easymoney)\n",
      "Requirement already satisfied: pandas in /Users/sarah/anaconda3/lib/python3.6/site-packages (from easymoney)\n",
      "Collecting pycountry (from easymoney)\n",
      "  Downloading pycountry-18.2.23.tar.gz (9.7MB)\n",
      "\u001b[K    100% |████████████████████████████████| 9.7MB 122kB/s eta 0:00:01\n",
      "\u001b[?25hRequirement already satisfied: requests in /Users/sarah/anaconda3/lib/python3.6/site-packages (from easymoney)\n",
      "Collecting wbdata (from easymoney)\n",
      "  Downloading wbdata-0.2.7.tar.gz\n",
      "Requirement already satisfied: python-dateutil>=2 in /Users/sarah/anaconda3/lib/python3.6/site-packages (from pandas->easymoney)\n",
      "Requirement already satisfied: pytz>=2011k in /Users/sarah/anaconda3/lib/python3.6/site-packages (from pandas->easymoney)\n",
      "Requirement already satisfied: chardet<3.1.0,>=3.0.2 in /Users/sarah/anaconda3/lib/python3.6/site-packages (from requests->easymoney)\n",
      "Requirement already satisfied: idna<2.7,>=2.5 in /Users/sarah/anaconda3/lib/python3.6/site-packages (from requests->easymoney)\n",
      "Requirement already satisfied: urllib3<1.23,>=1.21.1 in /Users/sarah/anaconda3/lib/python3.6/site-packages (from requests->easymoney)\n",
      "Requirement already satisfied: certifi>=2017.4.17 in /Users/sarah/anaconda3/lib/python3.6/site-packages (from requests->easymoney)\n",
      "Requirement already satisfied: decorator in /Users/sarah/anaconda3/lib/python3.6/site-packages (from wbdata->easymoney)\n",
      "Requirement already satisfied: six>=1.5 in /Users/sarah/anaconda3/lib/python3.6/site-packages (from python-dateutil>=2->pandas->easymoney)\n",
      "Building wheels for collected packages: easymoney, pycountry, wbdata\n",
      "  Running setup.py bdist_wheel for easymoney ... \u001b[?25ldone\n",
      "\u001b[?25h  Stored in directory: /Users/sarah/Library/Caches/pip/wheels/c0/aa/d9/4cc4ce15d7722772b7c21de8bcc2fa1a2345fb4d5cd89a657b\n",
      "  Running setup.py bdist_wheel for pycountry ... \u001b[?25ldone\n",
      "\u001b[?25h  Stored in directory: /Users/sarah/Library/Caches/pip/wheels/8e/41/09/9a91004166f9ed503f568eca67141648be1e263021a3d1a5d7\n",
      "  Running setup.py bdist_wheel for wbdata ... \u001b[?25ldone\n",
      "\u001b[?25h  Stored in directory: /Users/sarah/Library/Caches/pip/wheels/6c/cc/78/79154effbbf225d0f06d9b6a270093fe100dd2dc7bbf74007a\n",
      "Successfully built easymoney pycountry wbdata\n",
      "Installing collected packages: pycountry, wbdata, easymoney\n",
      "Successfully installed easymoney-1.5.0 pycountry-18.2.23 wbdata-0.2.7\n",
      "\u001b[33mYou are using pip version 9.0.1, however version 9.0.3 is available.\n",
      "You should consider upgrading via the 'pip install --upgrade pip' command.\u001b[0m\n"
     ]
    }
   ],
   "source": [
    "%matplotlib inline\n",
    "\n",
    "import numpy as np\n",
    "import pandas as pd\n",
    "import matplotlib.pyplot as plt\n",
    "\n",
    "import patsy\n",
    "import statsmodels.api as sm\n",
    "import scipy.stats as stats\n",
    "from scipy.stats import ttest_ind, chisquare, normaltest\n",
    "\n",
    "!pip install easymoney\n",
    "from easymoney.money import EasyPeasy"
   ]
  },
  {
   "cell_type": "code",
   "execution_count": 3,
   "metadata": {
    "collapsed": true
   },
   "outputs": [],
   "source": [
    "# Import datafile tmdb_5000_movies.csv to df1\n",
    "\n",
    "df1 = pd.read_csv('tmdb_5000_movies.csv')"
   ]
  },
  {
   "cell_type": "code",
   "execution_count": 4,
   "metadata": {
    "collapsed": true
   },
   "outputs": [],
   "source": [
    "# Import datafile movies_metadata.csv to df2\n",
    "df2 = pd.read_csv('movies_metadata.csv', low_memory=False)"
   ]
  },
  {
   "cell_type": "code",
   "execution_count": 5,
   "metadata": {
    "collapsed": true
   },
   "outputs": [],
   "source": [
    "# Drop unrelated columns\n",
    "df1.drop(['homepage', 'keywords', 'overview', 'runtime', 'tagline'], axis=1, inplace=True)\n",
    "df2.drop(['adult', 'belongs_to_collection', 'homepage', 'imdb_id', 'overview', 'poster_path', 'runtime', 'video', 'tagline'], axis=1, inplace=True)"
   ]
  },
  {
   "cell_type": "code",
   "execution_count": 6,
   "metadata": {
    "collapsed": true
   },
   "outputs": [],
   "source": [
    "# Change str to int and drop all unnemerical elements\n",
    "pd.to_numeric(df1['revenue'], errors='coerce')\n",
    "pd.to_numeric(df1['budget'], errors='coerce')\n",
    "pd.to_numeric(df2['revenue'], errors='coerce')\n",
    "pd.to_numeric(df2['budget'], errors='coerce') \n",
    "\n",
    "df1.dropna(subset = [\"revenue\",\"budget\"],inplace=True)\n",
    "df2.dropna(subset = [\"revenue\",\"budget\"],inplace=True)\n",
    "df2.budget = df2.budget.astype(np.int64)"
   ]
  },
  {
   "cell_type": "code",
   "execution_count": 7,
   "metadata": {
    "collapsed": true
   },
   "outputs": [],
   "source": [
    "# Drop unrepresentable/abnormal value for revenue and budget \n",
    "df1 = df1[df1.revenue >= 1000]\n",
    "df2 = df2[df2.revenue >= 1000]\n",
    "df1 = df1[df1.budget >= 1000]\n",
    "df2 = df2[df2.budget >= 1000]"
   ]
  },
  {
   "cell_type": "code",
   "execution_count": 8,
   "metadata": {
    "collapsed": true
   },
   "outputs": [],
   "source": [
    "# Concat two dataset into one called df\n",
    "df = pd.concat([df1, df2], ignore_index=True)"
   ]
  },
  {
   "cell_type": "code",
   "execution_count": 9,
   "metadata": {
    "collapsed": true
   },
   "outputs": [],
   "source": [
    "# Drop repeated infomation.\n",
    "df.drop_duplicates('id', inplace=True)"
   ]
  },
  {
   "cell_type": "code",
   "execution_count": 10,
   "metadata": {
    "collapsed": true
   },
   "outputs": [],
   "source": [
    "# Split the release date to year month and date \n",
    "df['year'] = pd.DatetimeIndex(df['release_date']).year\n",
    "df['month'] = pd.DatetimeIndex(df['release_date']).month\n",
    "df['date'] = pd.DatetimeIndex(df['release_date']).day"
   ]
  },
  {
   "cell_type": "code",
   "execution_count": 11,
   "metadata": {
    "collapsed": true
   },
   "outputs": [],
   "source": [
    "# Remove the movies that may be too old\n",
    "df = df[df.year >= 1990]"
   ]
  },
  {
   "cell_type": "code",
   "execution_count": 12,
   "metadata": {
    "collapsed": true
   },
   "outputs": [],
   "source": [
    "# Adjust inflation rate \n",
    "ep = EasyPeasy()"
   ]
  },
  {
   "cell_type": "code",
   "execution_count": 13,
   "metadata": {},
   "outputs": [
    {
     "name": "stderr",
     "output_type": "stream",
     "text": [
      "/Users/sarah/anaconda3/lib/python3.6/site-packages/easymoney/money.py:213: UserWarning: \n",
      "Inflation (CPI) data for 2017 in 'United States' could not be obtained from the\n",
      "International Monetary Fund database currently cached.\n",
      "Falling back to 2016.\n",
      "  warn(warn_msg % (year, natural_region_name, str(fall_back_year)))\n"
     ]
    }
   ],
   "source": [
    "# Adjust the inflation of budget, make a new column called adjusted_budget\n",
    "adjusted_budget = []\n",
    "for index, row in df.iterrows():\n",
    "    adjusted_budget.append(ep.normalize(amount=row['budget'], region=\"US\", from_year=row['year'], to_year='latest',base_currency=\"USD\", pretty_print=False))\n",
    "df['adjusted_budget'] = adjusted_budget"
   ]
  },
  {
   "cell_type": "code",
   "execution_count": 14,
   "metadata": {},
   "outputs": [
    {
     "name": "stderr",
     "output_type": "stream",
     "text": [
      "/Users/sarah/anaconda3/lib/python3.6/site-packages/easymoney/money.py:213: UserWarning: \n",
      "Inflation (CPI) data for 2017 in 'United States' could not be obtained from the\n",
      "International Monetary Fund database currently cached.\n",
      "Falling back to 2016.\n",
      "  warn(warn_msg % (year, natural_region_name, str(fall_back_year)))\n"
     ]
    }
   ],
   "source": [
    "# Adjust the inflation of revenue, make a new column called adjusted_revenue\n",
    "adjusted_revenue = []\n",
    "for index, row in df.iterrows():\n",
    "    adjusted_revenue.append(ep.normalize(amount=row['revenue'], region=\"US\", from_year=row['year'], to_year='latest',base_currency=\"USD\", pretty_print=False))\n",
    "df['adjusted_revenue'] = adjusted_revenue"
   ]
  },
  {
   "cell_type": "code",
   "execution_count": 15,
   "metadata": {
    "collapsed": true
   },
   "outputs": [],
   "source": [
    "# Add column return_rate and profit\n",
    "df['return_rate'] = df['adjusted_revenue']/df['adjusted_budget']\n",
    "df['profit'] = df['adjusted_revenue']- df['adjusted_budget']"
   ]
  },
  {
   "cell_type": "code",
   "execution_count": 16,
   "metadata": {
    "collapsed": true
   },
   "outputs": [],
   "source": [
    "# In this step, we are going to deal with outlier values by removing all rows in which the data for the return rate column exceeds +/- 3 standard deviations above or below the mean.\n",
    "std3 = 3 * df['return_rate'].std()\n",
    "std_max = df['return_rate'].mean() + std3\n",
    "std_min = df['return_rate'].mean() - std3"
   ]
  },
  {
   "cell_type": "code",
   "execution_count": 17,
   "metadata": {
    "collapsed": true
   },
   "outputs": [],
   "source": [
    "# Now use these values to remove any rows with return_rate data above or below these thresholds\n",
    "df = df[df['return_rate'] > std_min]\n",
    "df = df[df['return_rate'] < std_max]"
   ]
  },
  {
   "cell_type": "code",
   "execution_count": 18,
   "metadata": {
    "collapsed": true
   },
   "outputs": [],
   "source": [
    "# Use the method below to extract the main genres. \n",
    "def extract_main_genre(genres):\n",
    "    s = genres\n",
    "    # Find the first : after id\n",
    "    start = s.find(':') + 1\n",
    "    s = s[start:]\n",
    "    start = s.find(':') + 3\n",
    "    end = s.find('}') - 1\n",
    "    return s[start:end]\n",
    "df['main_genre'] = df[\"genres\"].apply(extract_main_genre)"
   ]
  },
  {
   "cell_type": "code",
   "execution_count": 19,
   "metadata": {
    "collapsed": true
   },
   "outputs": [],
   "source": [
    "# Use the method below to extract the main production company\n",
    "def extract_main_production(companies):\n",
    "    return companies[companies.find(':') + 3: companies.find(\",\") - 1]\n",
    "df['main_production_company'] = df['production_companies'].apply(extract_main_production)"
   ]
  },
  {
   "cell_type": "code",
   "execution_count": 20,
   "metadata": {},
   "outputs": [
    {
     "name": "stdout",
     "output_type": "stream",
     "text": [
      "There are  9  rows that do not contain a genre.\n",
      "There are  184  rows that do not contain a production company.\n"
     ]
    }
   ],
   "source": [
    "# Check if any rows have empty genre\n",
    "empty_genre = sum(df.main_genre == '')\n",
    "empty_production = sum(df.main_production_company == '')\n",
    "\n",
    "print (\"There are \", empty_genre, \" rows that do not contain a genre.\")\n",
    "print (\"There are \", empty_production, \" rows that do not contain a production company.\")"
   ]
  },
  {
   "cell_type": "code",
   "execution_count": 21,
   "metadata": {
    "collapsed": true
   },
   "outputs": [],
   "source": [
    "# Function to check empty column values\n",
    "def empty_string(string):\n",
    "    output = None\n",
    "    if (string == ''):\n",
    "        output = np.nan\n",
    "    else:\n",
    "        output = string\n",
    "    return output"
   ]
  },
  {
   "cell_type": "code",
   "execution_count": 22,
   "metadata": {
    "collapsed": true
   },
   "outputs": [],
   "source": [
    "# Applying the transformation and dropping invalid rows\n",
    "df[\"main_production_company\"] = df[\"main_production_company\"].apply(empty_string)\n",
    "df.dropna(subset=['main_production_company'], inplace=True)"
   ]
  },
  {
   "cell_type": "code",
   "execution_count": 23,
   "metadata": {
    "collapsed": true
   },
   "outputs": [],
   "source": [
    "# Applying the transformation and dropping invalid rows\n",
    "df[\"main_genre\"] = df[\"main_genre\"].apply(empty_string)\n",
    "df.dropna(subset=['main_genre'], inplace=True)"
   ]
  },
  {
   "cell_type": "code",
   "execution_count": 24,
   "metadata": {
    "collapsed": true
   },
   "outputs": [],
   "source": [
    "# Drop used, cleaned columns\n",
    "df.drop(['original_title', 'production_countries', 'spoken_languages', 'status', 'budget', 'genres', 'popularity', 'original_language', 'id', 'production_companies', 'release_date', 'year', 'date', 'revenue', 'budget', 'vote_count'], axis=1, inplace=True)"
   ]
  },
  {
   "cell_type": "markdown",
   "metadata": {},
   "source": [
    "### The cell below drops all rows that are from production companies that produced less than 50 films -- can comment out to see if there is a difference in data"
   ]
  },
  {
   "cell_type": "code",
   "execution_count": 25,
   "metadata": {},
   "outputs": [
    {
     "name": "stdout",
     "output_type": "stream",
     "text": [
      "Universal Pictures                        439\n",
      "Paramount Pictures                        411\n",
      "Columbia Pictures                         338\n",
      "Twentieth Century Fox Film Corporation    285\n",
      "New Line Cinema                           283\n",
      "Walt Disney Pictures                      218\n",
      "Miramax Films                             147\n",
      "Village Roadshow Pictures                 136\n",
      "DreamWorks SKG                            115\n",
      "Fox Searchlight Pictures                   98\n",
      "Warner Bros.                               92\n",
      "Summit Entertainment                       89\n",
      "Columbia Pictures Corporation              88\n",
      "TriStar Pictures                           81\n",
      "Lionsgate                                  63\n",
      "Regency Enterprises                        60\n",
      "Imagine Entertainment                      59\n",
      "The Weinstein Company                      58\n",
      "Touchstone Pictures                        58\n",
      "Lions Gate Films                           55\n",
      "Name: main_production_company, dtype: int64\n"
     ]
    }
   ],
   "source": [
    "# Check the different production companies, including how many films were produced from each company\n",
    "counts = df.main_production_company.value_counts()\n",
    "\n",
    "# Any production company that produces more than 50 films will be kept in our data\n",
    "print(counts[counts > 50])\n",
    "df = df[df['main_production_company'].isin(counts[counts > 50].index)]"
   ]
  },
  {
   "cell_type": "code",
   "execution_count": 26,
   "metadata": {},
   "outputs": [
    {
     "data": {
      "text/html": [
       "<div>\n",
       "<style>\n",
       "    .dataframe thead tr:only-child th {\n",
       "        text-align: right;\n",
       "    }\n",
       "\n",
       "    .dataframe thead th {\n",
       "        text-align: left;\n",
       "    }\n",
       "\n",
       "    .dataframe tbody tr th {\n",
       "        vertical-align: top;\n",
       "    }\n",
       "</style>\n",
       "<table border=\"1\" class=\"dataframe\">\n",
       "  <thead>\n",
       "    <tr style=\"text-align: right;\">\n",
       "      <th></th>\n",
       "      <th>title</th>\n",
       "      <th>vote_average</th>\n",
       "      <th>month</th>\n",
       "      <th>adjusted_budget</th>\n",
       "      <th>adjusted_revenue</th>\n",
       "      <th>return_rate</th>\n",
       "      <th>profit</th>\n",
       "      <th>main_genre</th>\n",
       "      <th>main_production_company</th>\n",
       "    </tr>\n",
       "  </thead>\n",
       "  <tbody>\n",
       "    <tr>\n",
       "      <th>1</th>\n",
       "      <td>Pirates of the Caribbean: At World's End</td>\n",
       "      <td>6.9</td>\n",
       "      <td>5</td>\n",
       "      <td>3.472620e+08</td>\n",
       "      <td>1.112396e+09</td>\n",
       "      <td>3.203333</td>\n",
       "      <td>7.651340e+08</td>\n",
       "      <td>Adventure</td>\n",
       "      <td>Walt Disney Pictures</td>\n",
       "    </tr>\n",
       "    <tr>\n",
       "      <th>2</th>\n",
       "      <td>Spectre</td>\n",
       "      <td>6.3</td>\n",
       "      <td>10</td>\n",
       "      <td>2.480909e+08</td>\n",
       "      <td>8.917851e+08</td>\n",
       "      <td>3.594590</td>\n",
       "      <td>6.436942e+08</td>\n",
       "      <td>Action</td>\n",
       "      <td>Columbia Pictures</td>\n",
       "    </tr>\n",
       "    <tr>\n",
       "      <th>4</th>\n",
       "      <td>John Carter</td>\n",
       "      <td>6.1</td>\n",
       "      <td>3</td>\n",
       "      <td>2.717923e+08</td>\n",
       "      <td>2.970263e+08</td>\n",
       "      <td>1.092843</td>\n",
       "      <td>2.523393e+07</td>\n",
       "      <td>Action</td>\n",
       "      <td>Walt Disney Pictures</td>\n",
       "    </tr>\n",
       "    <tr>\n",
       "      <th>5</th>\n",
       "      <td>Spider-Man 3</td>\n",
       "      <td>5.9</td>\n",
       "      <td>5</td>\n",
       "      <td>2.986454e+08</td>\n",
       "      <td>1.031220e+09</td>\n",
       "      <td>3.452991</td>\n",
       "      <td>7.325743e+08</td>\n",
       "      <td>Fantasy</td>\n",
       "      <td>Columbia Pictures</td>\n",
       "    </tr>\n",
       "    <tr>\n",
       "      <th>6</th>\n",
       "      <td>Tangled</td>\n",
       "      <td>7.4</td>\n",
       "      <td>11</td>\n",
       "      <td>2.861742e+08</td>\n",
       "      <td>6.513710e+08</td>\n",
       "      <td>2.276134</td>\n",
       "      <td>3.651968e+08</td>\n",
       "      <td>Animation</td>\n",
       "      <td>Walt Disney Pictures</td>\n",
       "    </tr>\n",
       "    <tr>\n",
       "      <th>8</th>\n",
       "      <td>Harry Potter and the Half-Blood Prince</td>\n",
       "      <td>7.4</td>\n",
       "      <td>7</td>\n",
       "      <td>2.796804e+08</td>\n",
       "      <td>1.044840e+09</td>\n",
       "      <td>3.735837</td>\n",
       "      <td>7.651599e+08</td>\n",
       "      <td>Adventure</td>\n",
       "      <td>Warner Bros.</td>\n",
       "    </tr>\n",
       "    <tr>\n",
       "      <th>12</th>\n",
       "      <td>Pirates of the Caribbean: Dead Man's Chest</td>\n",
       "      <td>7.0</td>\n",
       "      <td>6</td>\n",
       "      <td>2.381122e+08</td>\n",
       "      <td>1.268733e+09</td>\n",
       "      <td>5.328299</td>\n",
       "      <td>1.030621e+09</td>\n",
       "      <td>Adventure</td>\n",
       "      <td>Walt Disney Pictures</td>\n",
       "    </tr>\n",
       "    <tr>\n",
       "      <th>13</th>\n",
       "      <td>The Lone Ranger</td>\n",
       "      <td>5.9</td>\n",
       "      <td>7</td>\n",
       "      <td>2.627172e+08</td>\n",
       "      <td>9.199213e+07</td>\n",
       "      <td>0.350157</td>\n",
       "      <td>-1.707250e+08</td>\n",
       "      <td>Action</td>\n",
       "      <td>Walt Disney Pictures</td>\n",
       "    </tr>\n",
       "    <tr>\n",
       "      <th>16</th>\n",
       "      <td>The Avengers</td>\n",
       "      <td>7.4</td>\n",
       "      <td>4</td>\n",
       "      <td>2.299781e+08</td>\n",
       "      <td>1.588478e+09</td>\n",
       "      <td>6.907081</td>\n",
       "      <td>1.358499e+09</td>\n",
       "      <td>Science Fiction</td>\n",
       "      <td>Paramount Pictures</td>\n",
       "    </tr>\n",
       "    <tr>\n",
       "      <th>17</th>\n",
       "      <td>Pirates of the Caribbean: On Stranger Tides</td>\n",
       "      <td>6.4</td>\n",
       "      <td>5</td>\n",
       "      <td>4.054551e+08</td>\n",
       "      <td>1.115763e+09</td>\n",
       "      <td>2.751878</td>\n",
       "      <td>7.103080e+08</td>\n",
       "      <td>Adventure</td>\n",
       "      <td>Walt Disney Pictures</td>\n",
       "    </tr>\n",
       "    <tr>\n",
       "      <th>20</th>\n",
       "      <td>The Amazing Spider-Man</td>\n",
       "      <td>6.5</td>\n",
       "      <td>6</td>\n",
       "      <td>2.247513e+08</td>\n",
       "      <td>7.863327e+08</td>\n",
       "      <td>3.498678</td>\n",
       "      <td>5.615813e+08</td>\n",
       "      <td>Action</td>\n",
       "      <td>Columbia Pictures</td>\n",
       "    </tr>\n",
       "    <tr>\n",
       "      <th>21</th>\n",
       "      <td>Robin Hood</td>\n",
       "      <td>6.2</td>\n",
       "      <td>5</td>\n",
       "      <td>2.201340e+08</td>\n",
       "      <td>3.419447e+08</td>\n",
       "      <td>1.553348</td>\n",
       "      <td>1.218107e+08</td>\n",
       "      <td>Action</td>\n",
       "      <td>Imagine Entertainment</td>\n",
       "    </tr>\n",
       "    <tr>\n",
       "      <th>23</th>\n",
       "      <td>The Golden Compass</td>\n",
       "      <td>5.8</td>\n",
       "      <td>12</td>\n",
       "      <td>2.083572e+08</td>\n",
       "      <td>4.308768e+08</td>\n",
       "      <td>2.067971</td>\n",
       "      <td>2.225196e+08</td>\n",
       "      <td>Adventure</td>\n",
       "      <td>New Line Cinema</td>\n",
       "    </tr>\n",
       "    <tr>\n",
       "      <th>25</th>\n",
       "      <td>Titanic</td>\n",
       "      <td>7.5</td>\n",
       "      <td>11</td>\n",
       "      <td>2.990433e+08</td>\n",
       "      <td>2.758726e+09</td>\n",
       "      <td>9.225171</td>\n",
       "      <td>2.459682e+09</td>\n",
       "      <td>Drama</td>\n",
       "      <td>Paramount Pictures</td>\n",
       "    </tr>\n",
       "    <tr>\n",
       "      <th>27</th>\n",
       "      <td>Battleship</td>\n",
       "      <td>5.5</td>\n",
       "      <td>4</td>\n",
       "      <td>2.184792e+08</td>\n",
       "      <td>3.167692e+08</td>\n",
       "      <td>1.449883</td>\n",
       "      <td>9.829002e+07</td>\n",
       "      <td>Thriller</td>\n",
       "      <td>Universal Pictures</td>\n",
       "    </tr>\n",
       "    <tr>\n",
       "      <th>29</th>\n",
       "      <td>Skyfall</td>\n",
       "      <td>6.9</td>\n",
       "      <td>10</td>\n",
       "      <td>2.090710e+08</td>\n",
       "      <td>1.158840e+09</td>\n",
       "      <td>5.542805</td>\n",
       "      <td>9.497689e+08</td>\n",
       "      <td>Action</td>\n",
       "      <td>Columbia Pictures</td>\n",
       "    </tr>\n",
       "    <tr>\n",
       "      <th>30</th>\n",
       "      <td>Spider-Man 2</td>\n",
       "      <td>6.7</td>\n",
       "      <td>6</td>\n",
       "      <td>2.541327e+08</td>\n",
       "      <td>9.959033e+08</td>\n",
       "      <td>3.918832</td>\n",
       "      <td>7.417706e+08</td>\n",
       "      <td>Action</td>\n",
       "      <td>Columbia Pictures</td>\n",
       "    </tr>\n",
       "    <tr>\n",
       "      <th>32</th>\n",
       "      <td>Alice in Wonderland</td>\n",
       "      <td>6.4</td>\n",
       "      <td>3</td>\n",
       "      <td>2.201340e+08</td>\n",
       "      <td>1.128727e+09</td>\n",
       "      <td>5.127456</td>\n",
       "      <td>9.085934e+08</td>\n",
       "      <td>Family</td>\n",
       "      <td>Walt Disney Pictures</td>\n",
       "    </tr>\n",
       "    <tr>\n",
       "      <th>34</th>\n",
       "      <td>Monsters University</td>\n",
       "      <td>7.0</td>\n",
       "      <td>6</td>\n",
       "      <td>2.060527e+08</td>\n",
       "      <td>7.660623e+08</td>\n",
       "      <td>3.717798</td>\n",
       "      <td>5.600096e+08</td>\n",
       "      <td>Animation</td>\n",
       "      <td>Walt Disney Pictures</td>\n",
       "    </tr>\n",
       "    <tr>\n",
       "      <th>35</th>\n",
       "      <td>Transformers: Revenge of the Fallen</td>\n",
       "      <td>6.0</td>\n",
       "      <td>6</td>\n",
       "      <td>1.678082e+08</td>\n",
       "      <td>9.355837e+08</td>\n",
       "      <td>5.575315</td>\n",
       "      <td>7.677755e+08</td>\n",
       "      <td>Science Fiction</td>\n",
       "      <td>Paramount Pictures</td>\n",
       "    </tr>\n",
       "    <tr>\n",
       "      <th>36</th>\n",
       "      <td>Transformers: Age of Extinction</td>\n",
       "      <td>5.8</td>\n",
       "      <td>6</td>\n",
       "      <td>2.129016e+08</td>\n",
       "      <td>1.106485e+09</td>\n",
       "      <td>5.197167</td>\n",
       "      <td>8.935835e+08</td>\n",
       "      <td>Science Fiction</td>\n",
       "      <td>Paramount Pictures</td>\n",
       "    </tr>\n",
       "    <tr>\n",
       "      <th>37</th>\n",
       "      <td>Oz: The Great and Powerful</td>\n",
       "      <td>5.7</td>\n",
       "      <td>3</td>\n",
       "      <td>2.060527e+08</td>\n",
       "      <td>5.067542e+08</td>\n",
       "      <td>2.459343</td>\n",
       "      <td>3.007015e+08</td>\n",
       "      <td>Fantasy</td>\n",
       "      <td>Walt Disney Pictures</td>\n",
       "    </tr>\n",
       "    <tr>\n",
       "      <th>38</th>\n",
       "      <td>The Amazing Spider-Man 2</td>\n",
       "      <td>6.5</td>\n",
       "      <td>4</td>\n",
       "      <td>2.027634e+08</td>\n",
       "      <td>7.154684e+08</td>\n",
       "      <td>3.528587</td>\n",
       "      <td>5.127050e+08</td>\n",
       "      <td>Action</td>\n",
       "      <td>Columbia Pictures</td>\n",
       "    </tr>\n",
       "    <tr>\n",
       "      <th>39</th>\n",
       "      <td>TRON: Legacy</td>\n",
       "      <td>6.3</td>\n",
       "      <td>12</td>\n",
       "      <td>1.871139e+08</td>\n",
       "      <td>4.403371e+08</td>\n",
       "      <td>2.353310</td>\n",
       "      <td>2.532232e+08</td>\n",
       "      <td>Adventure</td>\n",
       "      <td>Walt Disney Pictures</td>\n",
       "    </tr>\n",
       "    <tr>\n",
       "      <th>40</th>\n",
       "      <td>Cars 2</td>\n",
       "      <td>5.8</td>\n",
       "      <td>6</td>\n",
       "      <td>2.133974e+08</td>\n",
       "      <td>5.973552e+08</td>\n",
       "      <td>2.799262</td>\n",
       "      <td>3.839578e+08</td>\n",
       "      <td>Animation</td>\n",
       "      <td>Walt Disney Pictures</td>\n",
       "    </tr>\n",
       "    <tr>\n",
       "      <th>42</th>\n",
       "      <td>Toy Story 3</td>\n",
       "      <td>7.6</td>\n",
       "      <td>6</td>\n",
       "      <td>2.201340e+08</td>\n",
       "      <td>1.174382e+09</td>\n",
       "      <td>5.334849</td>\n",
       "      <td>9.542476e+08</td>\n",
       "      <td>Animation</td>\n",
       "      <td>Walt Disney Pictures</td>\n",
       "    </tr>\n",
       "    <tr>\n",
       "      <th>43</th>\n",
       "      <td>Terminator Salvation</td>\n",
       "      <td>5.9</td>\n",
       "      <td>5</td>\n",
       "      <td>2.237443e+08</td>\n",
       "      <td>4.154406e+08</td>\n",
       "      <td>1.856765</td>\n",
       "      <td>1.916963e+08</td>\n",
       "      <td>Action</td>\n",
       "      <td>Columbia Pictures</td>\n",
       "    </tr>\n",
       "    <tr>\n",
       "      <th>44</th>\n",
       "      <td>Furious 7</td>\n",
       "      <td>7.3</td>\n",
       "      <td>4</td>\n",
       "      <td>1.923970e+08</td>\n",
       "      <td>1.525252e+09</td>\n",
       "      <td>7.927628</td>\n",
       "      <td>1.332855e+09</td>\n",
       "      <td>Action</td>\n",
       "      <td>Universal Pictures</td>\n",
       "    </tr>\n",
       "    <tr>\n",
       "      <th>45</th>\n",
       "      <td>World War Z</td>\n",
       "      <td>6.7</td>\n",
       "      <td>6</td>\n",
       "      <td>2.060527e+08</td>\n",
       "      <td>5.479611e+08</td>\n",
       "      <td>2.659325</td>\n",
       "      <td>3.419084e+08</td>\n",
       "      <td>Action</td>\n",
       "      <td>Paramount Pictures</td>\n",
       "    </tr>\n",
       "    <tr>\n",
       "      <th>46</th>\n",
       "      <td>X-Men: Days of Future Past</td>\n",
       "      <td>7.5</td>\n",
       "      <td>5</td>\n",
       "      <td>2.534543e+08</td>\n",
       "      <td>7.581960e+08</td>\n",
       "      <td>2.991451</td>\n",
       "      <td>5.047418e+08</td>\n",
       "      <td>Action</td>\n",
       "      <td>Twentieth Century Fox Film Corporation</td>\n",
       "    </tr>\n",
       "    <tr>\n",
       "      <th>...</th>\n",
       "      <td>...</td>\n",
       "      <td>...</td>\n",
       "      <td>...</td>\n",
       "      <td>...</td>\n",
       "      <td>...</td>\n",
       "      <td>...</td>\n",
       "      <td>...</td>\n",
       "      <td>...</td>\n",
       "      <td>...</td>\n",
       "    </tr>\n",
       "    <tr>\n",
       "      <th>8382</th>\n",
       "      <td>Sing</td>\n",
       "      <td>6.8</td>\n",
       "      <td>11</td>\n",
       "      <td>7.500000e+07</td>\n",
       "      <td>6.324437e+08</td>\n",
       "      <td>8.432583</td>\n",
       "      <td>5.574437e+08</td>\n",
       "      <td>Animation</td>\n",
       "      <td>Universal Pictures</td>\n",
       "    </tr>\n",
       "    <tr>\n",
       "      <th>8384</th>\n",
       "      <td>Assassin's Creed</td>\n",
       "      <td>5.4</td>\n",
       "      <td>12</td>\n",
       "      <td>1.250000e+08</td>\n",
       "      <td>2.406979e+08</td>\n",
       "      <td>1.925583</td>\n",
       "      <td>1.156979e+08</td>\n",
       "      <td>Action</td>\n",
       "      <td>Regency Enterprises</td>\n",
       "    </tr>\n",
       "    <tr>\n",
       "      <th>8385</th>\n",
       "      <td>A Dog's Purpose</td>\n",
       "      <td>6.6</td>\n",
       "      <td>1</td>\n",
       "      <td>2.200000e+07</td>\n",
       "      <td>1.946473e+08</td>\n",
       "      <td>8.847606</td>\n",
       "      <td>1.726473e+08</td>\n",
       "      <td>Comedy</td>\n",
       "      <td>Universal Pictures</td>\n",
       "    </tr>\n",
       "    <tr>\n",
       "      <th>8386</th>\n",
       "      <td>Dangal</td>\n",
       "      <td>8.0</td>\n",
       "      <td>12</td>\n",
       "      <td>1.040000e+07</td>\n",
       "      <td>3.100000e+08</td>\n",
       "      <td>29.807692</td>\n",
       "      <td>2.996000e+08</td>\n",
       "      <td>Drama</td>\n",
       "      <td>Walt Disney Pictures</td>\n",
       "    </tr>\n",
       "    <tr>\n",
       "      <th>8392</th>\n",
       "      <td>Monster Trucks</td>\n",
       "      <td>6.0</td>\n",
       "      <td>12</td>\n",
       "      <td>1.250000e+08</td>\n",
       "      <td>6.449392e+07</td>\n",
       "      <td>0.515951</td>\n",
       "      <td>-6.050608e+07</td>\n",
       "      <td>Action</td>\n",
       "      <td>Paramount Pictures</td>\n",
       "    </tr>\n",
       "    <tr>\n",
       "      <th>8397</th>\n",
       "      <td>xXx: Return of Xander Cage</td>\n",
       "      <td>5.5</td>\n",
       "      <td>1</td>\n",
       "      <td>8.500000e+07</td>\n",
       "      <td>3.461477e+08</td>\n",
       "      <td>4.072325</td>\n",
       "      <td>2.611477e+08</td>\n",
       "      <td>Action</td>\n",
       "      <td>Paramount Pictures</td>\n",
       "    </tr>\n",
       "    <tr>\n",
       "      <th>8404</th>\n",
       "      <td>Rings</td>\n",
       "      <td>4.8</td>\n",
       "      <td>2</td>\n",
       "      <td>2.500000e+07</td>\n",
       "      <td>8.308089e+07</td>\n",
       "      <td>3.323236</td>\n",
       "      <td>5.808089e+07</td>\n",
       "      <td>Horror</td>\n",
       "      <td>Paramount Pictures</td>\n",
       "    </tr>\n",
       "    <tr>\n",
       "      <th>8409</th>\n",
       "      <td>Logan</td>\n",
       "      <td>7.6</td>\n",
       "      <td>2</td>\n",
       "      <td>9.700000e+07</td>\n",
       "      <td>6.168018e+08</td>\n",
       "      <td>6.358782</td>\n",
       "      <td>5.198018e+08</td>\n",
       "      <td>Action</td>\n",
       "      <td>Twentieth Century Fox Film Corporation</td>\n",
       "    </tr>\n",
       "    <tr>\n",
       "      <th>8413</th>\n",
       "      <td>King Arthur: Legend of the Sword</td>\n",
       "      <td>6.5</td>\n",
       "      <td>4</td>\n",
       "      <td>1.750000e+08</td>\n",
       "      <td>1.461751e+08</td>\n",
       "      <td>0.835286</td>\n",
       "      <td>-2.882493e+07</td>\n",
       "      <td>Action</td>\n",
       "      <td>Village Roadshow Pictures</td>\n",
       "    </tr>\n",
       "    <tr>\n",
       "      <th>8415</th>\n",
       "      <td>Beauty and the Beast</td>\n",
       "      <td>6.8</td>\n",
       "      <td>3</td>\n",
       "      <td>1.600000e+08</td>\n",
       "      <td>1.262886e+09</td>\n",
       "      <td>7.893040</td>\n",
       "      <td>1.102886e+09</td>\n",
       "      <td>Family</td>\n",
       "      <td>Walt Disney Pictures</td>\n",
       "    </tr>\n",
       "    <tr>\n",
       "      <th>8416</th>\n",
       "      <td>The Boss Baby</td>\n",
       "      <td>6.1</td>\n",
       "      <td>3</td>\n",
       "      <td>1.250000e+08</td>\n",
       "      <td>4.988149e+08</td>\n",
       "      <td>3.990519</td>\n",
       "      <td>3.738149e+08</td>\n",
       "      <td>Animation</td>\n",
       "      <td>Twentieth Century Fox Film Corporation</td>\n",
       "    </tr>\n",
       "    <tr>\n",
       "      <th>8419</th>\n",
       "      <td>Ghost in the Shell</td>\n",
       "      <td>5.9</td>\n",
       "      <td>3</td>\n",
       "      <td>1.100000e+08</td>\n",
       "      <td>1.698019e+08</td>\n",
       "      <td>1.543654</td>\n",
       "      <td>5.980192e+07</td>\n",
       "      <td>Action</td>\n",
       "      <td>Paramount Pictures</td>\n",
       "    </tr>\n",
       "    <tr>\n",
       "      <th>8420</th>\n",
       "      <td>Fifty Shades Darker</td>\n",
       "      <td>6.0</td>\n",
       "      <td>2</td>\n",
       "      <td>5.500000e+07</td>\n",
       "      <td>3.788275e+08</td>\n",
       "      <td>6.887773</td>\n",
       "      <td>3.238275e+08</td>\n",
       "      <td>Drama</td>\n",
       "      <td>Universal Pictures</td>\n",
       "    </tr>\n",
       "    <tr>\n",
       "      <th>8428</th>\n",
       "      <td>The Shack</td>\n",
       "      <td>6.9</td>\n",
       "      <td>3</td>\n",
       "      <td>2.000000e+07</td>\n",
       "      <td>5.733087e+07</td>\n",
       "      <td>2.866544</td>\n",
       "      <td>3.733087e+07</td>\n",
       "      <td>Drama</td>\n",
       "      <td>Summit Entertainment</td>\n",
       "    </tr>\n",
       "    <tr>\n",
       "      <th>8429</th>\n",
       "      <td>Life</td>\n",
       "      <td>6.3</td>\n",
       "      <td>3</td>\n",
       "      <td>5.800000e+07</td>\n",
       "      <td>1.005418e+08</td>\n",
       "      <td>1.733479</td>\n",
       "      <td>4.254181e+07</td>\n",
       "      <td>Horror</td>\n",
       "      <td>Columbia Pictures</td>\n",
       "    </tr>\n",
       "    <tr>\n",
       "      <th>8431</th>\n",
       "      <td>Power Rangers</td>\n",
       "      <td>6.3</td>\n",
       "      <td>3</td>\n",
       "      <td>1.000000e+08</td>\n",
       "      <td>1.423372e+08</td>\n",
       "      <td>1.423372</td>\n",
       "      <td>4.233724e+07</td>\n",
       "      <td>Action</td>\n",
       "      <td>Lionsgate</td>\n",
       "    </tr>\n",
       "    <tr>\n",
       "      <th>8432</th>\n",
       "      <td>Alien: Covenant</td>\n",
       "      <td>5.7</td>\n",
       "      <td>5</td>\n",
       "      <td>9.700000e+07</td>\n",
       "      <td>2.323802e+08</td>\n",
       "      <td>2.395673</td>\n",
       "      <td>1.353802e+08</td>\n",
       "      <td>Horror</td>\n",
       "      <td>Twentieth Century Fox Film Corporation</td>\n",
       "    </tr>\n",
       "    <tr>\n",
       "      <th>8434</th>\n",
       "      <td>CHiPS</td>\n",
       "      <td>6.2</td>\n",
       "      <td>3</td>\n",
       "      <td>2.500000e+07</td>\n",
       "      <td>2.680015e+07</td>\n",
       "      <td>1.072006</td>\n",
       "      <td>1.800152e+06</td>\n",
       "      <td>Action</td>\n",
       "      <td>Warner Bros.</td>\n",
       "    </tr>\n",
       "    <tr>\n",
       "      <th>8436</th>\n",
       "      <td>Going in Style</td>\n",
       "      <td>6.6</td>\n",
       "      <td>4</td>\n",
       "      <td>2.500000e+07</td>\n",
       "      <td>8.461854e+07</td>\n",
       "      <td>3.384742</td>\n",
       "      <td>5.961854e+07</td>\n",
       "      <td>Crime</td>\n",
       "      <td>New Line Cinema</td>\n",
       "    </tr>\n",
       "    <tr>\n",
       "      <th>8442</th>\n",
       "      <td>Smurfs: The Lost Village</td>\n",
       "      <td>6.2</td>\n",
       "      <td>3</td>\n",
       "      <td>6.000000e+07</td>\n",
       "      <td>1.971835e+08</td>\n",
       "      <td>3.286392</td>\n",
       "      <td>1.371835e+08</td>\n",
       "      <td>Adventure</td>\n",
       "      <td>Columbia Pictures</td>\n",
       "    </tr>\n",
       "    <tr>\n",
       "      <th>8444</th>\n",
       "      <td>Gifted</td>\n",
       "      <td>7.7</td>\n",
       "      <td>4</td>\n",
       "      <td>7.000000e+06</td>\n",
       "      <td>3.746104e+07</td>\n",
       "      <td>5.351578</td>\n",
       "      <td>3.046104e+07</td>\n",
       "      <td>Drama</td>\n",
       "      <td>Fox Searchlight Pictures</td>\n",
       "    </tr>\n",
       "    <tr>\n",
       "      <th>8449</th>\n",
       "      <td>Baywatch</td>\n",
       "      <td>6.1</td>\n",
       "      <td>5</td>\n",
       "      <td>6.900000e+07</td>\n",
       "      <td>1.778568e+08</td>\n",
       "      <td>2.577634</td>\n",
       "      <td>1.088568e+08</td>\n",
       "      <td>Action</td>\n",
       "      <td>Paramount Pictures</td>\n",
       "    </tr>\n",
       "    <tr>\n",
       "      <th>8451</th>\n",
       "      <td>Snatched</td>\n",
       "      <td>5.2</td>\n",
       "      <td>5</td>\n",
       "      <td>4.200000e+07</td>\n",
       "      <td>6.084571e+07</td>\n",
       "      <td>1.448707</td>\n",
       "      <td>1.884571e+07</td>\n",
       "      <td>Action</td>\n",
       "      <td>Twentieth Century Fox Film Corporation</td>\n",
       "    </tr>\n",
       "    <tr>\n",
       "      <th>8452</th>\n",
       "      <td>The Mummy</td>\n",
       "      <td>5.4</td>\n",
       "      <td>6</td>\n",
       "      <td>1.250000e+08</td>\n",
       "      <td>4.077780e+08</td>\n",
       "      <td>3.262224</td>\n",
       "      <td>2.827780e+08</td>\n",
       "      <td>Thriller</td>\n",
       "      <td>Universal Pictures</td>\n",
       "    </tr>\n",
       "    <tr>\n",
       "      <th>8453</th>\n",
       "      <td>The Fate of the Furious</td>\n",
       "      <td>6.8</td>\n",
       "      <td>4</td>\n",
       "      <td>2.500000e+08</td>\n",
       "      <td>1.238765e+09</td>\n",
       "      <td>4.955059</td>\n",
       "      <td>9.887648e+08</td>\n",
       "      <td>Action</td>\n",
       "      <td>Universal Pictures</td>\n",
       "    </tr>\n",
       "    <tr>\n",
       "      <th>8455</th>\n",
       "      <td>Cars 3</td>\n",
       "      <td>6.6</td>\n",
       "      <td>6</td>\n",
       "      <td>1.750000e+08</td>\n",
       "      <td>3.501701e+08</td>\n",
       "      <td>2.000972</td>\n",
       "      <td>1.751701e+08</td>\n",
       "      <td>Family</td>\n",
       "      <td>Walt Disney Pictures</td>\n",
       "    </tr>\n",
       "    <tr>\n",
       "      <th>8458</th>\n",
       "      <td>Lowriders</td>\n",
       "      <td>7.0</td>\n",
       "      <td>4</td>\n",
       "      <td>9.160000e+05</td>\n",
       "      <td>2.403885e+06</td>\n",
       "      <td>2.624329</td>\n",
       "      <td>1.487885e+06</td>\n",
       "      <td>Drama</td>\n",
       "      <td>Imagine Entertainment</td>\n",
       "    </tr>\n",
       "    <tr>\n",
       "      <th>8511</th>\n",
       "      <td>Transformers: The Last Knight</td>\n",
       "      <td>6.2</td>\n",
       "      <td>6</td>\n",
       "      <td>2.600000e+08</td>\n",
       "      <td>6.049421e+08</td>\n",
       "      <td>2.326701</td>\n",
       "      <td>3.449421e+08</td>\n",
       "      <td>Action</td>\n",
       "      <td>Paramount Pictures</td>\n",
       "    </tr>\n",
       "    <tr>\n",
       "      <th>8516</th>\n",
       "      <td>The Dark Tower</td>\n",
       "      <td>5.7</td>\n",
       "      <td>8</td>\n",
       "      <td>6.000000e+07</td>\n",
       "      <td>7.100000e+07</td>\n",
       "      <td>1.183333</td>\n",
       "      <td>1.100000e+07</td>\n",
       "      <td>Action</td>\n",
       "      <td>Imagine Entertainment</td>\n",
       "    </tr>\n",
       "    <tr>\n",
       "      <th>8517</th>\n",
       "      <td>The Emoji Movie</td>\n",
       "      <td>5.8</td>\n",
       "      <td>7</td>\n",
       "      <td>5.000000e+07</td>\n",
       "      <td>6.691394e+07</td>\n",
       "      <td>1.338279</td>\n",
       "      <td>1.691394e+07</td>\n",
       "      <td>Comedy</td>\n",
       "      <td>Columbia Pictures</td>\n",
       "    </tr>\n",
       "  </tbody>\n",
       "</table>\n",
       "<p>3173 rows × 9 columns</p>\n",
       "</div>"
      ],
      "text/plain": [
       "                                            title  vote_average  month  \\\n",
       "1        Pirates of the Caribbean: At World's End           6.9      5   \n",
       "2                                         Spectre           6.3     10   \n",
       "4                                     John Carter           6.1      3   \n",
       "5                                    Spider-Man 3           5.9      5   \n",
       "6                                         Tangled           7.4     11   \n",
       "8          Harry Potter and the Half-Blood Prince           7.4      7   \n",
       "12     Pirates of the Caribbean: Dead Man's Chest           7.0      6   \n",
       "13                                The Lone Ranger           5.9      7   \n",
       "16                                   The Avengers           7.4      4   \n",
       "17    Pirates of the Caribbean: On Stranger Tides           6.4      5   \n",
       "20                         The Amazing Spider-Man           6.5      6   \n",
       "21                                     Robin Hood           6.2      5   \n",
       "23                             The Golden Compass           5.8     12   \n",
       "25                                        Titanic           7.5     11   \n",
       "27                                     Battleship           5.5      4   \n",
       "29                                        Skyfall           6.9     10   \n",
       "30                                   Spider-Man 2           6.7      6   \n",
       "32                            Alice in Wonderland           6.4      3   \n",
       "34                            Monsters University           7.0      6   \n",
       "35            Transformers: Revenge of the Fallen           6.0      6   \n",
       "36                Transformers: Age of Extinction           5.8      6   \n",
       "37                     Oz: The Great and Powerful           5.7      3   \n",
       "38                       The Amazing Spider-Man 2           6.5      4   \n",
       "39                                   TRON: Legacy           6.3     12   \n",
       "40                                         Cars 2           5.8      6   \n",
       "42                                    Toy Story 3           7.6      6   \n",
       "43                           Terminator Salvation           5.9      5   \n",
       "44                                      Furious 7           7.3      4   \n",
       "45                                    World War Z           6.7      6   \n",
       "46                     X-Men: Days of Future Past           7.5      5   \n",
       "...                                           ...           ...    ...   \n",
       "8382                                         Sing           6.8     11   \n",
       "8384                             Assassin's Creed           5.4     12   \n",
       "8385                              A Dog's Purpose           6.6      1   \n",
       "8386                                       Dangal           8.0     12   \n",
       "8392                               Monster Trucks           6.0     12   \n",
       "8397                   xXx: Return of Xander Cage           5.5      1   \n",
       "8404                                        Rings           4.8      2   \n",
       "8409                                        Logan           7.6      2   \n",
       "8413             King Arthur: Legend of the Sword           6.5      4   \n",
       "8415                         Beauty and the Beast           6.8      3   \n",
       "8416                                The Boss Baby           6.1      3   \n",
       "8419                           Ghost in the Shell           5.9      3   \n",
       "8420                          Fifty Shades Darker           6.0      2   \n",
       "8428                                    The Shack           6.9      3   \n",
       "8429                                         Life           6.3      3   \n",
       "8431                                Power Rangers           6.3      3   \n",
       "8432                              Alien: Covenant           5.7      5   \n",
       "8434                                        CHiPS           6.2      3   \n",
       "8436                               Going in Style           6.6      4   \n",
       "8442                     Smurfs: The Lost Village           6.2      3   \n",
       "8444                                       Gifted           7.7      4   \n",
       "8449                                     Baywatch           6.1      5   \n",
       "8451                                     Snatched           5.2      5   \n",
       "8452                                    The Mummy           5.4      6   \n",
       "8453                      The Fate of the Furious           6.8      4   \n",
       "8455                                       Cars 3           6.6      6   \n",
       "8458                                    Lowriders           7.0      4   \n",
       "8511                Transformers: The Last Knight           6.2      6   \n",
       "8516                               The Dark Tower           5.7      8   \n",
       "8517                              The Emoji Movie           5.8      7   \n",
       "\n",
       "      adjusted_budget  adjusted_revenue  return_rate        profit  \\\n",
       "1        3.472620e+08      1.112396e+09     3.203333  7.651340e+08   \n",
       "2        2.480909e+08      8.917851e+08     3.594590  6.436942e+08   \n",
       "4        2.717923e+08      2.970263e+08     1.092843  2.523393e+07   \n",
       "5        2.986454e+08      1.031220e+09     3.452991  7.325743e+08   \n",
       "6        2.861742e+08      6.513710e+08     2.276134  3.651968e+08   \n",
       "8        2.796804e+08      1.044840e+09     3.735837  7.651599e+08   \n",
       "12       2.381122e+08      1.268733e+09     5.328299  1.030621e+09   \n",
       "13       2.627172e+08      9.199213e+07     0.350157 -1.707250e+08   \n",
       "16       2.299781e+08      1.588478e+09     6.907081  1.358499e+09   \n",
       "17       4.054551e+08      1.115763e+09     2.751878  7.103080e+08   \n",
       "20       2.247513e+08      7.863327e+08     3.498678  5.615813e+08   \n",
       "21       2.201340e+08      3.419447e+08     1.553348  1.218107e+08   \n",
       "23       2.083572e+08      4.308768e+08     2.067971  2.225196e+08   \n",
       "25       2.990433e+08      2.758726e+09     9.225171  2.459682e+09   \n",
       "27       2.184792e+08      3.167692e+08     1.449883  9.829002e+07   \n",
       "29       2.090710e+08      1.158840e+09     5.542805  9.497689e+08   \n",
       "30       2.541327e+08      9.959033e+08     3.918832  7.417706e+08   \n",
       "32       2.201340e+08      1.128727e+09     5.127456  9.085934e+08   \n",
       "34       2.060527e+08      7.660623e+08     3.717798  5.600096e+08   \n",
       "35       1.678082e+08      9.355837e+08     5.575315  7.677755e+08   \n",
       "36       2.129016e+08      1.106485e+09     5.197167  8.935835e+08   \n",
       "37       2.060527e+08      5.067542e+08     2.459343  3.007015e+08   \n",
       "38       2.027634e+08      7.154684e+08     3.528587  5.127050e+08   \n",
       "39       1.871139e+08      4.403371e+08     2.353310  2.532232e+08   \n",
       "40       2.133974e+08      5.973552e+08     2.799262  3.839578e+08   \n",
       "42       2.201340e+08      1.174382e+09     5.334849  9.542476e+08   \n",
       "43       2.237443e+08      4.154406e+08     1.856765  1.916963e+08   \n",
       "44       1.923970e+08      1.525252e+09     7.927628  1.332855e+09   \n",
       "45       2.060527e+08      5.479611e+08     2.659325  3.419084e+08   \n",
       "46       2.534543e+08      7.581960e+08     2.991451  5.047418e+08   \n",
       "...               ...               ...          ...           ...   \n",
       "8382     7.500000e+07      6.324437e+08     8.432583  5.574437e+08   \n",
       "8384     1.250000e+08      2.406979e+08     1.925583  1.156979e+08   \n",
       "8385     2.200000e+07      1.946473e+08     8.847606  1.726473e+08   \n",
       "8386     1.040000e+07      3.100000e+08    29.807692  2.996000e+08   \n",
       "8392     1.250000e+08      6.449392e+07     0.515951 -6.050608e+07   \n",
       "8397     8.500000e+07      3.461477e+08     4.072325  2.611477e+08   \n",
       "8404     2.500000e+07      8.308089e+07     3.323236  5.808089e+07   \n",
       "8409     9.700000e+07      6.168018e+08     6.358782  5.198018e+08   \n",
       "8413     1.750000e+08      1.461751e+08     0.835286 -2.882493e+07   \n",
       "8415     1.600000e+08      1.262886e+09     7.893040  1.102886e+09   \n",
       "8416     1.250000e+08      4.988149e+08     3.990519  3.738149e+08   \n",
       "8419     1.100000e+08      1.698019e+08     1.543654  5.980192e+07   \n",
       "8420     5.500000e+07      3.788275e+08     6.887773  3.238275e+08   \n",
       "8428     2.000000e+07      5.733087e+07     2.866544  3.733087e+07   \n",
       "8429     5.800000e+07      1.005418e+08     1.733479  4.254181e+07   \n",
       "8431     1.000000e+08      1.423372e+08     1.423372  4.233724e+07   \n",
       "8432     9.700000e+07      2.323802e+08     2.395673  1.353802e+08   \n",
       "8434     2.500000e+07      2.680015e+07     1.072006  1.800152e+06   \n",
       "8436     2.500000e+07      8.461854e+07     3.384742  5.961854e+07   \n",
       "8442     6.000000e+07      1.971835e+08     3.286392  1.371835e+08   \n",
       "8444     7.000000e+06      3.746104e+07     5.351578  3.046104e+07   \n",
       "8449     6.900000e+07      1.778568e+08     2.577634  1.088568e+08   \n",
       "8451     4.200000e+07      6.084571e+07     1.448707  1.884571e+07   \n",
       "8452     1.250000e+08      4.077780e+08     3.262224  2.827780e+08   \n",
       "8453     2.500000e+08      1.238765e+09     4.955059  9.887648e+08   \n",
       "8455     1.750000e+08      3.501701e+08     2.000972  1.751701e+08   \n",
       "8458     9.160000e+05      2.403885e+06     2.624329  1.487885e+06   \n",
       "8511     2.600000e+08      6.049421e+08     2.326701  3.449421e+08   \n",
       "8516     6.000000e+07      7.100000e+07     1.183333  1.100000e+07   \n",
       "8517     5.000000e+07      6.691394e+07     1.338279  1.691394e+07   \n",
       "\n",
       "           main_genre                 main_production_company  \n",
       "1           Adventure                    Walt Disney Pictures  \n",
       "2              Action                       Columbia Pictures  \n",
       "4              Action                    Walt Disney Pictures  \n",
       "5             Fantasy                       Columbia Pictures  \n",
       "6           Animation                    Walt Disney Pictures  \n",
       "8           Adventure                            Warner Bros.  \n",
       "12          Adventure                    Walt Disney Pictures  \n",
       "13             Action                    Walt Disney Pictures  \n",
       "16    Science Fiction                      Paramount Pictures  \n",
       "17          Adventure                    Walt Disney Pictures  \n",
       "20             Action                       Columbia Pictures  \n",
       "21             Action                   Imagine Entertainment  \n",
       "23          Adventure                         New Line Cinema  \n",
       "25              Drama                      Paramount Pictures  \n",
       "27           Thriller                      Universal Pictures  \n",
       "29             Action                       Columbia Pictures  \n",
       "30             Action                       Columbia Pictures  \n",
       "32             Family                    Walt Disney Pictures  \n",
       "34          Animation                    Walt Disney Pictures  \n",
       "35    Science Fiction                      Paramount Pictures  \n",
       "36    Science Fiction                      Paramount Pictures  \n",
       "37            Fantasy                    Walt Disney Pictures  \n",
       "38             Action                       Columbia Pictures  \n",
       "39          Adventure                    Walt Disney Pictures  \n",
       "40          Animation                    Walt Disney Pictures  \n",
       "42          Animation                    Walt Disney Pictures  \n",
       "43             Action                       Columbia Pictures  \n",
       "44             Action                      Universal Pictures  \n",
       "45             Action                      Paramount Pictures  \n",
       "46             Action  Twentieth Century Fox Film Corporation  \n",
       "...               ...                                     ...  \n",
       "8382        Animation                      Universal Pictures  \n",
       "8384           Action                     Regency Enterprises  \n",
       "8385           Comedy                      Universal Pictures  \n",
       "8386            Drama                    Walt Disney Pictures  \n",
       "8392           Action                      Paramount Pictures  \n",
       "8397           Action                      Paramount Pictures  \n",
       "8404           Horror                      Paramount Pictures  \n",
       "8409           Action  Twentieth Century Fox Film Corporation  \n",
       "8413           Action               Village Roadshow Pictures  \n",
       "8415           Family                    Walt Disney Pictures  \n",
       "8416        Animation  Twentieth Century Fox Film Corporation  \n",
       "8419           Action                      Paramount Pictures  \n",
       "8420            Drama                      Universal Pictures  \n",
       "8428            Drama                    Summit Entertainment  \n",
       "8429           Horror                       Columbia Pictures  \n",
       "8431           Action                               Lionsgate  \n",
       "8432           Horror  Twentieth Century Fox Film Corporation  \n",
       "8434           Action                            Warner Bros.  \n",
       "8436            Crime                         New Line Cinema  \n",
       "8442        Adventure                       Columbia Pictures  \n",
       "8444            Drama                Fox Searchlight Pictures  \n",
       "8449           Action                      Paramount Pictures  \n",
       "8451           Action  Twentieth Century Fox Film Corporation  \n",
       "8452         Thriller                      Universal Pictures  \n",
       "8453           Action                      Universal Pictures  \n",
       "8455           Family                    Walt Disney Pictures  \n",
       "8458            Drama                   Imagine Entertainment  \n",
       "8511           Action                      Paramount Pictures  \n",
       "8516           Action                   Imagine Entertainment  \n",
       "8517           Comedy                       Columbia Pictures  \n",
       "\n",
       "[3173 rows x 9 columns]"
      ]
     },
     "execution_count": 26,
     "metadata": {},
     "output_type": "execute_result"
    }
   ],
   "source": [
    "# Check what the df looks like as of now\n",
    "df.head()\n",
    "df"
   ]
  },
  {
   "cell_type": "markdown",
   "metadata": {},
   "source": [
    "# Data Visualization\n",
    "First, we need to do some exploratory data visualization, to get a feel for the data. \n"
   ]
  },
  {
   "cell_type": "code",
   "execution_count": 27,
   "metadata": {},
   "outputs": [
    {
     "data": {
      "image/png": "[encoded data removed]",
      "text/plain": [
       "<matplotlib.figure.Figure at 0x11123db38>"
      ]
     },
     "metadata": {},
     "output_type": "display_data"
    }
   ],
   "source": [
    "# Plot the data, using scatter_matrix, from Pandas. Assign it to a variable called 'fig'.\n",
    "fig = pd.plotting.scatter_matrix(df[['profit','month','vote_average']], alpha=0.2, diagonal='kde')"
   ]
  },
  {
   "cell_type": "code",
   "execution_count": 28,
   "metadata": {},
   "outputs": [
    {
     "data": {
      "image/png": "[encoded data removed]",
      "text/plain": [
       "<matplotlib.figure.Figure at 0x118e7f668>"
      ]
     },
     "metadata": {},
     "output_type": "display_data"
    }
   ],
   "source": [
    "fig = pd.plotting.scatter_matrix(df[['month','vote_average','return_rate']], alpha=0.2, diagonal='kde')"
   ]
  },
  {
   "cell_type": "markdown",
   "metadata": {},
   "source": [
    "We can see that most of the movies' return rates are close to each other and under 100, but there are some movies with extremely high return rate."
   ]
  },
  {
   "cell_type": "code",
   "execution_count": 29,
   "metadata": {
    "scrolled": true
   },
   "outputs": [
    {
     "data": {
      "image/png": "[encoded data removed]",
      "text/plain": [
       "<matplotlib.figure.Figure at 0x11a5a16d8>"
      ]
     },
     "metadata": {},
     "output_type": "display_data"
    }
   ],
   "source": [
    "# Plot a bar chart showing the number of movies in each genre. \n",
    "df.main_genre.value_counts().plot.barh()\n",
    "f1 = plt.gcf()"
   ]
  },
  {
   "cell_type": "code",
   "execution_count": 30,
   "metadata": {},
   "outputs": [
    {
     "data": {
      "image/png": "[encoded data removed]",
      "text/plain": [
       "<matplotlib.figure.Figure at 0x11a64b6d8>"
      ]
     },
     "metadata": {},
     "output_type": "display_data"
    }
   ],
   "source": [
    "df[df[\"main_genre\"] == 'Documentary'].hist(column='profit', bins=25)\n",
    "plt.xlabel('Profit (scaled)')\n",
    "plt.ylabel('Count of Documentary Movies')\n",
    "plt.title('Histogram of Documentary Genre Profit')\n",
    "f_Documentary = plt.gcf()"
   ]
  },
  {
   "cell_type": "code",
   "execution_count": 31,
   "metadata": {},
   "outputs": [
    {
     "data": {
      "image/png": "[encoded data removed]",
      "text/plain": [
       "<matplotlib.figure.Figure at 0x11a696668>"
      ]
     },
     "metadata": {},
     "output_type": "display_data"
    }
   ],
   "source": [
    "df[df[\"main_genre\"] == 'Mystery'].hist(column='profit', bins=25)\n",
    "plt.xlabel('Profit (scaled)')\n",
    "plt.ylabel('Count of Mystery Movies')\n",
    "plt.title('Histogram of Mystery Genre Profit')\n",
    "f_Mystery = plt.gcf()"
   ]
  },
  {
   "cell_type": "code",
   "execution_count": 32,
   "metadata": {},
   "outputs": [
    {
     "data": {
      "image/png": "[encoded data removed]",
      "text/plain": [
       "<matplotlib.figure.Figure at 0x11a854940>"
      ]
     },
     "metadata": {},
     "output_type": "display_data"
    }
   ],
   "source": [
    "df[df[\"main_genre\"] == 'Family'].hist(column='profit', bins=25)\n",
    "plt.xlabel('Profit (scaled)')\n",
    "plt.ylabel('Count of Family Movies')\n",
    "plt.title('Histogram of Family Genre Profit')\n",
    "f_Family = plt.gcf()"
   ]
  },
  {
   "cell_type": "code",
   "execution_count": 33,
   "metadata": {},
   "outputs": [
    {
     "data": {
      "image/png": "[encoded data removed]",
      "text/plain": [
       "<matplotlib.figure.Figure at 0x11a8920b8>"
      ]
     },
     "metadata": {},
     "output_type": "display_data"
    }
   ],
   "source": [
    "df[df[\"main_genre\"] == 'Science Fiction'].hist(column='profit', bins=25)\n",
    "plt.xlabel('Profit (scaled)')\n",
    "plt.ylabel('Count of Science Fiction Movies')\n",
    "plt.title('Histogram of Science Fiction Genre Profit')\n",
    "f_Science_Fiction = plt.gcf()"
   ]
  },
  {
   "cell_type": "code",
   "execution_count": 34,
   "metadata": {},
   "outputs": [
    {
     "data": {
      "image/png": "[encoded data removed]",
      "text/plain": [
       "<matplotlib.figure.Figure at 0x11aa50898>"
      ]
     },
     "metadata": {},
     "output_type": "display_data"
    }
   ],
   "source": [
    "df[df[\"main_genre\"] == 'Romance'].hist(column='profit', bins=25)\n",
    "plt.xlabel('Profit (scaled)')\n",
    "plt.ylabel('Count of Romance Movies')\n",
    "plt.title('Histogram of Romance Genre Profit')\n",
    "f_Romance = plt.gcf()"
   ]
  },
  {
   "cell_type": "code",
   "execution_count": 35,
   "metadata": {},
   "outputs": [
    {
     "data": {
      "image/png": "[encoded data removed]",
      "text/plain": [
       "<matplotlib.figure.Figure at 0x11949cc50>"
      ]
     },
     "metadata": {},
     "output_type": "display_data"
    }
   ],
   "source": [
    "df[df[\"main_genre\"] == 'Fantasy'].hist(column='profit', bins=25)\n",
    "plt.xlabel('Profit (scaled)')\n",
    "plt.ylabel('Count of Fantasy Movies')\n",
    "plt.title('Histogram of Fantasy Genre Profit')\n",
    "f_Fantasy = plt.gcf()"
   ]
  },
  {
   "cell_type": "code",
   "execution_count": 36,
   "metadata": {},
   "outputs": [
    {
     "data": {
      "image/png": "[encoded data removed]",
      "text/plain": [
       "<matplotlib.figure.Figure at 0x114e57518>"
      ]
     },
     "metadata": {},
     "output_type": "display_data"
    }
   ],
   "source": [
    "df[df[\"main_genre\"] == 'Animation'].hist(column='profit', bins=25)\n",
    "plt.xlabel('Profit (scaled)')\n",
    "plt.ylabel('Count of Animation Movies')\n",
    "plt.title('Histogram of Animation Genre Profit')\n",
    "f_Animation = plt.gcf()"
   ]
  },
  {
   "cell_type": "code",
   "execution_count": 37,
   "metadata": {},
   "outputs": [
    {
     "data": {
      "image/png": "[encoded data removed]",
      "text/plain": [
       "<matplotlib.figure.Figure at 0x1196b6940>"
      ]
     },
     "metadata": {},
     "output_type": "display_data"
    }
   ],
   "source": [
    "df[df[\"main_genre\"] == 'Thriller'].hist(column='profit', bins=25)\n",
    "plt.xlabel('Profit (scaled)')\n",
    "plt.ylabel('Count of Thriller Movies')\n",
    "plt.title('Histogram of Thriller Genre Profit')\n",
    "f_Animation = plt.gcf()"
   ]
  },
  {
   "cell_type": "code",
   "execution_count": 38,
   "metadata": {},
   "outputs": [
    {
     "data": {
      "image/png": "[encoded data removed]",
      "text/plain": [
       "<matplotlib.figure.Figure at 0x114e69588>"
      ]
     },
     "metadata": {},
     "output_type": "display_data"
    }
   ],
   "source": [
    "df[df[\"main_genre\"] == 'Crime'].hist(column='profit', bins=25)\n",
    "plt.xlabel('Profit (scaled)')\n",
    "plt.ylabel('Count of Crime Movies')\n",
    "plt.title('Histogram of Crime Genre Profit')\n",
    "f_Crime = plt.gcf()"
   ]
  },
  {
   "cell_type": "code",
   "execution_count": 39,
   "metadata": {},
   "outputs": [
    {
     "data": {
      "image/png": "[encoded data removed]",
      "text/plain": [
       "<matplotlib.figure.Figure at 0x11abd2128>"
      ]
     },
     "metadata": {},
     "output_type": "display_data"
    }
   ],
   "source": [
    "df[df[\"main_genre\"] == 'Horror'].hist(column='profit', bins=25)\n",
    "plt.xlabel('Profit (scaled)')\n",
    "plt.ylabel('Count of Horror Movies')\n",
    "plt.title('Histogram of Horror Genre Profit')\n",
    "f_Horror = plt.gcf()"
   ]
  },
  {
   "cell_type": "code",
   "execution_count": 40,
   "metadata": {},
   "outputs": [
    {
     "data": {
      "image/png": "[encoded data removed]",
      "text/plain": [
       "<matplotlib.figure.Figure at 0x11b0d4b38>"
      ]
     },
     "metadata": {},
     "output_type": "display_data"
    }
   ],
   "source": [
    "df[df[\"main_genre\"] == 'Adventure'].hist(column='profit', bins=25)\n",
    "plt.xlabel('Profit (scaled)')\n",
    "plt.ylabel('Count of Adventure Movies')\n",
    "plt.title('Histogram of Adventure Genre Profit')\n",
    "f_Adventure = plt.gcf()"
   ]
  },
  {
   "cell_type": "code",
   "execution_count": 41,
   "metadata": {},
   "outputs": [
    {
     "data": {
      "image/png": "[encoded data removed]",
      "text/plain": [
       "<matplotlib.figure.Figure at 0x11a94c390>"
      ]
     },
     "metadata": {},
     "output_type": "display_data"
    }
   ],
   "source": [
    "df[df[\"main_genre\"] == 'Action'].hist(column='profit', bins=25)\n",
    "plt.xlabel('Profit (scaled)')\n",
    "plt.ylabel('Count of Action Movies')\n",
    "plt.title('Histogram of Action Genre Profit')\n",
    "f_Action = plt.gcf()"
   ]
  },
  {
   "cell_type": "code",
   "execution_count": 42,
   "metadata": {},
   "outputs": [
    {
     "data": {
      "image/png": "[encoded data removed]",
      "text/plain": [
       "<matplotlib.figure.Figure at 0x11b34abe0>"
      ]
     },
     "metadata": {},
     "output_type": "display_data"
    }
   ],
   "source": [
    "df[df[\"main_genre\"] == 'Comedy'].hist(column='profit', bins=25)\n",
    "plt.xlabel('Profit (scaled)')\n",
    "plt.ylabel('Count of Comedy Movies')\n",
    "plt.title('Histogram of Comedy Genre Profit')\n",
    "f_Comedy = plt.gcf()"
   ]
  },
  {
   "cell_type": "code",
   "execution_count": 43,
   "metadata": {},
   "outputs": [
    {
     "data": {
      "image/png": "[encoded data removed]",
      "text/plain": [
       "<matplotlib.figure.Figure at 0x11b35a6a0>"
      ]
     },
     "metadata": {},
     "output_type": "display_data"
    }
   ],
   "source": [
    "df[df[\"main_genre\"] == 'Drama'].hist(column='profit', bins=25)\n",
    "plt.xlabel('Profit (scaled)')\n",
    "plt.ylabel('Count of Drama Movies')\n",
    "plt.title('Histogram of Drama Genre Profit')\n",
    "f_Drama = plt.gcf()"
   ]
  },
  {
   "cell_type": "markdown",
   "metadata": {},
   "source": [
    "Continuing to see profit trends depending on different variables, we will see profit trends concerning months."
   ]
  },
  {
   "cell_type": "code",
   "execution_count": 44,
   "metadata": {},
   "outputs": [
    {
     "data": {
      "image/png": "[encoded data removed]",
      "text/plain": [
       "<matplotlib.figure.Figure at 0x11a66ae10>"
      ]
     },
     "metadata": {},
     "output_type": "display_data"
    }
   ],
   "source": [
    "df[df[\"month\"] == 1].hist(column='profit', bins=25)\n",
    "plt.xlabel('Profit (scaled)')\n",
    "plt.ylabel('Count of January Movies')\n",
    "plt.title('Histogram of January Movies Profit')\n",
    "f_January = plt.gcf()"
   ]
  },
  {
   "cell_type": "code",
   "execution_count": 45,
   "metadata": {},
   "outputs": [
    {
     "data": {
      "image/png": "[encoded data removed]",
      "text/plain": [
       "<matplotlib.figure.Figure at 0x11b57f5c0>"
      ]
     },
     "metadata": {},
     "output_type": "display_data"
    }
   ],
   "source": [
    "df[df[\"month\"] == 2].hist(column='profit', bins=25)\n",
    "plt.xlabel('Profit (scaled)')\n",
    "plt.ylabel('Count of February Movies')\n",
    "plt.title('Histogram of February Movies Profit')\n",
    "f_February = plt.gcf()"
   ]
  },
  {
   "cell_type": "code",
   "execution_count": 46,
   "metadata": {},
   "outputs": [
    {
     "data": {
      "image/png": "[encoded data removed]",
      "text/plain": [
       "<matplotlib.figure.Figure at 0x11b0f65f8>"
      ]
     },
     "metadata": {},
     "output_type": "display_data"
    }
   ],
   "source": [
    "df[df[\"month\"] == 3].hist(column='profit', bins=25)\n",
    "plt.xlabel('Profit (scaled)')\n",
    "plt.ylabel('Count of March Movies')\n",
    "plt.title('Histogram of March Movies Profit')\n",
    "f_March = plt.gcf()"
   ]
  },
  {
   "cell_type": "code",
   "execution_count": 47,
   "metadata": {},
   "outputs": [
    {
     "data": {
      "image/png": "[encoded data removed]",
      "text/plain": [
       "<matplotlib.figure.Figure at 0x114e44400>"
      ]
     },
     "metadata": {},
     "output_type": "display_data"
    }
   ],
   "source": [
    "df[df[\"month\"] == 4].hist(column='profit', bins=25)\n",
    "plt.xlabel('Profit (scaled)')\n",
    "plt.ylabel('Count of April Movies')\n",
    "plt.title('Histogram of April Movies Profit')\n",
    "f_April = plt.gcf()"
   ]
  },
  {
   "cell_type": "code",
   "execution_count": 48,
   "metadata": {},
   "outputs": [
    {
     "data": {
      "image/png": "[encoded data removed]",
      "text/plain": [
       "<matplotlib.figure.Figure at 0x11bdf02e8>"
      ]
     },
     "metadata": {},
     "output_type": "display_data"
    }
   ],
   "source": [
    "df[df[\"month\"] == 5].hist(column='profit', bins=25)\n",
    "plt.xlabel('Profit (scaled)')\n",
    "plt.ylabel('Count of May Movies')\n",
    "plt.title('Histogram of May Movies Profit')\n",
    "f_May = plt.gcf()"
   ]
  },
  {
   "cell_type": "code",
   "execution_count": 49,
   "metadata": {},
   "outputs": [
    {
     "data": {
      "image/png": "[encoded data removed]",
      "text/plain": [
       "<matplotlib.figure.Figure at 0x11c0b8a58>"
      ]
     },
     "metadata": {},
     "output_type": "display_data"
    }
   ],
   "source": [
    "df[df[\"month\"] == 6].hist(column='profit', bins=25)\n",
    "plt.xlabel('Profit (scaled)')\n",
    "plt.ylabel('Count of June Movies')\n",
    "plt.title('Histogram of June Movies Profit')\n",
    "f_June = plt.gcf()"
   ]
  },
  {
   "cell_type": "code",
   "execution_count": 50,
   "metadata": {},
   "outputs": [
    {
     "data": {
      "image/png": "[encoded data removed]",
      "text/plain": [
       "<matplotlib.figure.Figure at 0x11e9620b8>"
      ]
     },
     "metadata": {},
     "output_type": "display_data"
    }
   ],
   "source": [
    "df[df[\"month\"] == 7].hist(column='profit', bins=25)\n",
    "plt.xlabel('Profit (scaled)')\n",
    "plt.ylabel('Count of July Movies')\n",
    "plt.title('Histogram of July Movies Profit')\n",
    "f_July = plt.gcf()"
   ]
  },
  {
   "cell_type": "code",
   "execution_count": 51,
   "metadata": {},
   "outputs": [
    {
     "data": {
      "image/png": "[encoded data removed]",
      "text/plain": [
       "<matplotlib.figure.Figure at 0x11ea46cc0>"
      ]
     },
     "metadata": {},
     "output_type": "display_data"
    }
   ],
   "source": [
    "df[df[\"month\"] == 8].hist(column='profit', bins=25)\n",
    "plt.xlabel('Profit (scaled)')\n",
    "plt.ylabel('Count of August Movies')\n",
    "plt.title('Histogram of August Movies Profit')\n",
    "f_August = plt.gcf()"
   ]
  },
  {
   "cell_type": "code",
   "execution_count": 52,
   "metadata": {},
   "outputs": [
    {
     "data": {
      "image/png": "[encoded data removed]",
      "text/plain": [
       "<matplotlib.figure.Figure at 0x11eb46ac8>"
      ]
     },
     "metadata": {},
     "output_type": "display_data"
    }
   ],
   "source": [
    "df[df[\"month\"] == 9].hist(column='profit', bins=25)\n",
    "plt.xlabel('Profit (scaled)')\n",
    "plt.ylabel('Count of September Movies')\n",
    "plt.title('Histogram of September Movies Profit')\n",
    "f_September = plt.gcf()"
   ]
  },
  {
   "cell_type": "code",
   "execution_count": 53,
   "metadata": {},
   "outputs": [
    {
     "data": {
      "image/png": "[encoded data removed]",
      "text/plain": [
       "<matplotlib.figure.Figure at 0x11ec3d710>"
      ]
     },
     "metadata": {},
     "output_type": "display_data"
    }
   ],
   "source": [
    "df[df[\"month\"] == 10].hist(column='profit', bins=25)\n",
    "plt.xlabel('Profit (scaled)')\n",
    "plt.ylabel('Count of October Movies')\n",
    "plt.title('Histogram of October Movies Profit')\n",
    "f_October = plt.gcf()"
   ]
  },
  {
   "cell_type": "code",
   "execution_count": 54,
   "metadata": {},
   "outputs": [
    {
     "data": {
      "image/png": "[encoded data removed]",
      "text/plain": [
       "<matplotlib.figure.Figure at 0x11ec7fac8>"
      ]
     },
     "metadata": {},
     "output_type": "display_data"
    }
   ],
   "source": [
    "df[df[\"month\"] == 11].hist(column='profit', bins=25)\n",
    "plt.xlabel('Profit (scaled)')\n",
    "plt.ylabel('Count of November Movies')\n",
    "plt.title('Histogram of November Movies Profit')\n",
    "f_November = plt.gcf()"
   ]
  },
  {
   "cell_type": "code",
   "execution_count": 55,
   "metadata": {},
   "outputs": [
    {
     "data": {
      "image/png": "[encoded data removed]",
      "text/plain": [
       "<matplotlib.figure.Figure at 0x11ed737b8>"
      ]
     },
     "metadata": {},
     "output_type": "display_data"
    }
   ],
   "source": [
    "df[df[\"month\"] == 12].hist(column='profit', bins=25)\n",
    "plt.xlabel('Profit (scaled)')\n",
    "plt.ylabel('Count of December Movies')\n",
    "plt.title('Histogram of December Movies Profit')\n",
    "f_December = plt.gcf()"
   ]
  },
  {
   "cell_type": "markdown",
   "metadata": {
    "collapsed": true
   },
   "source": [
    "# Data Analysis and Results"
   ]
  },
  {
   "cell_type": "code",
   "execution_count": 56,
   "metadata": {
    "collapsed": true
   },
   "outputs": [],
   "source": [
    "# Contain each month's profit values in a separate list \n",
    "pro_jan = df[df['month'] == 1]['profit'].values\n",
    "pro_feb = df[df['month'] == 2]['profit'].values\n",
    "pro_mar = df[df['month'] == 3]['profit'].values\n",
    "pro_apr = df[df['month'] == 4]['profit'].values\n",
    "pro_may = df[df['month'] == 5]['profit'].values\n",
    "pro_jun = df[df['month'] == 6]['profit'].values\n",
    "pro_jul = df[df['month'] == 7]['profit'].values\n",
    "pro_aug = df[df['month'] == 8]['profit'].values\n",
    "pro_sep = df[df['month'] == 9]['profit'].values\n",
    "pro_oct = df[df['month'] == 10]['profit'].values\n",
    "pro_nov = df[df['month'] == 11]['profit'].values\n",
    "pro_dec = df[df['month'] == 12]['profit'].values"
   ]
  },
  {
   "cell_type": "code",
   "execution_count": 57,
   "metadata": {
    "collapsed": true
   },
   "outputs": [],
   "source": [
    "# Use the 'normaltest' function to test for normality of the distribution\n",
    "st_jan, p_jan = stats.normaltest(pro_jan)\n",
    "st_feb, p_feb = stats.normaltest(pro_feb)\n",
    "st_mar, p_mar = stats.normaltest(pro_mar)\n",
    "st_apr, p_apr = stats.normaltest(pro_apr)\n",
    "st_may, p_may = stats.normaltest(pro_may)\n",
    "st_jun, p_jun = stats.normaltest(pro_jun)\n",
    "st_jul, p_jul = stats.normaltest(pro_jul)\n",
    "st_aug, p_aug = stats.normaltest(pro_aug)\n",
    "st_sep, p_sep = stats.normaltest(pro_sep)\n",
    "st_oct, p_oct = stats.normaltest(pro_oct)\n",
    "st_nov, p_nov = stats.normaltest(pro_nov)\n",
    "st_dec, p_dec = stats.normaltest(pro_dec)"
   ]
  },
  {
   "cell_type": "markdown",
   "metadata": {},
   "source": [
    "if p_jun < 0.05:\n",
    "    is_n_jan = False\n",
    "else:\n",
    "    is_n_jan = True\n",
    "print(is_n_jan)"
   ]
  },
  {
   "cell_type": "markdown",
   "metadata": {
    "collapsed": true
   },
   "source": [
    "xs = np.arange(pro_jan.min(), pro_jan.max(), 0.1)\n",
    "fit = stats.norm.pdf(xs, np.mean(pro_jan), np.std(pro_jan))\n",
    "plt.plot(xs, fit, label='Normal Dist.', lw=4)\n",
    "plt.hist(pro_jan, normed=True, label='Actual Data');\n",
    "plt.title('January - profit')\n",
    "plt.legend();"
   ]
  },
  {
   "cell_type": "markdown",
   "metadata": {},
   "source": [
    "### First we'll look at the average profit of a movie based on the month of its release date"
   ]
  },
  {
   "cell_type": "code",
   "execution_count": 58,
   "metadata": {
    "collapsed": true
   },
   "outputs": [],
   "source": [
    "avg_pro_jan = pro_jan.mean()\n",
    "avg_pro_feb = pro_feb.mean()\n",
    "avg_pro_mar = pro_mar.mean()\n",
    "avg_pro_apr = pro_apr.mean()\n",
    "avg_pro_may = pro_may.mean()\n",
    "avg_pro_jun = pro_jun.mean()\n",
    "avg_pro_jul = pro_jul.mean()\n",
    "avg_pro_aug = pro_aug.mean()\n",
    "avg_pro_sep = pro_sep.mean()\n",
    "avg_pro_oct = pro_oct.mean()\n",
    "avg_pro_nov = pro_nov.mean()\n",
    "avg_pro_dec = pro_dec.mean()"
   ]
  },
  {
   "cell_type": "markdown",
   "metadata": {},
   "source": [
    "#### Average Profit of Movie Based on Month of Release Date"
   ]
  },
  {
   "cell_type": "code",
   "execution_count": 182,
   "metadata": {},
   "outputs": [
    {
     "name": "stdout",
     "output_type": "stream",
     "text": [
      "January \t $ 53,226,190.33\n",
      "Febuaray \t $ 70,206,257.25\n",
      "March \t\t $ 99,969,545.22\n",
      "April \t\t $ 99,213,211.90\n",
      "May \t\t $ 216,497,087.71\n",
      "June \t\t $ 242,939,466.86\n",
      "July \t\t $ 150,503,215.67\n",
      "August \t\t $ 63,493,523.49\n",
      "September \t $ 65,931,508.92\n",
      "October \t $ 79,250,780.87\n",
      "November \t $ 160,315,338.81\n",
      "December \t $ 128,298,775.72\n"
     ]
    }
   ],
   "source": [
    "print('January \\t $ {:2,.2f}'.format(avg_pro_jan))\n",
    "print('Febuaray \\t $ {:2,.2f}'.format(avg_pro_feb))\n",
    "print('March \\t\\t $ {:2,.2f}'.format(avg_pro_mar))\n",
    "print('April \\t\\t $ {:2,.2f}'.format(avg_pro_apr))\n",
    "print('May \\t\\t $ {:2,.2f}'.format(avg_pro_may))\n",
    "print('June \\t\\t $ {:2,.2f}'.format(avg_pro_jun))\n",
    "print('July \\t\\t $ {:2,.2f}'.format(avg_pro_jul))\n",
    "print('August \\t\\t $ {:2,.2f}'.format(avg_pro_aug))\n",
    "print('September \\t $ {:2,.2f}'.format(avg_pro_sep))\n",
    "print('October \\t $ {:2,.2f}'.format(avg_pro_oct))\n",
    "print('November \\t $ {:2,.2f}'.format(avg_pro_nov))\n",
    "print('December \\t $ {:2,.2f}'.format(avg_pro_dec))"
   ]
  },
  {
   "cell_type": "code",
   "execution_count": 60,
   "metadata": {},
   "outputs": [
    {
     "data": {
      "text/plain": [
       "[53226190.32849057,\n",
       " 63493523.488673836,\n",
       " 65931508.918286704,\n",
       " 70206257.248451322,\n",
       " 79250780.865776166,\n",
       " 99213211.903472811,\n",
       " 99969545.21924603,\n",
       " 128298775.71900569,\n",
       " 150503215.66507143,\n",
       " 160315338.81354386,\n",
       " 216497087.70658118,\n",
       " 242939466.85618421]"
      ]
     },
     "execution_count": 60,
     "metadata": {},
     "output_type": "execute_result"
    }
   ],
   "source": [
    "list = [avg_pro_jan,avg_pro_feb,avg_pro_mar,avg_pro_apr,avg_pro_may,avg_pro_jun,avg_pro_jul,avg_pro_aug,avg_pro_sep,\n",
    "        avg_pro_oct,avg_pro_nov,avg_pro_dec]\n",
    "list.sort(key=int)\n",
    "list"
   ]
  },
  {
   "cell_type": "markdown",
   "metadata": {},
   "source": [
    "Looking at the sorted list above, we can see that movies released in June, May, November, December, and July are making more profit than the rest of the months. The months we listed are making about a hundred million dollars, whereas the rest of the months are making tens of millions dollars."
   ]
  },
  {
   "cell_type": "markdown",
   "metadata": {},
   "source": [
    "### Now, we'll look at the average profit of a movie based on its genre"
   ]
  },
  {
   "cell_type": "code",
   "execution_count": 61,
   "metadata": {
    "collapsed": true
   },
   "outputs": [],
   "source": [
    "pro_Drama = df[df['main_genre'] == \"Drama\"]['profit'].values\n",
    "pro_Comedy = df[df['main_genre'] == \"Comedy\"]['profit'].values\n",
    "pro_Action = df[df['main_genre'] == \"Action\"]['profit'].values\n",
    "pro_Adventure = df[df['main_genre'] == \"Adventure\"]['profit'].values\n",
    "pro_Crime = df[df['main_genre'] == \"Crime\"]['profit'].values\n",
    "pro_Horror = df[df['main_genre'] == \"Horror\"]['profit'].values\n",
    "pro_Animation = df[df['main_genre'] == \"Animation\"]['profit'].values\n",
    "pro_Fantasy = df[df['main_genre'] == \"Fantasy\"]['profit'].values\n",
    "pro_Thriller = df[df['main_genre'] == \"Thriller\"]['profit'].values\n",
    "pro_Romance = df[df['main_genre'] == \"Romance\"]['profit'].values\n",
    "pro_Science_Fiction = df[df['main_genre'] == \"Science Fiction\"]['profit'].values\n",
    "pro_Family = df[df['main_genre'] == \"Family\"]['profit'].values\n",
    "pro_Mystery = df[df['main_genre'] == \"Mystery\"]['profit'].values\n",
    "pro_Documentary = df[df['main_genre'] == \"Documentary\"]['profit'].values"
   ]
  },
  {
   "cell_type": "code",
   "execution_count": 62,
   "metadata": {
    "collapsed": true
   },
   "outputs": [],
   "source": [
    "avg_pro_Drama = pro_Drama.mean()\n",
    "avg_pro_Comedy = pro_Comedy.mean()\n",
    "avg_pro_Action = pro_Action.mean()\n",
    "avg_pro_Adventure = pro_Adventure.mean()\n",
    "avg_pro_Crime = pro_Crime.mean()\n",
    "avg_pro_Animation = pro_Animation.mean()\n",
    "avg_pro_Horror = pro_Horror.mean()\n",
    "avg_pro_Thriller = pro_Thriller.mean()\n",
    "avg_pro_Fantasy = pro_Fantasy.mean()\n",
    "avg_pro_Romance = pro_Romance.mean()\n",
    "avg_pro_Science_Fiction = pro_Science_Fiction.mean()\n",
    "avg_pro_Family = pro_Family.mean()\n",
    "avg_pro_Mystery = pro_Mystery.mean()\n",
    "avg_pro_Documentary = pro_Documentary.mean()"
   ]
  },
  {
   "cell_type": "markdown",
   "metadata": {},
   "source": [
    "#### Average Profit of Movie Based on Genre"
   ]
  },
  {
   "cell_type": "code",
   "execution_count": 181,
   "metadata": {},
   "outputs": [
    {
     "name": "stdout",
     "output_type": "stream",
     "text": [
      "Drama \t\t $ 77,430,809.13\n",
      "Comedy \t\t $ 87,639,961.28\n",
      "Action \t\t $ 131,022,965.90\n",
      "Adventure \t $ 224,685,720.49\n",
      "Horror \t\t $ 79,385,661.16\n",
      "Crime \t\t $ 74,390,269.56\n",
      "Animation \t $ 276,752,089.30\n",
      "Thriller \t $ 112,609,070.44\n",
      "Fantasy \t $ 184,877,015.78\n",
      "Romance \t $ 124,004,704.67\n",
      "Science Fiction  $ 224,334,316.81\n",
      "Family \t\t $ 317,038,190.16\n",
      "Mystery \t $ 49,438,678.08\n",
      "Documentary \t $ 17,800,210.77\n"
     ]
    }
   ],
   "source": [
    "print('Drama \\t\\t $ {:2,.2f}'.format(avg_pro_Drama))\n",
    "print('Comedy \\t\\t $ {:2,.2f}'.format(avg_pro_Comedy))\n",
    "print('Action \\t\\t $ {:2,.2f}'.format(avg_pro_Action))\n",
    "print('Adventure \\t $ {:2,.2f}'.format(avg_pro_Adventure))\n",
    "print('Horror \\t\\t $ {:2,.2f}'.format(avg_pro_Horror))\n",
    "print('Crime \\t\\t $ {:2,.2f}'.format(avg_pro_Crime))\n",
    "print('Animation \\t $ {:2,.2f}'.format(avg_pro_Animation))\n",
    "print('Thriller \\t $ {:2,.2f}'.format(avg_pro_Thriller))\n",
    "print('Fantasy \\t $ {:2,.2f}'.format(avg_pro_Fantasy))\n",
    "print('Romance \\t $ {:2,.2f}'.format(avg_pro_Romance))\n",
    "print('Science Fiction  $ {:2,.2f}'.format(avg_pro_Science_Fiction))\n",
    "print('Family \\t\\t $ {:2,.2f}'.format(avg_pro_Family))\n",
    "print('Mystery \\t $ {:2,.2f}'.format(avg_pro_Mystery))\n",
    "print('Documentary \\t $ {:2,.2f}'.format(avg_pro_Documentary))"
   ]
  },
  {
   "cell_type": "markdown",
   "metadata": {},
   "source": [
    "### Now we'll look at a movies' vote averages based on the month."
   ]
  },
  {
   "cell_type": "code",
   "execution_count": 142,
   "metadata": {
    "collapsed": true
   },
   "outputs": [],
   "source": [
    "vote_jan = df[df[\"month\"] == 1][\"vote_average\"].values\n",
    "vote_feb = df[df[\"month\"] == 2][\"vote_average\"].values\n",
    "vote_mar = df[df[\"month\"] == 3][\"vote_average\"].values\n",
    "vote_apr = df[df[\"month\"] == 4][\"vote_average\"].values\n",
    "vote_may = df[df[\"month\"] == 5][\"vote_average\"].values\n",
    "vote_jun = df[df[\"month\"] == 6][\"vote_average\"].values\n",
    "vote_jul = df[df[\"month\"] == 7][\"vote_average\"].values\n",
    "vote_aug = df[df[\"month\"] == 8][\"vote_average\"].values\n",
    "vote_sep = df[df[\"month\"] == 9][\"vote_average\"].values\n",
    "vote_oct = df[df[\"month\"] == 10][\"vote_average\"].values\n",
    "vote_nov = df[df[\"month\"] == 11][\"vote_average\"].values\n",
    "vote_dec = df[df[\"month\"] == 12][\"vote_average\"].values\n"
   ]
  },
  {
   "cell_type": "code",
   "execution_count": 143,
   "metadata": {
    "collapsed": true
   },
   "outputs": [],
   "source": [
    "avg_vote_jan = vote_jan.mean()\n",
    "avg_vote_feb = vote_feb.mean()\n",
    "avg_vote_mar = vote_mar.mean()\n",
    "avg_vote_apr = vote_apr.mean()\n",
    "avg_vote_may = vote_may.mean()\n",
    "avg_vote_jun = vote_jun.mean()\n",
    "avg_vote_jul = vote_jul.mean()\n",
    "avg_vote_aug = vote_aug.mean()\n",
    "avg_vote_sep = vote_sep.mean()\n",
    "avg_vote_oct = vote_oct.mean()\n",
    "avg_vote_nov = vote_nov.mean()\n",
    "avg_vote_dec = vote_dec.mean()"
   ]
  },
  {
   "cell_type": "markdown",
   "metadata": {},
   "source": [
    "#### Average Vote of Movies by Month"
   ]
  },
  {
   "cell_type": "code",
   "execution_count": 180,
   "metadata": {},
   "outputs": [
    {
     "name": "stdout",
     "output_type": "stream",
     "text": [
      "January \t 5.85031446541\n",
      "February \t 6.07743362832\n",
      "March \t\t 6.06904761905\n",
      "April \t\t 6.12594142259\n",
      "May \t\t 6.28974358974\n",
      "June \t\t 6.18848684211\n",
      "July \t\t 6.16178571429\n",
      "August \t\t 6.01863799283\n",
      "September \t 6.43391608392\n",
      "October \t 6.28700361011\n",
      "November \t 6.33543859649\n",
      "December \t 6.44176136364\n"
     ]
    }
   ],
   "source": [
    "print(\"January \\t\", avg_vote_jan)\n",
    "print(\"February \\t\", avg_vote_feb)\n",
    "print(\"March \\t\\t\", avg_vote_mar)\n",
    "print(\"April \\t\\t\", avg_vote_apr)\n",
    "print(\"May \\t\\t\", avg_vote_may)\n",
    "print(\"June \\t\\t\", avg_vote_jun)\n",
    "print(\"July \\t\\t\", avg_vote_jul)\n",
    "print(\"August \\t\\t\", avg_vote_aug)\n",
    "print(\"September \\t\", avg_vote_sep)\n",
    "print(\"October \\t\", avg_vote_oct)\n",
    "print(\"November \\t\", avg_vote_nov)\n",
    "print(\"December \\t\", avg_vote_dec)"
   ]
  },
  {
   "cell_type": "markdown",
   "metadata": {},
   "source": [
    "### Now we'll take a look at the ratios by genre for each month"
   ]
  },
  {
   "cell_type": "code",
   "execution_count": 167,
   "metadata": {
    "collapsed": true
   },
   "outputs": [],
   "source": [
    "# Use the method below to get the ratio of each genres in a month. \n",
    "def ratio_genre(df):\n",
    "    values = df.value_counts().keys().tolist()\n",
    "    counts = df.value_counts().tolist()\n",
    "    total = len(df)\n",
    "    j = 0\n",
    "    for i in counts:\n",
    "        ratio = i/total\n",
    "        if len(values[j]) > 7:\n",
    "            print(values[j] + \"\\t {:2.3f}\".format(ratio))\n",
    "        else: \n",
    "            print(values[j] + \"\\t\\t {:2.3f}\".format(ratio))\n",
    "        j = j+1"
   ]
  },
  {
   "cell_type": "markdown",
   "metadata": {},
   "source": [
    "#### Ratios by Genre for January "
   ]
  },
  {
   "cell_type": "code",
   "execution_count": 168,
   "metadata": {},
   "outputs": [
    {
     "name": "stdout",
     "output_type": "stream",
     "text": [
      "Action\t\t 0.270\n",
      "Comedy\t\t 0.233\n",
      "Drama\t\t 0.107\n",
      "Horror\t\t 0.094\n",
      "Thriller\t 0.069\n",
      "Crime\t\t 0.063\n",
      "Adventure\t 0.063\n",
      "Science Fiction\t 0.025\n",
      "Fantasy\t\t 0.025\n",
      "Mystery\t\t 0.013\n",
      "Romance\t\t 0.013\n",
      "Music\t\t 0.013\n",
      "War\t\t 0.013\n"
     ]
    }
   ],
   "source": [
    "toCkeck1 = df[df[\"month\"]==1]['main_genre']\n",
    "ratio_genre(toCkeck1)"
   ]
  },
  {
   "cell_type": "markdown",
   "metadata": {},
   "source": [
    "#### Ratios by Genre for February "
   ]
  },
  {
   "cell_type": "code",
   "execution_count": 169,
   "metadata": {},
   "outputs": [
    {
     "name": "stdout",
     "output_type": "stream",
     "text": [
      "Comedy\t\t 0.283\n",
      "Drama\t\t 0.195\n",
      "Action\t\t 0.173\n",
      "Adventure\t 0.080\n",
      "Crime\t\t 0.062\n",
      "Thriller\t 0.044\n",
      "Romance\t\t 0.040\n",
      "Animation\t 0.022\n",
      "Fantasy\t\t 0.022\n",
      "Music\t\t 0.022\n",
      "Science Fiction\t 0.018\n",
      "Horror\t\t 0.018\n",
      "Mystery\t\t 0.013\n",
      "Family\t\t 0.009\n"
     ]
    }
   ],
   "source": [
    "toCkeck2 = df[df[\"month\"]==2]['main_genre']\n",
    "ratio_genre(toCkeck2)"
   ]
  },
  {
   "cell_type": "markdown",
   "metadata": {},
   "source": [
    "#### Ratios by Genre for March "
   ]
  },
  {
   "cell_type": "code",
   "execution_count": 170,
   "metadata": {},
   "outputs": [
    {
     "name": "stdout",
     "output_type": "stream",
     "text": [
      "Comedy\t\t 0.198\n",
      "Action\t\t 0.194\n",
      "Drama\t\t 0.171\n",
      "Adventure\t 0.079\n",
      "Crime\t\t 0.075\n",
      "Animation\t 0.060\n",
      "Science Fiction\t 0.044\n",
      "Horror\t\t 0.044\n",
      "Romance\t\t 0.036\n",
      "Thriller\t 0.024\n",
      "Fantasy\t\t 0.024\n",
      "War\t\t 0.020\n",
      "Family\t\t 0.016\n",
      "Mystery\t\t 0.008\n",
      "Music\t\t 0.008\n"
     ]
    }
   ],
   "source": [
    "toCkeck3 = df[df[\"month\"]==3]['main_genre']\n",
    "ratio_genre(toCkeck3)"
   ]
  },
  {
   "cell_type": "markdown",
   "metadata": {},
   "source": [
    "#### Ratios by Genre for April "
   ]
  },
  {
   "cell_type": "code",
   "execution_count": 171,
   "metadata": {},
   "outputs": [
    {
     "name": "stdout",
     "output_type": "stream",
     "text": [
      "Comedy\t\t 0.305\n",
      "Action\t\t 0.255\n",
      "Drama\t\t 0.134\n",
      "Thriller\t 0.063\n",
      "Crime\t\t 0.063\n",
      "Horror\t\t 0.050\n",
      "Adventure\t 0.050\n",
      "Science Fiction\t 0.017\n",
      "Animation\t 0.017\n",
      "Family\t\t 0.017\n",
      "Mystery\t\t 0.008\n",
      "Western\t\t 0.008\n",
      "Documentary\t 0.004\n",
      "Fantasy\t\t 0.004\n",
      "Music\t\t 0.004\n"
     ]
    }
   ],
   "source": [
    "toCkeck4 = df[df[\"month\"]==4]['main_genre']\n",
    "ratio_genre(toCkeck4)"
   ]
  },
  {
   "cell_type": "markdown",
   "metadata": {},
   "source": [
    "#### Ratios by Genre for May "
   ]
  },
  {
   "cell_type": "code",
   "execution_count": 172,
   "metadata": {},
   "outputs": [
    {
     "name": "stdout",
     "output_type": "stream",
     "text": [
      "Action\t\t 0.218\n",
      "Adventure\t 0.167\n",
      "Comedy\t\t 0.162\n",
      "Drama\t\t 0.107\n",
      "Fantasy\t\t 0.094\n",
      "Science Fiction\t 0.064\n",
      "Thriller\t 0.056\n",
      "Horror\t\t 0.043\n",
      "Family\t\t 0.021\n",
      "Romance\t\t 0.017\n",
      "Crime\t\t 0.013\n",
      "Documentary\t 0.009\n",
      "Animation\t 0.009\n",
      "Western\t\t 0.009\n",
      "War\t\t 0.009\n",
      "Music\t\t 0.004\n"
     ]
    }
   ],
   "source": [
    "toCkeck5 = df[df[\"month\"]==5]['main_genre']\n",
    "ratio_genre(toCkeck5)"
   ]
  },
  {
   "cell_type": "markdown",
   "metadata": {},
   "source": [
    "#### Ratios by Genre for June "
   ]
  },
  {
   "cell_type": "code",
   "execution_count": 173,
   "metadata": {},
   "outputs": [
    {
     "name": "stdout",
     "output_type": "stream",
     "text": [
      "Comedy\t\t 0.243\n",
      "Action\t\t 0.240\n",
      "Animation\t 0.112\n",
      "Adventure\t 0.112\n",
      "Drama\t\t 0.099\n",
      "Romance\t\t 0.033\n",
      "Science Fiction\t 0.026\n",
      "Crime\t\t 0.026\n",
      "Horror\t\t 0.023\n",
      "Family\t\t 0.023\n",
      "Fantasy\t\t 0.023\n",
      "Thriller\t 0.020\n",
      "Documentary\t 0.007\n",
      "Mystery\t\t 0.007\n",
      "Music\t\t 0.007\n"
     ]
    }
   ],
   "source": [
    "toCkeck6 = df[df[\"month\"]==6]['main_genre']\n",
    "ratio_genre(toCkeck6)"
   ]
  },
  {
   "cell_type": "markdown",
   "metadata": {},
   "source": [
    "#### Ratios by Genre for July "
   ]
  },
  {
   "cell_type": "code",
   "execution_count": 174,
   "metadata": {},
   "outputs": [
    {
     "name": "stdout",
     "output_type": "stream",
     "text": [
      "Action\t\t 0.264\n",
      "Comedy\t\t 0.246\n",
      "Adventure\t 0.125\n",
      "Drama\t\t 0.104\n",
      "Fantasy\t\t 0.086\n",
      "Animation\t 0.036\n",
      "Horror\t\t 0.036\n",
      "Crime\t\t 0.025\n",
      "Family\t\t 0.018\n",
      "Romance\t\t 0.018\n",
      "Thriller\t 0.014\n",
      "Mystery\t\t 0.014\n",
      "History\t\t 0.007\n",
      "Music\t\t 0.007\n"
     ]
    }
   ],
   "source": [
    "toCkeck7 = df[df[\"month\"]==7]['main_genre']\n",
    "ratio_genre(toCkeck7)"
   ]
  },
  {
   "cell_type": "markdown",
   "metadata": {},
   "source": [
    "#### Ratios by Genre for August "
   ]
  },
  {
   "cell_type": "code",
   "execution_count": 175,
   "metadata": {},
   "outputs": [
    {
     "name": "stdout",
     "output_type": "stream",
     "text": [
      "Action\t\t 0.240\n",
      "Comedy\t\t 0.208\n",
      "Drama\t\t 0.201\n",
      "Horror\t\t 0.097\n",
      "Adventure\t 0.072\n",
      "Crime\t\t 0.039\n",
      "Science Fiction\t 0.029\n",
      "Thriller\t 0.022\n",
      "Romance\t\t 0.022\n",
      "Fantasy\t\t 0.018\n",
      "Music\t\t 0.014\n",
      "Animation\t 0.011\n",
      "Documentary\t 0.007\n",
      "Mystery\t\t 0.007\n",
      "Family\t\t 0.007\n",
      "History\t\t 0.007\n"
     ]
    }
   ],
   "source": [
    "toCkeck8 = df[df[\"month\"]==8]['main_genre']\n",
    "ratio_genre(toCkeck8)"
   ]
  },
  {
   "cell_type": "markdown",
   "metadata": {},
   "source": [
    "#### Ratios by Genre for September "
   ]
  },
  {
   "cell_type": "code",
   "execution_count": 176,
   "metadata": {},
   "outputs": [
    {
     "name": "stdout",
     "output_type": "stream",
     "text": [
      "Drama\t\t 0.346\n",
      "Comedy\t\t 0.171\n",
      "Action\t\t 0.140\n",
      "Thriller\t 0.070\n",
      "Crime\t\t 0.066\n",
      "Adventure\t 0.066\n",
      "Animation\t 0.035\n",
      "Romance\t\t 0.031\n",
      "Horror\t\t 0.028\n",
      "Mystery\t\t 0.021\n",
      "Documentary\t 0.010\n",
      "Science Fiction\t 0.007\n",
      "War\t\t 0.007\n"
     ]
    }
   ],
   "source": [
    "toCkeck9 = df[df[\"month\"]==9]['main_genre']\n",
    "ratio_genre(toCkeck9)"
   ]
  },
  {
   "cell_type": "markdown",
   "metadata": {},
   "source": [
    "#### Ratios by Genre for October "
   ]
  },
  {
   "cell_type": "code",
   "execution_count": 177,
   "metadata": {},
   "outputs": [
    {
     "name": "stdout",
     "output_type": "stream",
     "text": [
      "Comedy\t\t 0.227\n",
      "Drama\t\t 0.195\n",
      "Horror\t\t 0.166\n",
      "Action\t\t 0.130\n",
      "Adventure\t 0.065\n",
      "Fantasy\t\t 0.036\n",
      "Mystery\t\t 0.029\n",
      "Thriller\t 0.025\n",
      "Family\t\t 0.025\n",
      "Romance\t\t 0.025\n",
      "Crime\t\t 0.022\n",
      "Documentary\t 0.014\n",
      "War\t\t 0.014\n",
      "Animation\t 0.011\n",
      "Science Fiction\t 0.007\n",
      "Music\t\t 0.007\n"
     ]
    }
   ],
   "source": [
    "toCkeck10 = df[df[\"month\"]==10]['main_genre']\n",
    "ratio_genre(toCkeck10)"
   ]
  },
  {
   "cell_type": "markdown",
   "metadata": {},
   "source": [
    "#### Ratios by Genre for November "
   ]
  },
  {
   "cell_type": "code",
   "execution_count": 178,
   "metadata": {},
   "outputs": [
    {
     "name": "stdout",
     "output_type": "stream",
     "text": [
      "Drama\t\t 0.253\n",
      "Comedy\t\t 0.186\n",
      "Action\t\t 0.140\n",
      "Adventure\t 0.116\n",
      "Animation\t 0.067\n",
      "Science Fiction\t 0.042\n",
      "Horror\t\t 0.039\n",
      "Fantasy\t\t 0.039\n",
      "Thriller\t 0.032\n",
      "Family\t\t 0.032\n",
      "Crime\t\t 0.032\n",
      "Romance\t\t 0.018\n",
      "Mystery\t\t 0.007\n"
     ]
    }
   ],
   "source": [
    "toCkeck11 = df[df[\"month\"]==11]['main_genre']\n",
    "ratio_genre(toCkeck11)"
   ]
  },
  {
   "cell_type": "markdown",
   "metadata": {},
   "source": [
    "#### Ratios by Genre for December "
   ]
  },
  {
   "cell_type": "code",
   "execution_count": 179,
   "metadata": {},
   "outputs": [
    {
     "name": "stdout",
     "output_type": "stream",
     "text": [
      "Drama\t\t 0.355\n",
      "Comedy\t\t 0.267\n",
      "Action\t\t 0.105\n",
      "Adventure\t 0.074\n",
      "Thriller\t 0.040\n",
      "Romance\t\t 0.026\n",
      "Science Fiction\t 0.026\n",
      "Fantasy\t\t 0.026\n",
      "Crime\t\t 0.023\n",
      "Animation\t 0.017\n",
      "Horror\t\t 0.017\n",
      "War\t\t 0.011\n",
      "Western\t\t 0.006\n",
      "Family\t\t 0.003\n",
      "History\t\t 0.003\n",
      "Music\t\t 0.003\n"
     ]
    }
   ],
   "source": [
    "toCkeck12 = df[df[\"month\"]==12]['main_genre']\n",
    "ratio_genre(toCkeck12)"
   ]
  },
  {
   "cell_type": "markdown",
   "metadata": {},
   "source": [
    "## Linear Models\n",
    "In the next following cells, we will make some linear models, using Ordinary Least Squares (OLS). "
   ]
  },
  {
   "cell_type": "code",
   "execution_count": 80,
   "metadata": {
    "collapsed": true
   },
   "outputs": [],
   "source": [
    "# Creates a linear model to predict profit from month (using df as data)\n",
    "outcome_1, predictors_1 = patsy.dmatrices('profit ~ month', df)\n",
    "mod_1 = sm.OLS(outcome_1, predictors_1)\n",
    "res_1 = mod_1.fit()"
   ]
  },
  {
   "cell_type": "code",
   "execution_count": 81,
   "metadata": {},
   "outputs": [
    {
     "name": "stdout",
     "output_type": "stream",
     "text": [
      "                            OLS Regression Results                            \n",
      "==============================================================================\n",
      "Dep. Variable:                 profit   R-squared:                       0.001\n",
      "Model:                            OLS   Adj. R-squared:                  0.000\n",
      "Method:                 Least Squares   F-statistic:                     1.896\n",
      "Date:                Thu, 22 Mar 2018   Prob (F-statistic):              0.169\n",
      "Time:                        14:27:46   Log-Likelihood:                -65164.\n",
      "No. Observations:                3173   AIC:                         1.303e+05\n",
      "Df Residuals:                    3171   BIC:                         1.303e+05\n",
      "Df Model:                           1                                         \n",
      "Covariance Type:            nonrobust                                         \n",
      "==============================================================================\n",
      "                 coef    std err          t      P>|t|      [0.025      0.975]\n",
      "------------------------------------------------------------------------------\n",
      "Intercept   1.125e+08   8.22e+06     13.685      0.000    9.64e+07    1.29e+08\n",
      "month       1.456e+06   1.06e+06      1.377      0.169   -6.18e+05    3.53e+06\n",
      "==============================================================================\n",
      "Omnibus:                     2331.526   Durbin-Watson:                   1.590\n",
      "Prob(Omnibus):                  0.000   Jarque-Bera (JB):            50922.342\n",
      "Skew:                           3.286   Prob(JB):                         0.00\n",
      "Kurtosis:                      21.492   Cond. No.                         18.1\n",
      "==============================================================================\n",
      "\n",
      "Warnings:\n",
      "[1] Standard Errors assume that the covariance matrix of the errors is correctly specified.\n"
     ]
    }
   ],
   "source": [
    "# Print out the summary results of the model fitting\n",
    "print(res_1.summary())"
   ]
  },
  {
   "cell_type": "code",
   "execution_count": 82,
   "metadata": {
    "collapsed": true
   },
   "outputs": [],
   "source": [
    "# Creates a linear model to predict profit from both month and genre (using df as data)\n",
    "outcome_2, predictors_2 = patsy.dmatrices('profit ~ month + main_genre', df)\n",
    "mod_2 = sm.OLS(outcome_2, predictors_2)\n",
    "res_2 = mod_2.fit()"
   ]
  },
  {
   "cell_type": "code",
   "execution_count": 83,
   "metadata": {},
   "outputs": [
    {
     "name": "stdout",
     "output_type": "stream",
     "text": [
      "                            OLS Regression Results                            \n",
      "==============================================================================\n",
      "Dep. Variable:                 profit   R-squared:                       0.094\n",
      "Model:                            OLS   Adj. R-squared:                  0.089\n",
      "Method:                 Least Squares   F-statistic:                     18.15\n",
      "Date:                Thu, 22 Mar 2018   Prob (F-statistic):           1.91e-55\n",
      "Time:                        14:27:46   Log-Likelihood:                -65008.\n",
      "No. Observations:                3173   AIC:                         1.301e+05\n",
      "Df Residuals:                    3154   BIC:                         1.302e+05\n",
      "Df Model:                          18                                         \n",
      "Covariance Type:            nonrobust                                         \n",
      "=================================================================================================\n",
      "                                    coef    std err          t      P>|t|      [0.025      0.975]\n",
      "-------------------------------------------------------------------------------------------------\n",
      "Intercept                      1.166e+08   1.01e+07     11.513      0.000    9.68e+07    1.37e+08\n",
      "main_genre[T.Adventure]        9.218e+07   1.38e+07      6.682      0.000    6.51e+07    1.19e+08\n",
      "main_genre[T.Animation]        1.442e+08   1.98e+07      7.278      0.000    1.05e+08    1.83e+08\n",
      "main_genre[T.Comedy]          -4.463e+07   1.06e+07     -4.225      0.000   -6.53e+07   -2.39e+07\n",
      "main_genre[T.Crime]             -5.6e+07   1.86e+07     -3.012      0.003   -9.25e+07   -1.95e+07\n",
      "main_genre[T.Documentary]     -1.165e+08   5.19e+07     -2.246      0.025   -2.18e+08   -1.48e+07\n",
      "main_genre[T.Drama]            -5.75e+07   1.11e+07     -5.201      0.000   -7.92e+07   -3.58e+07\n",
      "main_genre[T.Family]           1.841e+08   2.93e+07      6.273      0.000    1.27e+08    2.42e+08\n",
      "main_genre[T.Fantasy]           5.24e+07   2.04e+07      2.574      0.010    1.25e+07    9.23e+07\n",
      "main_genre[T.History]         -7.812e+07   8.62e+07     -0.907      0.365   -2.47e+08    9.08e+07\n",
      "main_genre[T.Horror]          -5.367e+07   1.68e+07     -3.199      0.001   -8.66e+07   -2.08e+07\n",
      "main_genre[T.Music]           -5.696e+07   4.16e+07     -1.368      0.171   -1.39e+08    2.47e+07\n",
      "main_genre[T.Mystery]         -8.331e+07   3.43e+07     -2.429      0.015   -1.51e+08   -1.61e+07\n",
      "main_genre[T.Romance]         -8.503e+06   2.35e+07     -0.362      0.717   -5.45e+07    3.75e+07\n",
      "main_genre[T.Science Fiction]  9.257e+07   2.29e+07      4.036      0.000    4.76e+07    1.38e+08\n",
      "main_genre[T.Thriller]         -1.91e+07   1.91e+07     -1.001      0.317   -5.65e+07    1.83e+07\n",
      "main_genre[T.War]             -5.969e+07   4.47e+07     -1.336      0.182   -1.47e+08    2.79e+07\n",
      "main_genre[T.Western]         -2.976e+07   7.87e+07     -0.378      0.705   -1.84e+08    1.25e+08\n",
      "month                          2.271e+06   1.03e+06      2.211      0.027    2.57e+05    4.29e+06\n",
      "==============================================================================\n",
      "Omnibus:                     2292.283   Durbin-Watson:                   1.673\n",
      "Prob(Omnibus):                  0.000   Jarque-Bera (JB):            61773.561\n",
      "Skew:                           3.117   Prob(JB):                         0.00\n",
      "Kurtosis:                      23.697   Cond. No.                         198.\n",
      "==============================================================================\n",
      "\n",
      "Warnings:\n",
      "[1] Standard Errors assume that the covariance matrix of the errors is correctly specified.\n"
     ]
    }
   ],
   "source": [
    "# Print out the results \n",
    "print(res_2.summary())"
   ]
  },
  {
   "cell_type": "code",
   "execution_count": 84,
   "metadata": {
    "collapsed": true
   },
   "outputs": [],
   "source": [
    "# Creates a linear model to predict profit from both month, main production, and genre (using df as data)\n",
    "outcome_3, predictors_3 = patsy.dmatrices('profit ~ month + main_genre + main_production_company', df)\n",
    "mod_3 = sm.OLS(outcome_3, predictors_3)\n",
    "res_3 = mod_3.fit()"
   ]
  },
  {
   "cell_type": "code",
   "execution_count": 85,
   "metadata": {},
   "outputs": [
    {
     "name": "stdout",
     "output_type": "stream",
     "text": [
      "                            OLS Regression Results                            \n",
      "==============================================================================\n",
      "Dep. Variable:                 profit   R-squared:                       0.115\n",
      "Model:                            OLS   Adj. R-squared:                  0.105\n",
      "Method:                 Least Squares   F-statistic:                     11.05\n",
      "Date:                Thu, 22 Mar 2018   Prob (F-statistic):           9.55e-60\n",
      "Time:                        14:27:46   Log-Likelihood:                -64970.\n",
      "No. Observations:                3173   AIC:                         1.300e+05\n",
      "Df Residuals:                    3135   BIC:                         1.302e+05\n",
      "Df Model:                          37                                         \n",
      "Covariance Type:            nonrobust                                         \n",
      "=====================================================================================================================================\n",
      "                                                                        coef    std err          t      P>|t|      [0.025      0.975]\n",
      "-------------------------------------------------------------------------------------------------------------------------------------\n",
      "Intercept                                                           1.13e+08    1.4e+07      8.096      0.000    8.57e+07     1.4e+08\n",
      "main_genre[T.Adventure]                                            8.339e+07   1.39e+07      5.982      0.000    5.61e+07    1.11e+08\n",
      "main_genre[T.Animation]                                            1.139e+08   2.06e+07      5.537      0.000    7.36e+07    1.54e+08\n",
      "main_genre[T.Comedy]                                              -4.007e+07   1.06e+07     -3.778      0.000   -6.09e+07   -1.93e+07\n",
      "main_genre[T.Crime]                                               -4.309e+07   1.86e+07     -2.318      0.021   -7.95e+07   -6.64e+06\n",
      "main_genre[T.Documentary]                                         -1.037e+08   5.21e+07     -1.991      0.047   -2.06e+08   -1.56e+06\n",
      "main_genre[T.Drama]                                               -4.806e+07   1.12e+07     -4.306      0.000   -6.99e+07   -2.62e+07\n",
      "main_genre[T.Family]                                               1.669e+08   2.95e+07      5.653      0.000    1.09e+08    2.25e+08\n",
      "main_genre[T.Fantasy]                                              4.064e+07   2.04e+07      1.992      0.046    6.48e+05    8.06e+07\n",
      "main_genre[T.History]                                             -7.733e+07   8.58e+07     -0.901      0.368   -2.46e+08     9.1e+07\n",
      "main_genre[T.Horror]                                              -3.916e+07    1.7e+07     -2.310      0.021   -7.24e+07   -5.92e+06\n",
      "main_genre[T.Music]                                               -5.212e+07   4.18e+07     -1.248      0.212   -1.34e+08    2.98e+07\n",
      "main_genre[T.Mystery]                                             -7.749e+07   3.42e+07     -2.266      0.024   -1.45e+08   -1.04e+07\n",
      "main_genre[T.Romance]                                             -1.559e+06   2.35e+07     -0.066      0.947   -4.75e+07    4.44e+07\n",
      "main_genre[T.Science Fiction]                                      9.191e+07   2.29e+07      4.014      0.000     4.7e+07    1.37e+08\n",
      "main_genre[T.Thriller]                                            -1.374e+07   1.91e+07     -0.721      0.471   -5.11e+07    2.36e+07\n",
      "main_genre[T.War]                                                 -6.511e+07   4.44e+07     -1.465      0.143   -1.52e+08     2.2e+07\n",
      "main_genre[T.Western]                                             -2.911e+07   7.91e+07     -0.368      0.713   -1.84e+08    1.26e+08\n",
      "main_production_company[T.Columbia Pictures Corporation]          -3.666e+07   2.28e+07     -1.605      0.109   -8.15e+07    8.12e+06\n",
      "main_production_company[T.DreamWorks SKG]                          3.916e+07   2.06e+07      1.899      0.058   -1.27e+06    7.96e+07\n",
      "main_production_company[T.Fox Searchlight Pictures]               -4.563e+07   2.21e+07     -2.064      0.039    -8.9e+07   -2.28e+06\n",
      "main_production_company[T.Imagine Entertainment]                  -8.079e+06   2.71e+07     -0.298      0.766   -6.13e+07    4.51e+07\n",
      "main_production_company[T.Lions Gate Films]                        -3.68e+07   2.79e+07     -1.319      0.187   -9.15e+07    1.79e+07\n",
      "main_production_company[T.Lionsgate]                              -2.004e+07   2.64e+07     -0.759      0.448   -7.19e+07    3.18e+07\n",
      "main_production_company[T.Miramax Films]                          -3.667e+07    1.9e+07     -1.931      0.054   -7.39e+07    5.56e+05\n",
      "main_production_company[T.New Line Cinema]                        -3.077e+07   1.55e+07     -1.981      0.048   -6.12e+07   -3.08e+05\n",
      "main_production_company[T.Paramount Pictures]                      2.247e+07   1.41e+07      1.597      0.110   -5.11e+06    5.01e+07\n",
      "main_production_company[T.Regency Enterprises]                    -2.416e+07   2.69e+07     -0.898      0.369   -7.69e+07    2.86e+07\n",
      "main_production_company[T.Summit Entertainment]                     -5.3e+06    2.3e+07     -0.230      0.818   -5.05e+07    3.99e+07\n",
      "main_production_company[T.The Weinstein Company]                  -7.103e+07   2.74e+07     -2.597      0.009   -1.25e+08   -1.74e+07\n",
      "main_production_company[T.Touchstone Pictures]                    -3.116e+07   2.72e+07     -1.146      0.252   -8.45e+07    2.21e+07\n",
      "main_production_company[T.TriStar Pictures]                       -4.786e+07   2.37e+07     -2.019      0.044   -9.43e+07   -1.39e+06\n",
      "main_production_company[T.Twentieth Century Fox Film Corporation]  2.006e+07   1.54e+07      1.305      0.192   -1.01e+07    5.02e+07\n",
      "main_production_company[T.Universal Pictures]                      1.039e+07   1.38e+07      0.750      0.453   -1.68e+07    3.75e+07\n",
      "main_production_company[T.Village Roadshow Pictures]              -1.264e+06   1.93e+07     -0.065      0.948   -3.92e+07    3.67e+07\n",
      "main_production_company[T.Walt Disney Pictures]                    6.793e+07   1.73e+07      3.936      0.000    3.41e+07    1.02e+08\n",
      "main_production_company[T.Warner Bros.]                            1.179e+07   2.24e+07      0.525      0.599   -3.22e+07    5.58e+07\n",
      "month                                                              2.364e+06   1.03e+06      2.300      0.022    3.48e+05    4.38e+06\n",
      "==============================================================================\n",
      "Omnibus:                     2271.014   Durbin-Watson:                   1.710\n",
      "Prob(Omnibus):                  0.000   Jarque-Bera (JB):            60979.110\n",
      "Skew:                           3.074   Prob(JB):                         0.00\n",
      "Kurtosis:                      23.578   Cond. No.                         199.\n",
      "==============================================================================\n",
      "\n",
      "Warnings:\n",
      "[1] Standard Errors assume that the covariance matrix of the errors is correctly specified.\n"
     ]
    }
   ],
   "source": [
    "# Print out the results \n",
    "print(res_3.summary())"
   ]
  },
  {
   "cell_type": "code",
   "execution_count": 86,
   "metadata": {
    "collapsed": true
   },
   "outputs": [],
   "source": [
    "# Creates a linear model to predict profit from vote_average (using df as data)\n",
    "outcome_4, predictors_4 = patsy.dmatrices('profit ~ vote_average', df)\n",
    "mod_4 = sm.OLS(outcome_4, predictors_4)\n",
    "res_4 = mod_4.fit()"
   ]
  },
  {
   "cell_type": "code",
   "execution_count": 87,
   "metadata": {},
   "outputs": [
    {
     "name": "stdout",
     "output_type": "stream",
     "text": [
      "                            OLS Regression Results                            \n",
      "==============================================================================\n",
      "Dep. Variable:                 profit   R-squared:                       0.096\n",
      "Model:                            OLS   Adj. R-squared:                  0.096\n",
      "Method:                 Least Squares   F-statistic:                     337.6\n",
      "Date:                Thu, 22 Mar 2018   Prob (F-statistic):           9.94e-72\n",
      "Time:                        14:27:46   Log-Likelihood:                -65004.\n",
      "No. Observations:                3173   AIC:                         1.300e+05\n",
      "Df Residuals:                    3171   BIC:                         1.300e+05\n",
      "Df Model:                           1                                         \n",
      "Covariance Type:            nonrobust                                         \n",
      "================================================================================\n",
      "                   coef    std err          t      P>|t|      [0.025      0.975]\n",
      "--------------------------------------------------------------------------------\n",
      "Intercept    -3.591e+08   2.64e+07    -13.582      0.000   -4.11e+08   -3.07e+08\n",
      "vote_average  7.757e+07   4.22e+06     18.374      0.000    6.93e+07    8.58e+07\n",
      "==============================================================================\n",
      "Omnibus:                     2236.326   Durbin-Watson:                   1.641\n",
      "Prob(Omnibus):                  0.000   Jarque-Bera (JB):            48339.763\n",
      "Skew:                           3.090   Prob(JB):                         0.00\n",
      "Kurtosis:                      21.096   Cond. No.                         50.1\n",
      "==============================================================================\n",
      "\n",
      "Warnings:\n",
      "[1] Standard Errors assume that the covariance matrix of the errors is correctly specified.\n"
     ]
    }
   ],
   "source": [
    "# Print out the results \n",
    "print(res_4.summary())"
   ]
  },
  {
   "cell_type": "code",
   "execution_count": 88,
   "metadata": {
    "collapsed": true
   },
   "outputs": [],
   "source": [
    "# Creates a linear model to predict profit from both vote_average and genre (using df as data)\n",
    "outcome_5, predictors_5 = patsy.dmatrices('profit ~ vote_average + main_genre', df)\n",
    "mod_5 = sm.OLS(outcome_5, predictors_5)\n",
    "res_5 = mod_5.fit()"
   ]
  },
  {
   "cell_type": "code",
   "execution_count": 89,
   "metadata": {},
   "outputs": [
    {
     "name": "stdout",
     "output_type": "stream",
     "text": [
      "                            OLS Regression Results                            \n",
      "==============================================================================\n",
      "Dep. Variable:                 profit   R-squared:                       0.203\n",
      "Model:                            OLS   Adj. R-squared:                  0.198\n",
      "Method:                 Least Squares   F-statistic:                     44.61\n",
      "Date:                Thu, 22 Mar 2018   Prob (F-statistic):          1.31e-140\n",
      "Time:                        14:27:46   Log-Likelihood:                -64805.\n",
      "No. Observations:                3173   AIC:                         1.296e+05\n",
      "Df Residuals:                    3154   BIC:                         1.298e+05\n",
      "Df Model:                          18                                         \n",
      "Covariance Type:            nonrobust                                         \n",
      "=================================================================================================\n",
      "                                    coef    std err          t      P>|t|      [0.025      0.975]\n",
      "-------------------------------------------------------------------------------------------------\n",
      "Intercept                      -3.99e+08   2.64e+07    -15.127      0.000   -4.51e+08   -3.47e+08\n",
      "main_genre[T.Adventure]        6.787e+07    1.3e+07      5.228      0.000    4.24e+07    9.33e+07\n",
      "main_genre[T.Animation]        1.082e+08   1.87e+07      5.804      0.000    7.17e+07    1.45e+08\n",
      "main_genre[T.Comedy]          -3.825e+07    9.9e+06     -3.865      0.000   -5.77e+07   -1.88e+07\n",
      "main_genre[T.Crime]            -9.97e+07   1.76e+07     -5.679      0.000   -1.34e+08   -6.53e+07\n",
      "main_genre[T.Documentary]     -1.884e+08   4.88e+07     -3.863      0.000   -2.84e+08   -9.28e+07\n",
      "main_genre[T.Drama]           -1.021e+08   1.05e+07     -9.732      0.000   -1.23e+08   -8.16e+07\n",
      "main_genre[T.Family]            1.71e+08   2.75e+07      6.212      0.000    1.17e+08    2.25e+08\n",
      "main_genre[T.Fantasy]          6.336e+07   1.91e+07      3.319      0.001    2.59e+07    1.01e+08\n",
      "main_genre[T.History]         -1.082e+08   8.08e+07     -1.339      0.181   -2.67e+08    5.02e+07\n",
      "main_genre[T.Horror]           -3.69e+07   1.57e+07     -2.346      0.019   -6.77e+07   -6.06e+06\n",
      "main_genre[T.Music]           -1.083e+08   3.91e+07     -2.769      0.006   -1.85e+08   -3.16e+07\n",
      "main_genre[T.Mystery]          -1.08e+08   3.22e+07     -3.355      0.001   -1.71e+08   -4.49e+07\n",
      "main_genre[T.Romance]         -3.959e+07   2.21e+07     -1.794      0.073   -8.29e+07    3.68e+06\n",
      "main_genre[T.Science Fiction]  7.953e+07   2.15e+07      3.695      0.000    3.73e+07    1.22e+08\n",
      "main_genre[T.Thriller]        -4.295e+07   1.79e+07     -2.394      0.017   -7.81e+07   -7.77e+06\n",
      "main_genre[T.War]             -1.209e+08    4.2e+07     -2.876      0.004   -2.03e+08   -3.85e+07\n",
      "main_genre[T.Western]         -9.942e+07   7.39e+07     -1.346      0.179   -2.44e+08    4.55e+07\n",
      "vote_average                   8.798e+07   4.21e+06     20.907      0.000    7.97e+07    9.62e+07\n",
      "==============================================================================\n",
      "Omnibus:                     2249.399   Durbin-Watson:                   1.749\n",
      "Prob(Omnibus):                  0.000   Jarque-Bera (JB):            67768.097\n",
      "Skew:                           2.985   Prob(JB):                         0.00\n",
      "Kurtosis:                      24.839   Cond. No.                         161.\n",
      "==============================================================================\n",
      "\n",
      "Warnings:\n",
      "[1] Standard Errors assume that the covariance matrix of the errors is correctly specified.\n"
     ]
    }
   ],
   "source": [
    "# Print out the results \n",
    "print(res_5.summary())"
   ]
  },
  {
   "cell_type": "code",
   "execution_count": 90,
   "metadata": {
    "collapsed": true
   },
   "outputs": [],
   "source": [
    "# Creates a linear model to predict profit from both month and vote_average (using df as data)\n",
    "outcome_6, predictors_6 = patsy.dmatrices('profit ~ vote_average + month', df)\n",
    "mod_6 = sm.OLS(outcome_6, predictors_6)\n",
    "res_6 = mod_6.fit()"
   ]
  },
  {
   "cell_type": "code",
   "execution_count": 91,
   "metadata": {},
   "outputs": [
    {
     "name": "stdout",
     "output_type": "stream",
     "text": [
      "                            OLS Regression Results                            \n",
      "==============================================================================\n",
      "Dep. Variable:                 profit   R-squared:                       0.097\n",
      "Model:                            OLS   Adj. R-squared:                  0.096\n",
      "Method:                 Least Squares   F-statistic:                     169.9\n",
      "Date:                Thu, 22 Mar 2018   Prob (F-statistic):           7.85e-71\n",
      "Time:                        14:27:46   Log-Likelihood:                -65003.\n",
      "No. Observations:                3173   AIC:                         1.300e+05\n",
      "Df Residuals:                    3170   BIC:                         1.300e+05\n",
      "Df Model:                           2                                         \n",
      "Covariance Type:            nonrobust                                         \n",
      "================================================================================\n",
      "                   coef    std err          t      P>|t|      [0.025      0.975]\n",
      "--------------------------------------------------------------------------------\n",
      "Intercept    -3.548e+08   2.66e+07    -13.339      0.000   -4.07e+08   -3.03e+08\n",
      "vote_average  7.855e+07   4.27e+06     18.378      0.000    7.02e+07    8.69e+07\n",
      "month        -1.492e+06   1.02e+06     -1.465      0.143   -3.49e+06    5.05e+05\n",
      "==============================================================================\n",
      "Omnibus:                     2235.189   Durbin-Watson:                   1.643\n",
      "Prob(Omnibus):                  0.000   Jarque-Bera (JB):            48526.431\n",
      "Skew:                           3.085   Prob(JB):                         0.00\n",
      "Kurtosis:                      21.137   Cond. No.                         77.7\n",
      "==============================================================================\n",
      "\n",
      "Warnings:\n",
      "[1] Standard Errors assume that the covariance matrix of the errors is correctly specified.\n"
     ]
    }
   ],
   "source": [
    "# Print out the results \n",
    "print(res_6.summary())"
   ]
  },
  {
   "cell_type": "code",
   "execution_count": 92,
   "metadata": {
    "collapsed": true
   },
   "outputs": [],
   "source": [
    "# Creates a linear model to predict profit from adjusted_budget (using df as data)\n",
    "outcome_7, predictors_7 = patsy.dmatrices('profit ~ adjusted_budget', df)\n",
    "mod_7 = sm.OLS(outcome_7, predictors_7)\n",
    "res_7 = mod_7.fit()"
   ]
  },
  {
   "cell_type": "code",
   "execution_count": 93,
   "metadata": {},
   "outputs": [
    {
     "name": "stdout",
     "output_type": "stream",
     "text": [
      "                            OLS Regression Results                            \n",
      "==============================================================================\n",
      "Dep. Variable:                 profit   R-squared:                       0.228\n",
      "Model:                            OLS   Adj. R-squared:                  0.228\n",
      "Method:                 Least Squares   F-statistic:                     935.4\n",
      "Date:                Thu, 22 Mar 2018   Prob (F-statistic):          2.95e-180\n",
      "Time:                        14:27:46   Log-Likelihood:                -64755.\n",
      "No. Observations:                3173   AIC:                         1.295e+05\n",
      "Df Residuals:                    3171   BIC:                         1.295e+05\n",
      "Df Model:                           1                                         \n",
      "Covariance Type:            nonrobust                                         \n",
      "===================================================================================\n",
      "                      coef    std err          t      P>|t|      [0.025      0.975]\n",
      "-----------------------------------------------------------------------------------\n",
      "Intercept        7.635e+06    4.9e+06      1.559      0.119   -1.97e+06    1.72e+07\n",
      "adjusted_budget     1.8039      0.059     30.585      0.000       1.688       1.920\n",
      "==============================================================================\n",
      "Omnibus:                     1931.523   Durbin-Watson:                   1.789\n",
      "Prob(Omnibus):                  0.000   Jarque-Bera (JB):            35003.673\n",
      "Skew:                           2.555   Prob(JB):                         0.00\n",
      "Kurtosis:                      18.448   Cond. No.                     1.30e+08\n",
      "==============================================================================\n",
      "\n",
      "Warnings:\n",
      "[1] Standard Errors assume that the covariance matrix of the errors is correctly specified.\n",
      "[2] The condition number is large, 1.3e+08. This might indicate that there are\n",
      "strong multicollinearity or other numerical problems.\n"
     ]
    }
   ],
   "source": [
    "# Print out the results \n",
    "print(res_7.summary())"
   ]
  },
  {
   "cell_type": "code",
   "execution_count": 94,
   "metadata": {
    "collapsed": true
   },
   "outputs": [],
   "source": [
    "# Creates a linear model to predict profit from both adjusted_budget and vote_average (using df as data)\n",
    "outcome_8, predictors_8 = patsy.dmatrices('profit ~ adjusted_budget + vote_average', df)\n",
    "mod_8 = sm.OLS(outcome_8, predictors_8)\n",
    "res_8 = mod_8.fit()"
   ]
  },
  {
   "cell_type": "code",
   "execution_count": 95,
   "metadata": {},
   "outputs": [
    {
     "name": "stdout",
     "output_type": "stream",
     "text": [
      "                            OLS Regression Results                            \n",
      "==============================================================================\n",
      "Dep. Variable:                 profit   R-squared:                       0.311\n",
      "Model:                            OLS   Adj. R-squared:                  0.310\n",
      "Method:                 Least Squares   F-statistic:                     713.9\n",
      "Date:                Thu, 22 Mar 2018   Prob (F-statistic):          1.05e-256\n",
      "Time:                        14:27:46   Log-Likelihood:                -64575.\n",
      "No. Observations:                3173   AIC:                         1.292e+05\n",
      "Df Residuals:                    3170   BIC:                         1.292e+05\n",
      "Df Model:                           2                                         \n",
      "Covariance Type:            nonrobust                                         \n",
      "===================================================================================\n",
      "                      coef    std err          t      P>|t|      [0.025      0.975]\n",
      "-----------------------------------------------------------------------------------\n",
      "Intercept       -4.364e+08   2.32e+07    -18.787      0.000   -4.82e+08   -3.91e+08\n",
      "adjusted_budget     1.7518      0.056     31.393      0.000       1.642       1.861\n",
      "vote_average     7.202e+07   3.69e+06     19.507      0.000    6.48e+07    7.93e+07\n",
      "==============================================================================\n",
      "Omnibus:                     1868.651   Durbin-Watson:                   1.846\n",
      "Prob(Omnibus):                  0.000   Jarque-Bera (JB):            33970.285\n",
      "Skew:                           2.436   Prob(JB):                         0.00\n",
      "Kurtosis:                      18.271   Cond. No.                     6.59e+08\n",
      "==============================================================================\n",
      "\n",
      "Warnings:\n",
      "[1] Standard Errors assume that the covariance matrix of the errors is correctly specified.\n",
      "[2] The condition number is large, 6.59e+08. This might indicate that there are\n",
      "strong multicollinearity or other numerical problems.\n"
     ]
    }
   ],
   "source": [
    "# Print out the results \n",
    "print(res_8.summary())"
   ]
  },
  {
   "cell_type": "code",
   "execution_count": 96,
   "metadata": {
    "collapsed": true
   },
   "outputs": [],
   "source": [
    "# Creates a linear model to predict profit from both month, adjusted_budget, and vote_average (using df as data)\n",
    "outcome_9, predictors_9 = patsy.dmatrices('profit ~ adjusted_budget + vote_average + month', df)\n",
    "mod_9 = sm.OLS(outcome_9, predictors_9)\n",
    "res_9 = mod_9.fit()"
   ]
  },
  {
   "cell_type": "code",
   "execution_count": 97,
   "metadata": {},
   "outputs": [
    {
     "name": "stdout",
     "output_type": "stream",
     "text": [
      "                            OLS Regression Results                            \n",
      "==============================================================================\n",
      "Dep. Variable:                 profit   R-squared:                       0.312\n",
      "Model:                            OLS   Adj. R-squared:                  0.311\n",
      "Method:                 Least Squares   F-statistic:                     478.3\n",
      "Date:                Thu, 22 Mar 2018   Prob (F-statistic):          2.47e-256\n",
      "Time:                        14:27:46   Log-Likelihood:                -64572.\n",
      "No. Observations:                3173   AIC:                         1.292e+05\n",
      "Df Residuals:                    3169   BIC:                         1.292e+05\n",
      "Df Model:                           3                                         \n",
      "Covariance Type:            nonrobust                                         \n",
      "===================================================================================\n",
      "                      coef    std err          t      P>|t|      [0.025      0.975]\n",
      "-----------------------------------------------------------------------------------\n",
      "Intercept       -4.307e+08   2.34e+07    -18.444      0.000   -4.76e+08   -3.85e+08\n",
      "adjusted_budget     1.7541      0.056     31.450      0.000       1.645       1.864\n",
      "vote_average     7.334e+07   3.74e+06     19.633      0.000     6.6e+07    8.07e+07\n",
      "month           -2.011e+06   8.89e+05     -2.261      0.024   -3.76e+06   -2.67e+05\n",
      "==============================================================================\n",
      "Omnibus:                     1869.970   Durbin-Watson:                   1.848\n",
      "Prob(Omnibus):                  0.000   Jarque-Bera (JB):            34247.340\n",
      "Skew:                           2.436   Prob(JB):                         0.00\n",
      "Kurtosis:                      18.340   Cond. No.                     6.62e+08\n",
      "==============================================================================\n",
      "\n",
      "Warnings:\n",
      "[1] Standard Errors assume that the covariance matrix of the errors is correctly specified.\n",
      "[2] The condition number is large, 6.62e+08. This might indicate that there are\n",
      "strong multicollinearity or other numerical problems.\n"
     ]
    }
   ],
   "source": [
    "# Print out the results \n",
    "print(res_9.summary())"
   ]
  },
  {
   "cell_type": "markdown",
   "metadata": {},
   "source": [
    "# Privacy/Ethics Considerations\n",
    "We do have permission to use this data, for this purpose. These are open, public datasets released on Kaggle. There are no privacy concerns regarding our datasets that we need to deal with and there are no terms of use that we need to comply with. However, there are biases in our dataset. Dropping the production companies that did not produce the specified amount of films, made our data consist of well-known companies. This means that our data may have been biased towards main-stream production companies. Indie films were probably lost from our finalized data because indie films tend to be made by more indie productions, which probably do not produce as many as the more main stream production companies. These lists contain more American movies, so the genres are more geared toward Hollywood. Also, due to inflation, the value of money varied by year. To address this, we used an inflation rate package to find the adjusted value for ‘budget’ and ‘revenue’ (to the year 2016). We also trimmed the list to movies made after 1989. There did not seem to be any other issues related to our topic area, data, and/or analyses that are problematic in terms of data privacy and equitable impact."
   ]
  },
  {
   "cell_type": "markdown",
   "metadata": {},
   "source": [
    "# Conclusions and Discussions"
   ]
  },
  {
   "cell_type": "code",
   "execution_count": null,
   "metadata": {
    "collapsed": true
   },
   "outputs": [],
   "source": [
    "#  We have evidence supporting our research question:\n",
    "#    Are there specific months for movie release dates that generate more revenue \n",
    "#   in the box office? Is there a correlation between movie budgets and their success in the box office?\n",
    "\n",
    "ans = True\n",
    "\n"
   ]
  },
  {
   "cell_type": "markdown",
   "metadata": {},
   "source": [
    "summarizing the results:\n",
    "big budget, mid-summer movie releases generate greater revenue"
   ]
  },
  {
   "cell_type": "markdown",
   "metadata": {},
   "source": [
    "Conclusions ：We started with checking the different production companies, including how many films were produced from each company. Any production company that produces more than 50 films will be kept in our data. By plot the data, using scatter matrix and bar chart, we want to visualize the number of movies in each genre and movies' return rates. We hope to find the correlation between genera and profit, month and profit. By looking at the sorted list, we see that movies released in June, May, November, December, and July are making more profits compared to that of the rest of the month. We then did data analysis to find the average profit of movies in different genres. Family movie is that genre that makes the most profit 317038190.16 dollar. Our data contain no identifiable information about people included in the dataset. We has followed the set of guidelines and requirements regarding the treatment of human subjects, and the collection, storage, use, and dissemination of data for our data collected and used for research purposes. "
   ]
  },
  {
   "cell_type": "markdown",
   "metadata": {},
   "source": [
    "Discussions：This project will contribute to the movie industry. They can make prediction that movies released in certain month and in certain genre in the United States will sell more tickets. One problem of the project is that we are only analysiize the data from the United State box office. Users cannot make prediction of international seel using this project. Also, consumer tastes and demands change, movie producers should not only focus on the profit. We should value real arts as well."
   ]
  }
 ],
 "metadata": {
  "kernelspec": {
   "display_name": "Python 3",
   "language": "python",
   "name": "python3"
  },
  "language_info": {
   "codemirror_mode": {
    "name": "ipython",
    "version": 3
   },
   "file_extension": ".py",
   "mimetype": "text/x-python",
   "name": "python",
   "nbconvert_exporter": "python",
   "pygments_lexer": "ipython3",
   "version": "3.6.3"
  }
 },
 "nbformat": 4,
 "nbformat_minor": 2
}
